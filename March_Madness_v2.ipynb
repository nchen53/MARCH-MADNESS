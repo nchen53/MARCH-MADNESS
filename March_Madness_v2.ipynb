{
 "cells": [
  {
   "cell_type": "markdown",
   "metadata": {
    "id": "Tu6xsurwHKRz"
   },
   "source": [
    "# 输入"
   ]
  },
  {
   "cell_type": "code",
   "execution_count": 1,
   "metadata": {
    "colab": {
     "base_uri": "https://localhost:8080/"
    },
    "id": "04apToJhE0i5",
    "outputId": "1029f9eb-9953-4949-ecd9-61e5b4d34c50"
   },
   "outputs": [],
   "source": [
    "#from google.colab import drive\n",
    "#drive.mount('/content/drive')"
   ]
  },
  {
   "cell_type": "code",
   "execution_count": 2,
   "metadata": {
    "id": "Jra0_m4jDqAs"
   },
   "outputs": [],
   "source": [
    "import matplotlib.pyplot as plt\n",
    "plt.style.use('ggplot')\n",
    "\n",
    "from math import sin, cos, sqrt, atan2, radians\n",
    "import numpy as np\n",
    "import pandas as pd\n",
    "import random\n",
    "from sklearn.model_selection import train_test_split\n",
    "from sklearn.linear_model import LogisticRegression\n",
    "from sklearn.ensemble import RandomForestClassifier\n",
    "from sklearn.svm import SVC\n",
    "from sklearn.neural_network import MLPClassifier\n",
    "from sklearn.metrics import (auc, classification_report, roc_auc_score, accuracy_score,\n",
    "                             f1_score, log_loss, roc_curve, confusion_matrix, precision_score, recall_score)\n",
    "import statsmodels.formula.api as smf\n",
    "\n",
    "np.random.seed(0)"
   ]
  },
  {
   "cell_type": "code",
   "execution_count": 3,
   "metadata": {
    "colab": {
     "base_uri": "https://localhost:8080/"
    },
    "id": "9MOoRo49GJCj",
    "outputId": "ef34026c-8717-47de-e5ba-8e1334a615b4"
   },
   "outputs": [
    {
     "data": {
      "text/plain": [
       "array(['team1_id', 'team1_score', 'team2_id', 'team2_score', 'WLoc',\n",
       "       'num_ot', 'team1_position', 'team2_position', 'team1_seed',\n",
       "       'team2_seed', 'strongseed', 'weakseed', 'team1_region',\n",
       "       'team2_region', 'slot', 'team1_teamname', 'team2_teamname',\n",
       "       'season', 'host', 'host_lat', 'host_long', 'team1_lat',\n",
       "       'team1_long', 'team2_lat', 'team2_long', 'team1_coach_id',\n",
       "       'team1_pt_school_ncaa', 'team1_pt_overall_ncaa',\n",
       "       'team1_pt_school_s16', 'team1_pt_overall_s16',\n",
       "       'team1_pt_school_ff', 'team1_pt_overall_ff',\n",
       "       'team1_pt_career_school_wins', 'team1_pt_career_school_losses',\n",
       "       'team1_pt_career_overall_wins', 'team1_pt_career_overall_losses',\n",
       "       'team1_pt_team_season_wins', 'team1_pt_team_season_losses',\n",
       "       'team1_pt_coach_season_wins', 'team1_pt_coach_season_losses',\n",
       "       'team2_coach_id', 'team2_pt_school_ncaa', 'team2_pt_overall_ncaa',\n",
       "       'team2_pt_school_s16', 'team2_pt_overall_s16',\n",
       "       'team2_pt_school_ff', 'team2_pt_overall_ff',\n",
       "       'team2_pt_career_school_wins', 'team2_pt_career_school_losses',\n",
       "       'team2_pt_career_overall_wins', 'team2_pt_career_overall_losses',\n",
       "       'team2_pt_team_season_wins', 'team2_pt_team_season_losses',\n",
       "       'team2_pt_coach_season_wins', 'team2_pt_coach_season_losses',\n",
       "       'team1_ap_final', 'team1_ap_preseason',\n",
       "       'team1_coaches_before_final', 'team1_coaches_preseason',\n",
       "       'team2_ap_final', 'team2_ap_preseason',\n",
       "       'team2_coaches_before_final', 'team2_coaches_preseason',\n",
       "       'team1_fg2pct', 'team1_fg3pct', 'team1_ftpct', 'team1_blockpct',\n",
       "       'team1_oppfg2pct', 'team1_oppfg3pct', 'team1_oppftpct',\n",
       "       'team1_oppblockpct', 'team1_f3grate', 'team1_oppf3grate',\n",
       "       'team1_arate', 'team1_opparate', 'team1_stlrate',\n",
       "       'team1_oppstlrate', 'team2_fg2pct', 'team2_fg3pct', 'team2_ftpct',\n",
       "       'team2_blockpct', 'team2_oppfg2pct', 'team2_oppfg3pct',\n",
       "       'team2_oppftpct', 'team2_oppblockpct', 'team2_f3grate',\n",
       "       'team2_oppf3grate', 'team2_arate', 'team2_opparate',\n",
       "       'team2_stlrate', 'team2_oppstlrate', 'team1_tempo',\n",
       "       'team1_adjtempo', 'team1_oe', 'team1_adjoe', 'team1_de',\n",
       "       'team1_adjde', 'team2_tempo', 'team2_adjtempo', 'team2_oe',\n",
       "       'team2_adjoe', 'team2_de', 'team2_adjde', 'game_id'], dtype=object)"
      ]
     },
     "execution_count": 3,
     "metadata": {},
     "output_type": "execute_result"
    }
   ],
   "source": [
    "mm_data = pd.read_csv('NCAA_Tourney_2002_2021.csv')\n",
    "real_data = pd.read_csv('NCAA_Tourney_2022.csv')\n",
    "mm_data.columns.values"
   ]
  },
  {
   "cell_type": "code",
   "execution_count": 4,
   "metadata": {
    "id": "67AklYSPHKsZ"
   },
   "outputs": [],
   "source": [
    "mm_data = pd.read_csv('NCAA_Tourney_2002_2021.csv').query(\"season<2021\").reset_index(drop=True)"
   ]
  },
  {
   "cell_type": "code",
   "execution_count": 5,
   "metadata": {
    "id": "y4nXYj9HHKyH"
   },
   "outputs": [
    {
     "data": {
      "text/plain": [
       "['team1_id',\n",
       " 'team1_score',\n",
       " 'team2_id',\n",
       " 'team2_score',\n",
       " 'WLoc',\n",
       " 'num_ot',\n",
       " 'team1_position',\n",
       " 'team2_position',\n",
       " 'team1_seed',\n",
       " 'team2_seed',\n",
       " 'strongseed',\n",
       " 'weakseed',\n",
       " 'team1_region',\n",
       " 'team2_region',\n",
       " 'slot',\n",
       " 'team1_teamname',\n",
       " 'team2_teamname',\n",
       " 'season',\n",
       " 'host',\n",
       " 'host_lat',\n",
       " 'host_long',\n",
       " 'team1_lat',\n",
       " 'team1_long',\n",
       " 'team2_lat',\n",
       " 'team2_long',\n",
       " 'team1_coach_id',\n",
       " 'team1_pt_school_ncaa',\n",
       " 'team1_pt_overall_ncaa',\n",
       " 'team1_pt_school_s16',\n",
       " 'team1_pt_overall_s16',\n",
       " 'team1_pt_school_ff',\n",
       " 'team1_pt_overall_ff',\n",
       " 'team1_pt_career_school_wins',\n",
       " 'team1_pt_career_school_losses',\n",
       " 'team1_pt_career_overall_wins',\n",
       " 'team1_pt_career_overall_losses',\n",
       " 'team1_pt_team_season_wins',\n",
       " 'team1_pt_team_season_losses',\n",
       " 'team1_pt_coach_season_wins',\n",
       " 'team1_pt_coach_season_losses',\n",
       " 'team2_coach_id',\n",
       " 'team2_pt_school_ncaa',\n",
       " 'team2_pt_overall_ncaa',\n",
       " 'team2_pt_school_s16',\n",
       " 'team2_pt_overall_s16',\n",
       " 'team2_pt_school_ff',\n",
       " 'team2_pt_overall_ff',\n",
       " 'team2_pt_career_school_wins',\n",
       " 'team2_pt_career_school_losses',\n",
       " 'team2_pt_career_overall_wins',\n",
       " 'team2_pt_career_overall_losses',\n",
       " 'team2_pt_team_season_wins',\n",
       " 'team2_pt_team_season_losses',\n",
       " 'team2_pt_coach_season_wins',\n",
       " 'team2_pt_coach_season_losses',\n",
       " 'team1_ap_final',\n",
       " 'team1_ap_preseason',\n",
       " 'team1_coaches_before_final',\n",
       " 'team1_coaches_preseason',\n",
       " 'team2_ap_final',\n",
       " 'team2_ap_preseason',\n",
       " 'team2_coaches_before_final',\n",
       " 'team2_coaches_preseason',\n",
       " 'team1_fg2pct',\n",
       " 'team1_fg3pct',\n",
       " 'team1_ftpct',\n",
       " 'team1_blockpct',\n",
       " 'team1_oppfg2pct',\n",
       " 'team1_oppfg3pct',\n",
       " 'team1_oppftpct',\n",
       " 'team1_oppblockpct',\n",
       " 'team1_f3grate',\n",
       " 'team1_oppf3grate',\n",
       " 'team1_arate',\n",
       " 'team1_opparate',\n",
       " 'team1_stlrate',\n",
       " 'team1_oppstlrate',\n",
       " 'team2_fg2pct',\n",
       " 'team2_fg3pct',\n",
       " 'team2_ftpct',\n",
       " 'team2_blockpct',\n",
       " 'team2_oppfg2pct',\n",
       " 'team2_oppfg3pct',\n",
       " 'team2_oppftpct',\n",
       " 'team2_oppblockpct',\n",
       " 'team2_f3grate',\n",
       " 'team2_oppf3grate',\n",
       " 'team2_arate',\n",
       " 'team2_opparate',\n",
       " 'team2_stlrate',\n",
       " 'team2_oppstlrate',\n",
       " 'team1_tempo',\n",
       " 'team1_adjtempo',\n",
       " 'team1_oe',\n",
       " 'team1_adjoe',\n",
       " 'team1_de',\n",
       " 'team1_adjde',\n",
       " 'team2_tempo',\n",
       " 'team2_adjtempo',\n",
       " 'team2_oe',\n",
       " 'team2_adjoe',\n",
       " 'team2_de',\n",
       " 'team2_adjde',\n",
       " 'game_id']"
      ]
     },
     "execution_count": 5,
     "metadata": {},
     "output_type": "execute_result"
    }
   ],
   "source": [
    "list(mm_data.columns)"
   ]
  },
  {
   "cell_type": "code",
   "execution_count": 6,
   "metadata": {
    "id": "Hy3Vk2a-HK9c"
   },
   "outputs": [
    {
     "data": {
      "text/plain": [
       "['team1_teamname', 'team2_teamname']"
      ]
     },
     "execution_count": 6,
     "metadata": {},
     "output_type": "execute_result"
    }
   ],
   "source": [
    "[x for x in mm_data.columns if 'name' in x]  "
   ]
  },
  {
   "cell_type": "code",
   "execution_count": null,
   "metadata": {
    "id": "jyGug8-eM3cI"
   },
   "outputs": [],
   "source": []
  },
  {
   "cell_type": "markdown",
   "metadata": {
    "id": "g3nmxLNMHiCv"
   },
   "source": [
    "# Pythag College Basketball\n",
    "E(W%) = points scored^11.5 / (points scored^11.5+points allowed^11.5)"
   ]
  },
  {
   "cell_type": "code",
   "execution_count": 7,
   "metadata": {
    "id": "Vh_DFL0_HLDk"
   },
   "outputs": [],
   "source": [
    "mm_data['exp_win1'] = (mm_data['team1_adjoe']**11.5)/ ((mm_data['team1_adjde']**11.5)+(mm_data['team1_adjoe']**11.5))\n",
    "mm_data['exp_win2'] = (mm_data['team2_adjoe']**11.5)/ ((mm_data['team2_adjde']**11.5)+(mm_data['team2_adjoe']**11.5))\n"
   ]
  },
  {
   "cell_type": "markdown",
   "metadata": {
    "id": "3Ajzn4pcHoFL"
   },
   "source": [
    "# Log Odds\n",
    "P(W) = (A - A B) / (A + B - 2A*B)"
   ]
  },
  {
   "cell_type": "code",
   "execution_count": 8,
   "metadata": {
    "colab": {
     "base_uri": "https://localhost:8080/",
     "height": 518
    },
    "id": "evzqsfEmHLGT",
    "outputId": "c6243ec7-e888-4952-8706-794d9dae41da"
   },
   "outputs": [],
   "source": [
    "mm_data['team1_log5'] = (mm_data['exp_win1'] - (mm_data['exp_win1']*mm_data['exp_win2']))/ (mm_data['exp_win1']+mm_data['exp_win2']-(2*mm_data['exp_win1']*mm_data['exp_win2']))\n"
   ]
  },
  {
   "cell_type": "code",
   "execution_count": 9,
   "metadata": {
    "colab": {
     "base_uri": "https://localhost:8080/",
     "height": 357
    },
    "id": "4YsXgm_kHLJL",
    "outputId": "79fb9bfa-1538-43ce-9a6e-9087b2145c65"
   },
   "outputs": [
    {
     "data": {
      "text/html": [
       "<div>\n",
       "<style scoped>\n",
       "    .dataframe tbody tr th:only-of-type {\n",
       "        vertical-align: middle;\n",
       "    }\n",
       "\n",
       "    .dataframe tbody tr th {\n",
       "        vertical-align: top;\n",
       "    }\n",
       "\n",
       "    .dataframe thead th {\n",
       "        text-align: right;\n",
       "    }\n",
       "</style>\n",
       "<table border=\"1\" class=\"dataframe\">\n",
       "  <thead>\n",
       "    <tr style=\"text-align: right;\">\n",
       "      <th></th>\n",
       "      <th>team1_adjoe</th>\n",
       "      <th>team1_teamname</th>\n",
       "      <th>season</th>\n",
       "      <th>team2_teamname</th>\n",
       "      <th>team1_adjde</th>\n",
       "      <th>exp_win1</th>\n",
       "      <th>exp_win2</th>\n",
       "      <th>team1_log5</th>\n",
       "    </tr>\n",
       "  </thead>\n",
       "  <tbody>\n",
       "    <tr>\n",
       "      <th>921</th>\n",
       "      <td>119.7250</td>\n",
       "      <td>Kentucky</td>\n",
       "      <td>2015</td>\n",
       "      <td>Hampton</td>\n",
       "      <td>85.8155</td>\n",
       "      <td>0.978741</td>\n",
       "      <td>0.312700</td>\n",
       "      <td>0.990214</td>\n",
       "    </tr>\n",
       "    <tr>\n",
       "      <th>462</th>\n",
       "      <td>116.1109</td>\n",
       "      <td>UCLA</td>\n",
       "      <td>2008</td>\n",
       "      <td>MS Valley St</td>\n",
       "      <td>89.3351</td>\n",
       "      <td>0.953236</td>\n",
       "      <td>0.197019</td>\n",
       "      <td>0.988106</td>\n",
       "    </tr>\n",
       "    <tr>\n",
       "      <th>199</th>\n",
       "      <td>117.6452</td>\n",
       "      <td>Duke</td>\n",
       "      <td>2004</td>\n",
       "      <td>Alabama St</td>\n",
       "      <td>89.6445</td>\n",
       "      <td>0.957950</td>\n",
       "      <td>0.246514</td>\n",
       "      <td>0.985842</td>\n",
       "    </tr>\n",
       "    <tr>\n",
       "      <th>70</th>\n",
       "      <td>118.5999</td>\n",
       "      <td>Duke</td>\n",
       "      <td>2002</td>\n",
       "      <td>Winthrop</td>\n",
       "      <td>87.7504</td>\n",
       "      <td>0.969660</td>\n",
       "      <td>0.367453</td>\n",
       "      <td>0.982148</td>\n",
       "    </tr>\n",
       "    <tr>\n",
       "      <th>25</th>\n",
       "      <td>123.6930</td>\n",
       "      <td>Virginia</td>\n",
       "      <td>2019</td>\n",
       "      <td>Gardner Webb</td>\n",
       "      <td>88.0404</td>\n",
       "      <td>0.980355</td>\n",
       "      <td>0.480146</td>\n",
       "      <td>0.981828</td>\n",
       "    </tr>\n",
       "  </tbody>\n",
       "</table>\n",
       "</div>"
      ],
      "text/plain": [
       "     team1_adjoe team1_teamname  season team2_teamname  team1_adjde  exp_win1  \\\n",
       "921     119.7250       Kentucky    2015        Hampton      85.8155  0.978741   \n",
       "462     116.1109           UCLA    2008   MS Valley St      89.3351  0.953236   \n",
       "199     117.6452           Duke    2004     Alabama St      89.6445  0.957950   \n",
       "70      118.5999           Duke    2002       Winthrop      87.7504  0.969660   \n",
       "25      123.6930       Virginia    2019   Gardner Webb      88.0404  0.980355   \n",
       "\n",
       "     exp_win2  team1_log5  \n",
       "921  0.312700    0.990214  \n",
       "462  0.197019    0.988106  \n",
       "199  0.246514    0.985842  \n",
       "70   0.367453    0.982148  \n",
       "25   0.480146    0.981828  "
      ]
     },
     "execution_count": 9,
     "metadata": {},
     "output_type": "execute_result"
    }
   ],
   "source": [
    "(mm_data\n",
    " [['team1_adjoe','team1_teamname','season','team2_teamname','team1_adjde','exp_win1','exp_win2','team1_log5']]\n",
    " .sort_values(\"team1_log5\", ascending=False).head())"
   ]
  },
  {
   "cell_type": "markdown",
   "metadata": {
    "id": "uBANUklDH09B"
   },
   "source": [
    "# Seed Diff"
   ]
  },
  {
   "cell_type": "code",
   "execution_count": 10,
   "metadata": {
    "colab": {
     "base_uri": "https://localhost:8080/",
     "height": 206
    },
    "id": "1sCOzAxvH1Wc",
    "outputId": "a5b4a0bd-0d28-4207-9f2d-53cb60aca8a4"
   },
   "outputs": [
    {
     "data": {
      "text/html": [
       "<div>\n",
       "<style scoped>\n",
       "    .dataframe tbody tr th:only-of-type {\n",
       "        vertical-align: middle;\n",
       "    }\n",
       "\n",
       "    .dataframe tbody tr th {\n",
       "        vertical-align: top;\n",
       "    }\n",
       "\n",
       "    .dataframe thead th {\n",
       "        text-align: right;\n",
       "    }\n",
       "</style>\n",
       "<table border=\"1\" class=\"dataframe\">\n",
       "  <thead>\n",
       "    <tr style=\"text-align: right;\">\n",
       "      <th></th>\n",
       "      <th>game_id</th>\n",
       "      <th>exp_win1</th>\n",
       "      <th>exp_win2</th>\n",
       "      <th>team2_score</th>\n",
       "      <th>team1_score</th>\n",
       "      <th>team1_log5</th>\n",
       "      <th>team1_id</th>\n",
       "      <th>team2_id</th>\n",
       "      <th>team1_seed</th>\n",
       "      <th>team2_seed</th>\n",
       "      <th>seed_diff</th>\n",
       "    </tr>\n",
       "  </thead>\n",
       "  <tbody>\n",
       "    <tr>\n",
       "      <th>0</th>\n",
       "      <td>2019-1192-1341</td>\n",
       "      <td>0.389061</td>\n",
       "      <td>0.382990</td>\n",
       "      <td>76</td>\n",
       "      <td>82</td>\n",
       "      <td>0.506403</td>\n",
       "      <td>1192</td>\n",
       "      <td>1341</td>\n",
       "      <td>16</td>\n",
       "      <td>16</td>\n",
       "      <td>0</td>\n",
       "    </tr>\n",
       "    <tr>\n",
       "      <th>1</th>\n",
       "      <td>2019-1125-1396</td>\n",
       "      <td>0.800207</td>\n",
       "      <td>0.738939</td>\n",
       "      <td>70</td>\n",
       "      <td>81</td>\n",
       "      <td>0.585922</td>\n",
       "      <td>1125</td>\n",
       "      <td>1396</td>\n",
       "      <td>11</td>\n",
       "      <td>11</td>\n",
       "      <td>0</td>\n",
       "    </tr>\n",
       "    <tr>\n",
       "      <th>2</th>\n",
       "      <td>2019-1295-1300</td>\n",
       "      <td>0.415885</td>\n",
       "      <td>0.208404</td>\n",
       "      <td>74</td>\n",
       "      <td>78</td>\n",
       "      <td>0.730051</td>\n",
       "      <td>1295</td>\n",
       "      <td>1300</td>\n",
       "      <td>16</td>\n",
       "      <td>16</td>\n",
       "      <td>0</td>\n",
       "    </tr>\n",
       "    <tr>\n",
       "      <th>3</th>\n",
       "      <td>2019-1113-1385</td>\n",
       "      <td>0.774944</td>\n",
       "      <td>0.721882</td>\n",
       "      <td>65</td>\n",
       "      <td>74</td>\n",
       "      <td>0.570190</td>\n",
       "      <td>1113</td>\n",
       "      <td>1385</td>\n",
       "      <td>11</td>\n",
       "      <td>11</td>\n",
       "      <td>0</td>\n",
       "    </tr>\n",
       "    <tr>\n",
       "      <th>4</th>\n",
       "      <td>2019-1278-1257</td>\n",
       "      <td>0.833312</td>\n",
       "      <td>0.913200</td>\n",
       "      <td>76</td>\n",
       "      <td>86</td>\n",
       "      <td>0.322116</td>\n",
       "      <td>1278</td>\n",
       "      <td>1257</td>\n",
       "      <td>10</td>\n",
       "      <td>7</td>\n",
       "      <td>3</td>\n",
       "    </tr>\n",
       "  </tbody>\n",
       "</table>\n",
       "</div>"
      ],
      "text/plain": [
       "          game_id  exp_win1  exp_win2  team2_score  team1_score  team1_log5  \\\n",
       "0  2019-1192-1341  0.389061  0.382990           76           82    0.506403   \n",
       "1  2019-1125-1396  0.800207  0.738939           70           81    0.585922   \n",
       "2  2019-1295-1300  0.415885  0.208404           74           78    0.730051   \n",
       "3  2019-1113-1385  0.774944  0.721882           65           74    0.570190   \n",
       "4  2019-1278-1257  0.833312  0.913200           76           86    0.322116   \n",
       "\n",
       "   team1_id  team2_id  team1_seed  team2_seed  seed_diff  \n",
       "0      1192      1341          16          16          0  \n",
       "1      1125      1396          11          11          0  \n",
       "2      1295      1300          16          16          0  \n",
       "3      1113      1385          11          11          0  \n",
       "4      1278      1257          10           7          3  "
      ]
     },
     "execution_count": 10,
     "metadata": {},
     "output_type": "execute_result"
    }
   ],
   "source": [
    "mm_data['seed_diff'] = mm_data['team1_seed'] - mm_data['team2_seed']\n",
    "mm_data[['game_id','exp_win1','exp_win2','team2_score',\n",
    "         'team1_score','team1_log5','team1_id','team2_id','team1_seed','team2_seed','seed_diff']].head()"
   ]
  },
  {
   "cell_type": "markdown",
   "metadata": {
    "id": "CaIsaMgCOopx"
   },
   "source": [
    "# NET Efficiency"
   ]
  },
  {
   "cell_type": "markdown",
   "metadata": {
    "id": "Ms6iLnC2QTqR"
   },
   "source": [
    "Net efficiency = team1_oe - team2_oe"
   ]
  },
  {
   "cell_type": "code",
   "execution_count": 11,
   "metadata": {
    "colab": {
     "base_uri": "https://localhost:8080/",
     "height": 835
    },
    "id": "Eusv1CaWOZOG",
    "outputId": "78ff5b75-ac15-4560-e5f9-001c7d687f51"
   },
   "outputs": [
    {
     "data": {
      "text/html": [
       "<div>\n",
       "<style scoped>\n",
       "    .dataframe tbody tr th:only-of-type {\n",
       "        vertical-align: middle;\n",
       "    }\n",
       "\n",
       "    .dataframe tbody tr th {\n",
       "        vertical-align: top;\n",
       "    }\n",
       "\n",
       "    .dataframe thead th {\n",
       "        text-align: right;\n",
       "    }\n",
       "</style>\n",
       "<table border=\"1\" class=\"dataframe\">\n",
       "  <thead>\n",
       "    <tr style=\"text-align: right;\">\n",
       "      <th></th>\n",
       "      <th>team1_id</th>\n",
       "      <th>team1_score</th>\n",
       "      <th>team2_id</th>\n",
       "      <th>team2_score</th>\n",
       "      <th>WLoc</th>\n",
       "      <th>num_ot</th>\n",
       "      <th>team1_position</th>\n",
       "      <th>team2_position</th>\n",
       "      <th>team1_seed</th>\n",
       "      <th>team2_seed</th>\n",
       "      <th>...</th>\n",
       "      <th>team2_oe</th>\n",
       "      <th>team2_adjoe</th>\n",
       "      <th>team2_de</th>\n",
       "      <th>team2_adjde</th>\n",
       "      <th>game_id</th>\n",
       "      <th>exp_win1</th>\n",
       "      <th>exp_win2</th>\n",
       "      <th>team1_log5</th>\n",
       "      <th>seed_diff</th>\n",
       "      <th>team1_net_eff</th>\n",
       "    </tr>\n",
       "  </thead>\n",
       "  <tbody>\n",
       "    <tr>\n",
       "      <th>0</th>\n",
       "      <td>1192</td>\n",
       "      <td>82</td>\n",
       "      <td>1341</td>\n",
       "      <td>76</td>\n",
       "      <td>N</td>\n",
       "      <td>0</td>\n",
       "      <td>X16a</td>\n",
       "      <td>X16b</td>\n",
       "      <td>16</td>\n",
       "      <td>16</td>\n",
       "      <td>...</td>\n",
       "      <td>103.1200</td>\n",
       "      <td>101.6550</td>\n",
       "      <td>99.7542</td>\n",
       "      <td>105.9590</td>\n",
       "      <td>2019-1192-1341</td>\n",
       "      <td>0.389061</td>\n",
       "      <td>0.382990</td>\n",
       "      <td>0.506403</td>\n",
       "      <td>0</td>\n",
       "      <td>5.2500</td>\n",
       "    </tr>\n",
       "    <tr>\n",
       "      <th>1</th>\n",
       "      <td>1125</td>\n",
       "      <td>81</td>\n",
       "      <td>1396</td>\n",
       "      <td>70</td>\n",
       "      <td>N</td>\n",
       "      <td>0</td>\n",
       "      <td>W11a</td>\n",
       "      <td>W11b</td>\n",
       "      <td>11</td>\n",
       "      <td>11</td>\n",
       "      <td>...</td>\n",
       "      <td>105.3060</td>\n",
       "      <td>108.9910</td>\n",
       "      <td>100.1860</td>\n",
       "      <td>99.5630</td>\n",
       "      <td>2019-1125-1396</td>\n",
       "      <td>0.800207</td>\n",
       "      <td>0.738939</td>\n",
       "      <td>0.585922</td>\n",
       "      <td>0</td>\n",
       "      <td>11.0870</td>\n",
       "    </tr>\n",
       "    <tr>\n",
       "      <th>2</th>\n",
       "      <td>1295</td>\n",
       "      <td>78</td>\n",
       "      <td>1300</td>\n",
       "      <td>74</td>\n",
       "      <td>N</td>\n",
       "      <td>0</td>\n",
       "      <td>W16a</td>\n",
       "      <td>W16b</td>\n",
       "      <td>16</td>\n",
       "      <td>16</td>\n",
       "      <td>...</td>\n",
       "      <td>100.5020</td>\n",
       "      <td>96.7551</td>\n",
       "      <td>100.7490</td>\n",
       "      <td>108.6610</td>\n",
       "      <td>2019-1295-1300</td>\n",
       "      <td>0.415885</td>\n",
       "      <td>0.208404</td>\n",
       "      <td>0.730051</td>\n",
       "      <td>0</td>\n",
       "      <td>7.6960</td>\n",
       "    </tr>\n",
       "    <tr>\n",
       "      <th>3</th>\n",
       "      <td>1113</td>\n",
       "      <td>74</td>\n",
       "      <td>1385</td>\n",
       "      <td>65</td>\n",
       "      <td>N</td>\n",
       "      <td>0</td>\n",
       "      <td>X11a</td>\n",
       "      <td>X11b</td>\n",
       "      <td>11</td>\n",
       "      <td>11</td>\n",
       "      <td>...</td>\n",
       "      <td>105.9880</td>\n",
       "      <td>109.7820</td>\n",
       "      <td>102.5140</td>\n",
       "      <td>101.0440</td>\n",
       "      <td>2019-1113-1385</td>\n",
       "      <td>0.774944</td>\n",
       "      <td>0.721882</td>\n",
       "      <td>0.570190</td>\n",
       "      <td>0</td>\n",
       "      <td>0.4380</td>\n",
       "    </tr>\n",
       "    <tr>\n",
       "      <th>4</th>\n",
       "      <td>1278</td>\n",
       "      <td>86</td>\n",
       "      <td>1257</td>\n",
       "      <td>76</td>\n",
       "      <td>N</td>\n",
       "      <td>0</td>\n",
       "      <td>W10</td>\n",
       "      <td>W07</td>\n",
       "      <td>10</td>\n",
       "      <td>7</td>\n",
       "      <td>...</td>\n",
       "      <td>107.2430</td>\n",
       "      <td>113.5030</td>\n",
       "      <td>97.6744</td>\n",
       "      <td>92.4983</td>\n",
       "      <td>2019-1278-1257</td>\n",
       "      <td>0.833312</td>\n",
       "      <td>0.913200</td>\n",
       "      <td>0.322116</td>\n",
       "      <td>3</td>\n",
       "      <td>-3.9450</td>\n",
       "    </tr>\n",
       "    <tr>\n",
       "      <th>...</th>\n",
       "      <td>...</td>\n",
       "      <td>...</td>\n",
       "      <td>...</td>\n",
       "      <td>...</td>\n",
       "      <td>...</td>\n",
       "      <td>...</td>\n",
       "      <td>...</td>\n",
       "      <td>...</td>\n",
       "      <td>...</td>\n",
       "      <td>...</td>\n",
       "      <td>...</td>\n",
       "      <td>...</td>\n",
       "      <td>...</td>\n",
       "      <td>...</td>\n",
       "      <td>...</td>\n",
       "      <td>...</td>\n",
       "      <td>...</td>\n",
       "      <td>...</td>\n",
       "      <td>...</td>\n",
       "      <td>...</td>\n",
       "      <td>...</td>\n",
       "    </tr>\n",
       "    <tr>\n",
       "      <th>95</th>\n",
       "      <td>1356</td>\n",
       "      <td>76</td>\n",
       "      <td>1403</td>\n",
       "      <td>68</td>\n",
       "      <td>N</td>\n",
       "      <td>0</td>\n",
       "      <td>W11</td>\n",
       "      <td>W06</td>\n",
       "      <td>11</td>\n",
       "      <td>6</td>\n",
       "      <td>...</td>\n",
       "      <td>109.0757</td>\n",
       "      <td>112.4064</td>\n",
       "      <td>97.7252</td>\n",
       "      <td>96.9711</td>\n",
       "      <td>2002-1356-1403</td>\n",
       "      <td>0.775902</td>\n",
       "      <td>0.845357</td>\n",
       "      <td>0.387769</td>\n",
       "      <td>5</td>\n",
       "      <td>-1.9833</td>\n",
       "    </tr>\n",
       "    <tr>\n",
       "      <th>96</th>\n",
       "      <td>1400</td>\n",
       "      <td>70</td>\n",
       "      <td>1130</td>\n",
       "      <td>57</td>\n",
       "      <td>N</td>\n",
       "      <td>0</td>\n",
       "      <td>X06</td>\n",
       "      <td>X11</td>\n",
       "      <td>6</td>\n",
       "      <td>11</td>\n",
       "      <td>...</td>\n",
       "      <td>103.7066</td>\n",
       "      <td>107.0112</td>\n",
       "      <td>99.2527</td>\n",
       "      <td>97.6867</td>\n",
       "      <td>2002-1400-1130</td>\n",
       "      <td>0.822470</td>\n",
       "      <td>0.740474</td>\n",
       "      <td>0.618866</td>\n",
       "      <td>-5</td>\n",
       "      <td>6.1933</td>\n",
       "    </tr>\n",
       "    <tr>\n",
       "      <th>97</th>\n",
       "      <td>1417</td>\n",
       "      <td>80</td>\n",
       "      <td>1279</td>\n",
       "      <td>58</td>\n",
       "      <td>N</td>\n",
       "      <td>0</td>\n",
       "      <td>Z08</td>\n",
       "      <td>Z09</td>\n",
       "      <td>8</td>\n",
       "      <td>9</td>\n",
       "      <td>...</td>\n",
       "      <td>107.7291</td>\n",
       "      <td>112.3212</td>\n",
       "      <td>95.6265</td>\n",
       "      <td>94.8577</td>\n",
       "      <td>2002-1417-1279</td>\n",
       "      <td>0.824566</td>\n",
       "      <td>0.874717</td>\n",
       "      <td>0.402339</td>\n",
       "      <td>-1</td>\n",
       "      <td>-1.4851</td>\n",
       "    </tr>\n",
       "    <tr>\n",
       "      <th>98</th>\n",
       "      <td>1458</td>\n",
       "      <td>80</td>\n",
       "      <td>1385</td>\n",
       "      <td>70</td>\n",
       "      <td>N</td>\n",
       "      <td>0</td>\n",
       "      <td>W08</td>\n",
       "      <td>W09</td>\n",
       "      <td>8</td>\n",
       "      <td>9</td>\n",
       "      <td>...</td>\n",
       "      <td>97.0139</td>\n",
       "      <td>99.3518</td>\n",
       "      <td>94.3765</td>\n",
       "      <td>91.7203</td>\n",
       "      <td>2002-1458-1385</td>\n",
       "      <td>0.796964</td>\n",
       "      <td>0.714862</td>\n",
       "      <td>0.610236</td>\n",
       "      <td>-1</td>\n",
       "      <td>6.0152</td>\n",
       "    </tr>\n",
       "    <tr>\n",
       "      <th>99</th>\n",
       "      <td>1462</td>\n",
       "      <td>70</td>\n",
       "      <td>1218</td>\n",
       "      <td>58</td>\n",
       "      <td>N</td>\n",
       "      <td>0</td>\n",
       "      <td>Z07</td>\n",
       "      <td>Z10</td>\n",
       "      <td>7</td>\n",
       "      <td>10</td>\n",
       "      <td>...</td>\n",
       "      <td>108.4417</td>\n",
       "      <td>110.4563</td>\n",
       "      <td>94.6345</td>\n",
       "      <td>96.6259</td>\n",
       "      <td>2002-1462-1218</td>\n",
       "      <td>0.876667</td>\n",
       "      <td>0.823231</td>\n",
       "      <td>0.604165</td>\n",
       "      <td>-3</td>\n",
       "      <td>-0.0903</td>\n",
       "    </tr>\n",
       "  </tbody>\n",
       "</table>\n",
       "<p>100 rows × 109 columns</p>\n",
       "</div>"
      ],
      "text/plain": [
       "    team1_id  team1_score  team2_id  team2_score WLoc  num_ot team1_position  \\\n",
       "0       1192           82      1341           76    N       0           X16a   \n",
       "1       1125           81      1396           70    N       0           W11a   \n",
       "2       1295           78      1300           74    N       0           W16a   \n",
       "3       1113           74      1385           65    N       0           X11a   \n",
       "4       1278           86      1257           76    N       0            W10   \n",
       "..       ...          ...       ...          ...  ...     ...            ...   \n",
       "95      1356           76      1403           68    N       0            W11   \n",
       "96      1400           70      1130           57    N       0            X06   \n",
       "97      1417           80      1279           58    N       0            Z08   \n",
       "98      1458           80      1385           70    N       0            W08   \n",
       "99      1462           70      1218           58    N       0            Z07   \n",
       "\n",
       "   team2_position  team1_seed  team2_seed  ...  team2_oe  team2_adjoe  \\\n",
       "0            X16b          16          16  ...  103.1200     101.6550   \n",
       "1            W11b          11          11  ...  105.3060     108.9910   \n",
       "2            W16b          16          16  ...  100.5020      96.7551   \n",
       "3            X11b          11          11  ...  105.9880     109.7820   \n",
       "4             W07          10           7  ...  107.2430     113.5030   \n",
       "..            ...         ...         ...  ...       ...          ...   \n",
       "95            W06          11           6  ...  109.0757     112.4064   \n",
       "96            X11           6          11  ...  103.7066     107.0112   \n",
       "97            Z09           8           9  ...  107.7291     112.3212   \n",
       "98            W09           8           9  ...   97.0139      99.3518   \n",
       "99            Z10           7          10  ...  108.4417     110.4563   \n",
       "\n",
       "    team2_de team2_adjde         game_id  exp_win1  exp_win2  team1_log5  \\\n",
       "0    99.7542    105.9590  2019-1192-1341  0.389061  0.382990    0.506403   \n",
       "1   100.1860     99.5630  2019-1125-1396  0.800207  0.738939    0.585922   \n",
       "2   100.7490    108.6610  2019-1295-1300  0.415885  0.208404    0.730051   \n",
       "3   102.5140    101.0440  2019-1113-1385  0.774944  0.721882    0.570190   \n",
       "4    97.6744     92.4983  2019-1278-1257  0.833312  0.913200    0.322116   \n",
       "..       ...         ...             ...       ...       ...         ...   \n",
       "95   97.7252     96.9711  2002-1356-1403  0.775902  0.845357    0.387769   \n",
       "96   99.2527     97.6867  2002-1400-1130  0.822470  0.740474    0.618866   \n",
       "97   95.6265     94.8577  2002-1417-1279  0.824566  0.874717    0.402339   \n",
       "98   94.3765     91.7203  2002-1458-1385  0.796964  0.714862    0.610236   \n",
       "99   94.6345     96.6259  2002-1462-1218  0.876667  0.823231    0.604165   \n",
       "\n",
       "   seed_diff  team1_net_eff  \n",
       "0          0         5.2500  \n",
       "1          0        11.0870  \n",
       "2          0         7.6960  \n",
       "3          0         0.4380  \n",
       "4          3        -3.9450  \n",
       "..       ...            ...  \n",
       "95         5        -1.9833  \n",
       "96        -5         6.1933  \n",
       "97        -1        -1.4851  \n",
       "98        -1         6.0152  \n",
       "99        -3        -0.0903  \n",
       "\n",
       "[100 rows x 109 columns]"
      ]
     },
     "execution_count": 11,
     "metadata": {},
     "output_type": "execute_result"
    }
   ],
   "source": [
    "#team1_net_eff\n",
    "mm_data['team1_net_eff'] = mm_data['team1_oe'] - mm_data['team2_oe']\n",
    "mm_data[0:100]"
   ]
  },
  {
   "cell_type": "code",
   "execution_count": null,
   "metadata": {
    "id": "YXyTS4FYOZKV"
   },
   "outputs": [],
   "source": []
  },
  {
   "cell_type": "code",
   "execution_count": null,
   "metadata": {
    "id": "OeZAka_SOY-k"
   },
   "outputs": [],
   "source": []
  },
  {
   "cell_type": "markdown",
   "metadata": {
    "id": "sn10EvRLH-YW"
   },
   "source": [
    "# Split Data"
   ]
  },
  {
   "cell_type": "code",
   "execution_count": 12,
   "metadata": {
    "id": "m7ARgMOgH1Y8"
   },
   "outputs": [],
   "source": [
    "mm_data.dropna(subset=['team1_log5'], inplace=True)"
   ]
  },
  {
   "cell_type": "code",
   "execution_count": 13,
   "metadata": {
    "id": "2g_MoTTjH1bj"
   },
   "outputs": [],
   "source": [
    "mm_data['team1_win'] = (mm_data['team1_score']>mm_data['team2_score']).astype(int)"
   ]
  },
  {
   "cell_type": "code",
   "execution_count": 14,
   "metadata": {
    "colab": {
     "base_uri": "https://localhost:8080/",
     "height": 835
    },
    "id": "LWTt9h8Uwtcs",
    "outputId": "870a597c-cd22-4cfa-cd5f-4720c07751f4"
   },
   "outputs": [
    {
     "data": {
      "text/html": [
       "<div>\n",
       "<style scoped>\n",
       "    .dataframe tbody tr th:only-of-type {\n",
       "        vertical-align: middle;\n",
       "    }\n",
       "\n",
       "    .dataframe tbody tr th {\n",
       "        vertical-align: top;\n",
       "    }\n",
       "\n",
       "    .dataframe thead th {\n",
       "        text-align: right;\n",
       "    }\n",
       "</style>\n",
       "<table border=\"1\" class=\"dataframe\">\n",
       "  <thead>\n",
       "    <tr style=\"text-align: right;\">\n",
       "      <th></th>\n",
       "      <th>team1_id</th>\n",
       "      <th>team1_score</th>\n",
       "      <th>team2_id</th>\n",
       "      <th>team2_score</th>\n",
       "      <th>WLoc</th>\n",
       "      <th>num_ot</th>\n",
       "      <th>team1_position</th>\n",
       "      <th>team2_position</th>\n",
       "      <th>team1_seed</th>\n",
       "      <th>team2_seed</th>\n",
       "      <th>...</th>\n",
       "      <th>team2_adjoe</th>\n",
       "      <th>team2_de</th>\n",
       "      <th>team2_adjde</th>\n",
       "      <th>game_id</th>\n",
       "      <th>exp_win1</th>\n",
       "      <th>exp_win2</th>\n",
       "      <th>team1_log5</th>\n",
       "      <th>seed_diff</th>\n",
       "      <th>team1_net_eff</th>\n",
       "      <th>team1_win</th>\n",
       "    </tr>\n",
       "  </thead>\n",
       "  <tbody>\n",
       "    <tr>\n",
       "      <th>1</th>\n",
       "      <td>1125</td>\n",
       "      <td>81</td>\n",
       "      <td>1396</td>\n",
       "      <td>70</td>\n",
       "      <td>N</td>\n",
       "      <td>0</td>\n",
       "      <td>W11a</td>\n",
       "      <td>W11b</td>\n",
       "      <td>11</td>\n",
       "      <td>11</td>\n",
       "      <td>...</td>\n",
       "      <td>108.9910</td>\n",
       "      <td>100.1860</td>\n",
       "      <td>99.5630</td>\n",
       "      <td>2019-1125-1396</td>\n",
       "      <td>0.800207</td>\n",
       "      <td>0.738939</td>\n",
       "      <td>0.585922</td>\n",
       "      <td>0</td>\n",
       "      <td>11.0870</td>\n",
       "      <td>1</td>\n",
       "    </tr>\n",
       "    <tr>\n",
       "      <th>2</th>\n",
       "      <td>1113</td>\n",
       "      <td>74</td>\n",
       "      <td>1385</td>\n",
       "      <td>65</td>\n",
       "      <td>N</td>\n",
       "      <td>0</td>\n",
       "      <td>X11a</td>\n",
       "      <td>X11b</td>\n",
       "      <td>11</td>\n",
       "      <td>11</td>\n",
       "      <td>...</td>\n",
       "      <td>109.7820</td>\n",
       "      <td>102.5140</td>\n",
       "      <td>101.0440</td>\n",
       "      <td>2019-1113-1385</td>\n",
       "      <td>0.774944</td>\n",
       "      <td>0.721882</td>\n",
       "      <td>0.570190</td>\n",
       "      <td>0</td>\n",
       "      <td>0.4380</td>\n",
       "      <td>1</td>\n",
       "    </tr>\n",
       "    <tr>\n",
       "      <th>3</th>\n",
       "      <td>1278</td>\n",
       "      <td>86</td>\n",
       "      <td>1257</td>\n",
       "      <td>76</td>\n",
       "      <td>N</td>\n",
       "      <td>0</td>\n",
       "      <td>W10</td>\n",
       "      <td>W07</td>\n",
       "      <td>10</td>\n",
       "      <td>7</td>\n",
       "      <td>...</td>\n",
       "      <td>113.5030</td>\n",
       "      <td>97.6744</td>\n",
       "      <td>92.4983</td>\n",
       "      <td>2019-1278-1257</td>\n",
       "      <td>0.833312</td>\n",
       "      <td>0.913200</td>\n",
       "      <td>0.322116</td>\n",
       "      <td>3</td>\n",
       "      <td>-3.9450</td>\n",
       "      <td>1</td>\n",
       "    </tr>\n",
       "    <tr>\n",
       "      <th>4</th>\n",
       "      <td>1261</td>\n",
       "      <td>79</td>\n",
       "      <td>1463</td>\n",
       "      <td>74</td>\n",
       "      <td>N</td>\n",
       "      <td>0</td>\n",
       "      <td>W03</td>\n",
       "      <td>W14</td>\n",
       "      <td>3</td>\n",
       "      <td>14</td>\n",
       "      <td>...</td>\n",
       "      <td>110.5520</td>\n",
       "      <td>99.2049</td>\n",
       "      <td>102.2790</td>\n",
       "      <td>2019-1261-1463</td>\n",
       "      <td>0.903836</td>\n",
       "      <td>0.709816</td>\n",
       "      <td>0.793493</td>\n",
       "      <td>-11</td>\n",
       "      <td>3.5190</td>\n",
       "      <td>1</td>\n",
       "    </tr>\n",
       "    <tr>\n",
       "      <th>5</th>\n",
       "      <td>1120</td>\n",
       "      <td>78</td>\n",
       "      <td>1308</td>\n",
       "      <td>77</td>\n",
       "      <td>N</td>\n",
       "      <td>0</td>\n",
       "      <td>Y05</td>\n",
       "      <td>Y12</td>\n",
       "      <td>5</td>\n",
       "      <td>12</td>\n",
       "      <td>...</td>\n",
       "      <td>112.7330</td>\n",
       "      <td>95.2348</td>\n",
       "      <td>99.1319</td>\n",
       "      <td>2019-1120-1308</td>\n",
       "      <td>0.913556</td>\n",
       "      <td>0.814356</td>\n",
       "      <td>0.706674</td>\n",
       "      <td>-7</td>\n",
       "      <td>-0.3070</td>\n",
       "      <td>1</td>\n",
       "    </tr>\n",
       "    <tr>\n",
       "      <th>...</th>\n",
       "      <td>...</td>\n",
       "      <td>...</td>\n",
       "      <td>...</td>\n",
       "      <td>...</td>\n",
       "      <td>...</td>\n",
       "      <td>...</td>\n",
       "      <td>...</td>\n",
       "      <td>...</td>\n",
       "      <td>...</td>\n",
       "      <td>...</td>\n",
       "      <td>...</td>\n",
       "      <td>...</td>\n",
       "      <td>...</td>\n",
       "      <td>...</td>\n",
       "      <td>...</td>\n",
       "      <td>...</td>\n",
       "      <td>...</td>\n",
       "      <td>...</td>\n",
       "      <td>...</td>\n",
       "      <td>...</td>\n",
       "      <td>...</td>\n",
       "    </tr>\n",
       "    <tr>\n",
       "      <th>95</th>\n",
       "      <td>1393</td>\n",
       "      <td>79</td>\n",
       "      <td>1120</td>\n",
       "      <td>78</td>\n",
       "      <td>N</td>\n",
       "      <td>0</td>\n",
       "      <td>W03</td>\n",
       "      <td>W10</td>\n",
       "      <td>3</td>\n",
       "      <td>10</td>\n",
       "      <td>...</td>\n",
       "      <td>104.4508</td>\n",
       "      <td>96.6885</td>\n",
       "      <td>93.7798</td>\n",
       "      <td>2003-1393-1120</td>\n",
       "      <td>0.882229</td>\n",
       "      <td>0.775445</td>\n",
       "      <td>0.684469</td>\n",
       "      <td>-7</td>\n",
       "      <td>7.7439</td>\n",
       "      <td>1</td>\n",
       "    </tr>\n",
       "    <tr>\n",
       "      <th>96</th>\n",
       "      <td>1400</td>\n",
       "      <td>82</td>\n",
       "      <td>1163</td>\n",
       "      <td>78</td>\n",
       "      <td>N</td>\n",
       "      <td>0</td>\n",
       "      <td>X01</td>\n",
       "      <td>X05</td>\n",
       "      <td>1</td>\n",
       "      <td>5</td>\n",
       "      <td>...</td>\n",
       "      <td>110.5880</td>\n",
       "      <td>97.1758</td>\n",
       "      <td>93.6982</td>\n",
       "      <td>2003-1400-1163</td>\n",
       "      <td>0.916251</td>\n",
       "      <td>0.870561</td>\n",
       "      <td>0.619290</td>\n",
       "      <td>-4</td>\n",
       "      <td>2.7748</td>\n",
       "      <td>1</td>\n",
       "    </tr>\n",
       "    <tr>\n",
       "      <th>97</th>\n",
       "      <td>1393</td>\n",
       "      <td>63</td>\n",
       "      <td>1328</td>\n",
       "      <td>47</td>\n",
       "      <td>N</td>\n",
       "      <td>0</td>\n",
       "      <td>W03</td>\n",
       "      <td>W01</td>\n",
       "      <td>3</td>\n",
       "      <td>1</td>\n",
       "      <td>...</td>\n",
       "      <td>110.1590</td>\n",
       "      <td>92.3056</td>\n",
       "      <td>89.4483</td>\n",
       "      <td>2003-1393-1328</td>\n",
       "      <td>0.882229</td>\n",
       "      <td>0.916448</td>\n",
       "      <td>0.405806</td>\n",
       "      <td>2</td>\n",
       "      <td>1.6453</td>\n",
       "      <td>1</td>\n",
       "    </tr>\n",
       "    <tr>\n",
       "      <th>98</th>\n",
       "      <td>1242</td>\n",
       "      <td>94</td>\n",
       "      <td>1266</td>\n",
       "      <td>61</td>\n",
       "      <td>N</td>\n",
       "      <td>0</td>\n",
       "      <td>Z02</td>\n",
       "      <td>Y03</td>\n",
       "      <td>2</td>\n",
       "      <td>3</td>\n",
       "      <td>...</td>\n",
       "      <td>116.5789</td>\n",
       "      <td>99.1207</td>\n",
       "      <td>97.0902</td>\n",
       "      <td>2003-1242-1266</td>\n",
       "      <td>0.937882</td>\n",
       "      <td>0.891259</td>\n",
       "      <td>0.648152</td>\n",
       "      <td>-1</td>\n",
       "      <td>-5.2617</td>\n",
       "      <td>1</td>\n",
       "    </tr>\n",
       "    <tr>\n",
       "      <th>99</th>\n",
       "      <td>1197</td>\n",
       "      <td>72</td>\n",
       "      <td>1250</td>\n",
       "      <td>57</td>\n",
       "      <td>N</td>\n",
       "      <td>0</td>\n",
       "      <td>Z16a</td>\n",
       "      <td>Z16b</td>\n",
       "      <td>16</td>\n",
       "      <td>16</td>\n",
       "      <td>...</td>\n",
       "      <td>96.9986</td>\n",
       "      <td>95.4093</td>\n",
       "      <td>101.5829</td>\n",
       "      <td>2004-1197-1250</td>\n",
       "      <td>0.243544</td>\n",
       "      <td>0.370271</td>\n",
       "      <td>0.353819</td>\n",
       "      <td>0</td>\n",
       "      <td>-0.2261</td>\n",
       "      <td>1</td>\n",
       "    </tr>\n",
       "  </tbody>\n",
       "</table>\n",
       "<p>99 rows × 110 columns</p>\n",
       "</div>"
      ],
      "text/plain": [
       "    team1_id  team1_score  team2_id  team2_score WLoc  num_ot team1_position  \\\n",
       "1       1125           81      1396           70    N       0           W11a   \n",
       "2       1113           74      1385           65    N       0           X11a   \n",
       "3       1278           86      1257           76    N       0            W10   \n",
       "4       1261           79      1463           74    N       0            W03   \n",
       "5       1120           78      1308           77    N       0            Y05   \n",
       "..       ...          ...       ...          ...  ...     ...            ...   \n",
       "95      1393           79      1120           78    N       0            W03   \n",
       "96      1400           82      1163           78    N       0            X01   \n",
       "97      1393           63      1328           47    N       0            W03   \n",
       "98      1242           94      1266           61    N       0            Z02   \n",
       "99      1197           72      1250           57    N       0           Z16a   \n",
       "\n",
       "   team2_position  team1_seed  team2_seed  ...  team2_adjoe  team2_de  \\\n",
       "1            W11b          11          11  ...     108.9910  100.1860   \n",
       "2            X11b          11          11  ...     109.7820  102.5140   \n",
       "3             W07          10           7  ...     113.5030   97.6744   \n",
       "4             W14           3          14  ...     110.5520   99.2049   \n",
       "5             Y12           5          12  ...     112.7330   95.2348   \n",
       "..            ...         ...         ...  ...          ...       ...   \n",
       "95            W10           3          10  ...     104.4508   96.6885   \n",
       "96            X05           1           5  ...     110.5880   97.1758   \n",
       "97            W01           3           1  ...     110.1590   92.3056   \n",
       "98            Y03           2           3  ...     116.5789   99.1207   \n",
       "99           Z16b          16          16  ...      96.9986   95.4093   \n",
       "\n",
       "   team2_adjde         game_id  exp_win1  exp_win2 team1_log5  seed_diff  \\\n",
       "1      99.5630  2019-1125-1396  0.800207  0.738939   0.585922          0   \n",
       "2     101.0440  2019-1113-1385  0.774944  0.721882   0.570190          0   \n",
       "3      92.4983  2019-1278-1257  0.833312  0.913200   0.322116          3   \n",
       "4     102.2790  2019-1261-1463  0.903836  0.709816   0.793493        -11   \n",
       "5      99.1319  2019-1120-1308  0.913556  0.814356   0.706674         -7   \n",
       "..         ...             ...       ...       ...        ...        ...   \n",
       "95     93.7798  2003-1393-1120  0.882229  0.775445   0.684469         -7   \n",
       "96     93.6982  2003-1400-1163  0.916251  0.870561   0.619290         -4   \n",
       "97     89.4483  2003-1393-1328  0.882229  0.916448   0.405806          2   \n",
       "98     97.0902  2003-1242-1266  0.937882  0.891259   0.648152         -1   \n",
       "99    101.5829  2004-1197-1250  0.243544  0.370271   0.353819          0   \n",
       "\n",
       "   team1_net_eff  team1_win  \n",
       "1        11.0870          1  \n",
       "2         0.4380          1  \n",
       "3        -3.9450          1  \n",
       "4         3.5190          1  \n",
       "5        -0.3070          1  \n",
       "..           ...        ...  \n",
       "95        7.7439          1  \n",
       "96        2.7748          1  \n",
       "97        1.6453          1  \n",
       "98       -5.2617          1  \n",
       "99       -0.2261          1  \n",
       "\n",
       "[99 rows x 110 columns]"
      ]
     },
     "execution_count": 14,
     "metadata": {},
     "output_type": "execute_result"
    }
   ],
   "source": [
    "# Modified\n",
    "mm_data_1_all = mm_data.sample(frac=.5, random_state=4)\n",
    "mm_data_2_all = mm_data[~mm_data.index.isin(mm_data_1_all.index)].reset_index(drop=True)\n",
    "mm_data_1_all = mm_data_1_all.reset_index(drop=True)\n",
    "mm_data_2_all[1:100]"
   ]
  },
  {
   "cell_type": "code",
   "execution_count": 15,
   "metadata": {
    "id": "eCqo4iFvxghT"
   },
   "outputs": [],
   "source": [
    "# Modified\n",
    "mm_data_2_all['team1_win'] = 0\n",
    "mm_data_2_all['team1_log5'] = 1-mm_data_2_all['team1_log5']\n",
    "mm_data_2_all['game_id'] = (mm_data_2_all['game_id'].str.split('-', expand=True)[0] \n",
    "                           + '-' + mm_data_2_all['game_id'].str.split('-', expand=True)[2] \n",
    "                           + '-' + mm_data_2_all['game_id'].str.split('-', expand=True)[1]\n",
    "                           ) \n",
    "mm_data_2_all['seed_diff'] = mm_data_2_all['seed_diff']*-1\n",
    "mm_data_2_all['team1_net_eff'] = mm_data_2_all['team1_net_eff']*-1\n",
    "mm_data_2_all.columns = ['team2_id', 'team2_score', 'team1_id', 'team1_score', 'WLoc',\n",
    "       'num_ot', 'team2_position', 'team1_position', 'team2_seed',\n",
    "       'team1_seed', 'strongseed', 'weakseed', 'team2_region',\n",
    "       'team1_region', 'slot', 'team2_teamname', 'team1_teamname',\n",
    "       'season', 'host', 'host_lat', 'host_long', 'team2_lat',\n",
    "       'team2_long', 'team1_lat', 'team1_long', 'team2_coach_id',\n",
    "       'team2_pt_school_ncaa', 'team2_pt_overall_ncaa',\n",
    "       'team2_pt_school_s16', 'team2_pt_overall_s16',\n",
    "       'team2_pt_school_ff', 'team2_pt_overall_ff',\n",
    "       'team2_pt_career_school_wins', 'team2_pt_career_school_losses',\n",
    "       'team2_pt_career_overall_wins', 'team2_pt_career_overall_losses',\n",
    "       'team2_pt_team_season_wins', 'team2_pt_team_season_losses',\n",
    "       'team2_pt_coach_season_wins', 'team2_pt_coach_season_losses',\n",
    "       'team1_coach_id', 'team1_pt_school_ncaa', 'team1_pt_overall_ncaa',\n",
    "       'team1_pt_school_s16', 'team1_pt_overall_s16',\n",
    "       'team1_pt_school_ff', 'team1_pt_overall_ff',\n",
    "       'team1_pt_career_school_wins', 'team1_pt_career_school_losses',\n",
    "       'team1_pt_career_overall_wins', 'team1_pt_career_overall_losses',\n",
    "       'team1_pt_team_season_wins', 'team1_pt_team_season_losses',\n",
    "       'team1_pt_coach_season_wins', 'team1_pt_coach_season_losses',\n",
    "       'team2_ap_final', 'team2_ap_preseason',\n",
    "       'team2_coaches_before_final', 'team2_coaches_preseason',\n",
    "       'team1_ap_final', 'team1_ap_preseason',\n",
    "       'team1_coaches_before_final', 'team1_coaches_preseason',\n",
    "       'team2_fg2pct', 'team2_fg3pct', 'team2_ftpct', 'team2_blockpct',\n",
    "       'team2_oppfg2pct', 'team2_oppfg3pct', 'team2_oppftpct',\n",
    "       'team2_oppblockpct', 'team2_f3grate', 'team2_oppf3grate',\n",
    "       'team2_arate', 'team2_opparate', 'team2_stlrate',\n",
    "       'team2_oppstlrate', 'team1_fg2pct', 'team1_fg3pct', 'team1_ftpct',\n",
    "       'team1_blockpct', 'team1_oppfg2pct', 'team1_oppfg3pct',\n",
    "       'team1_oppftpct', 'team1_oppblockpct', 'team1_f3grate',\n",
    "       'team1_oppf3grate', 'team1_arate', 'team1_opparate',\n",
    "       'team1_stlrate', 'team1_oppstlrate', 'team2_tempo',\n",
    "       'team2_adjtempo', 'team2_oe', 'team2_adjoe', 'team2_de',\n",
    "       'team2_adjde', 'team1_tempo', 'team1_adjtempo', 'team1_oe',\n",
    "       'team1_adjoe', 'team1_de', 'team1_adjde', 'game_id', 'exp_win2',\n",
    "       'exp_win1', 'team1_log5', 'seed_diff','team1_net_eff', 'team1_win']"
   ]
  },
  {
   "cell_type": "code",
   "execution_count": 16,
   "metadata": {
    "colab": {
     "base_uri": "https://localhost:8080/"
    },
    "id": "zFevZZ9UXaZs",
    "outputId": "e5472c15-bb5f-4489-9b2d-289f4f86b02c"
   },
   "outputs": [
    {
     "data": {
      "text/plain": [
       "0      -5.250\n",
       "1     -11.087\n",
       "2      -0.438\n",
       "3       3.945\n",
       "4      -3.519\n",
       "        ...  \n",
       "584     0.900\n",
       "585    -0.100\n",
       "586    -6.500\n",
       "587    -4.600\n",
       "588   -11.500\n",
       "Name: team1_net_eff, Length: 589, dtype: float64"
      ]
     },
     "execution_count": 16,
     "metadata": {},
     "output_type": "execute_result"
    }
   ],
   "source": [
    "mm_data_2_all['team1_net_eff']"
   ]
  },
  {
   "cell_type": "code",
   "execution_count": 17,
   "metadata": {
    "id": "VslE_w_q0uDE"
   },
   "outputs": [],
   "source": [
    "# Modified\n",
    "mm_train_all = pd.concat([mm_data_2_all, mm_data_1_all]).reset_index(drop=True)"
   ]
  },
  {
   "cell_type": "code",
   "execution_count": 18,
   "metadata": {
    "colab": {
     "base_uri": "https://localhost:8080/",
     "height": 835
    },
    "id": "6yhhPq9LXfNA",
    "outputId": "aed51cc8-c549-4687-d6f7-de7fadde166d"
   },
   "outputs": [
    {
     "data": {
      "text/html": [
       "<div>\n",
       "<style scoped>\n",
       "    .dataframe tbody tr th:only-of-type {\n",
       "        vertical-align: middle;\n",
       "    }\n",
       "\n",
       "    .dataframe tbody tr th {\n",
       "        vertical-align: top;\n",
       "    }\n",
       "\n",
       "    .dataframe thead th {\n",
       "        text-align: right;\n",
       "    }\n",
       "</style>\n",
       "<table border=\"1\" class=\"dataframe\">\n",
       "  <thead>\n",
       "    <tr style=\"text-align: right;\">\n",
       "      <th></th>\n",
       "      <th>team2_id</th>\n",
       "      <th>team2_score</th>\n",
       "      <th>team1_id</th>\n",
       "      <th>team1_score</th>\n",
       "      <th>WLoc</th>\n",
       "      <th>num_ot</th>\n",
       "      <th>team2_position</th>\n",
       "      <th>team1_position</th>\n",
       "      <th>team2_seed</th>\n",
       "      <th>team1_seed</th>\n",
       "      <th>...</th>\n",
       "      <th>team1_adjoe</th>\n",
       "      <th>team1_de</th>\n",
       "      <th>team1_adjde</th>\n",
       "      <th>game_id</th>\n",
       "      <th>exp_win2</th>\n",
       "      <th>exp_win1</th>\n",
       "      <th>team1_log5</th>\n",
       "      <th>seed_diff</th>\n",
       "      <th>team1_net_eff</th>\n",
       "      <th>team1_win</th>\n",
       "    </tr>\n",
       "  </thead>\n",
       "  <tbody>\n",
       "    <tr>\n",
       "      <th>1</th>\n",
       "      <td>1125</td>\n",
       "      <td>81</td>\n",
       "      <td>1396</td>\n",
       "      <td>70</td>\n",
       "      <td>N</td>\n",
       "      <td>0</td>\n",
       "      <td>W11a</td>\n",
       "      <td>W11b</td>\n",
       "      <td>11</td>\n",
       "      <td>11</td>\n",
       "      <td>...</td>\n",
       "      <td>108.9910</td>\n",
       "      <td>100.1860</td>\n",
       "      <td>99.5630</td>\n",
       "      <td>2019-1396-1125</td>\n",
       "      <td>0.800207</td>\n",
       "      <td>0.738939</td>\n",
       "      <td>0.414078</td>\n",
       "      <td>0</td>\n",
       "      <td>-11.0870</td>\n",
       "      <td>0</td>\n",
       "    </tr>\n",
       "    <tr>\n",
       "      <th>2</th>\n",
       "      <td>1113</td>\n",
       "      <td>74</td>\n",
       "      <td>1385</td>\n",
       "      <td>65</td>\n",
       "      <td>N</td>\n",
       "      <td>0</td>\n",
       "      <td>X11a</td>\n",
       "      <td>X11b</td>\n",
       "      <td>11</td>\n",
       "      <td>11</td>\n",
       "      <td>...</td>\n",
       "      <td>109.7820</td>\n",
       "      <td>102.5140</td>\n",
       "      <td>101.0440</td>\n",
       "      <td>2019-1385-1113</td>\n",
       "      <td>0.774944</td>\n",
       "      <td>0.721882</td>\n",
       "      <td>0.429810</td>\n",
       "      <td>0</td>\n",
       "      <td>-0.4380</td>\n",
       "      <td>0</td>\n",
       "    </tr>\n",
       "    <tr>\n",
       "      <th>3</th>\n",
       "      <td>1278</td>\n",
       "      <td>86</td>\n",
       "      <td>1257</td>\n",
       "      <td>76</td>\n",
       "      <td>N</td>\n",
       "      <td>0</td>\n",
       "      <td>W10</td>\n",
       "      <td>W07</td>\n",
       "      <td>10</td>\n",
       "      <td>7</td>\n",
       "      <td>...</td>\n",
       "      <td>113.5030</td>\n",
       "      <td>97.6744</td>\n",
       "      <td>92.4983</td>\n",
       "      <td>2019-1257-1278</td>\n",
       "      <td>0.833312</td>\n",
       "      <td>0.913200</td>\n",
       "      <td>0.677884</td>\n",
       "      <td>-3</td>\n",
       "      <td>3.9450</td>\n",
       "      <td>0</td>\n",
       "    </tr>\n",
       "    <tr>\n",
       "      <th>4</th>\n",
       "      <td>1261</td>\n",
       "      <td>79</td>\n",
       "      <td>1463</td>\n",
       "      <td>74</td>\n",
       "      <td>N</td>\n",
       "      <td>0</td>\n",
       "      <td>W03</td>\n",
       "      <td>W14</td>\n",
       "      <td>3</td>\n",
       "      <td>14</td>\n",
       "      <td>...</td>\n",
       "      <td>110.5520</td>\n",
       "      <td>99.2049</td>\n",
       "      <td>102.2790</td>\n",
       "      <td>2019-1463-1261</td>\n",
       "      <td>0.903836</td>\n",
       "      <td>0.709816</td>\n",
       "      <td>0.206507</td>\n",
       "      <td>11</td>\n",
       "      <td>-3.5190</td>\n",
       "      <td>0</td>\n",
       "    </tr>\n",
       "    <tr>\n",
       "      <th>5</th>\n",
       "      <td>1120</td>\n",
       "      <td>78</td>\n",
       "      <td>1308</td>\n",
       "      <td>77</td>\n",
       "      <td>N</td>\n",
       "      <td>0</td>\n",
       "      <td>Y05</td>\n",
       "      <td>Y12</td>\n",
       "      <td>5</td>\n",
       "      <td>12</td>\n",
       "      <td>...</td>\n",
       "      <td>112.7330</td>\n",
       "      <td>95.2348</td>\n",
       "      <td>99.1319</td>\n",
       "      <td>2019-1308-1120</td>\n",
       "      <td>0.913556</td>\n",
       "      <td>0.814356</td>\n",
       "      <td>0.293326</td>\n",
       "      <td>7</td>\n",
       "      <td>0.3070</td>\n",
       "      <td>0</td>\n",
       "    </tr>\n",
       "    <tr>\n",
       "      <th>...</th>\n",
       "      <td>...</td>\n",
       "      <td>...</td>\n",
       "      <td>...</td>\n",
       "      <td>...</td>\n",
       "      <td>...</td>\n",
       "      <td>...</td>\n",
       "      <td>...</td>\n",
       "      <td>...</td>\n",
       "      <td>...</td>\n",
       "      <td>...</td>\n",
       "      <td>...</td>\n",
       "      <td>...</td>\n",
       "      <td>...</td>\n",
       "      <td>...</td>\n",
       "      <td>...</td>\n",
       "      <td>...</td>\n",
       "      <td>...</td>\n",
       "      <td>...</td>\n",
       "      <td>...</td>\n",
       "      <td>...</td>\n",
       "      <td>...</td>\n",
       "    </tr>\n",
       "    <tr>\n",
       "      <th>95</th>\n",
       "      <td>1393</td>\n",
       "      <td>79</td>\n",
       "      <td>1120</td>\n",
       "      <td>78</td>\n",
       "      <td>N</td>\n",
       "      <td>0</td>\n",
       "      <td>W03</td>\n",
       "      <td>W10</td>\n",
       "      <td>3</td>\n",
       "      <td>10</td>\n",
       "      <td>...</td>\n",
       "      <td>104.4508</td>\n",
       "      <td>96.6885</td>\n",
       "      <td>93.7798</td>\n",
       "      <td>2003-1120-1393</td>\n",
       "      <td>0.882229</td>\n",
       "      <td>0.775445</td>\n",
       "      <td>0.315531</td>\n",
       "      <td>7</td>\n",
       "      <td>-7.7439</td>\n",
       "      <td>0</td>\n",
       "    </tr>\n",
       "    <tr>\n",
       "      <th>96</th>\n",
       "      <td>1400</td>\n",
       "      <td>82</td>\n",
       "      <td>1163</td>\n",
       "      <td>78</td>\n",
       "      <td>N</td>\n",
       "      <td>0</td>\n",
       "      <td>X01</td>\n",
       "      <td>X05</td>\n",
       "      <td>1</td>\n",
       "      <td>5</td>\n",
       "      <td>...</td>\n",
       "      <td>110.5880</td>\n",
       "      <td>97.1758</td>\n",
       "      <td>93.6982</td>\n",
       "      <td>2003-1163-1400</td>\n",
       "      <td>0.916251</td>\n",
       "      <td>0.870561</td>\n",
       "      <td>0.380710</td>\n",
       "      <td>4</td>\n",
       "      <td>-2.7748</td>\n",
       "      <td>0</td>\n",
       "    </tr>\n",
       "    <tr>\n",
       "      <th>97</th>\n",
       "      <td>1393</td>\n",
       "      <td>63</td>\n",
       "      <td>1328</td>\n",
       "      <td>47</td>\n",
       "      <td>N</td>\n",
       "      <td>0</td>\n",
       "      <td>W03</td>\n",
       "      <td>W01</td>\n",
       "      <td>3</td>\n",
       "      <td>1</td>\n",
       "      <td>...</td>\n",
       "      <td>110.1590</td>\n",
       "      <td>92.3056</td>\n",
       "      <td>89.4483</td>\n",
       "      <td>2003-1328-1393</td>\n",
       "      <td>0.882229</td>\n",
       "      <td>0.916448</td>\n",
       "      <td>0.594194</td>\n",
       "      <td>-2</td>\n",
       "      <td>-1.6453</td>\n",
       "      <td>0</td>\n",
       "    </tr>\n",
       "    <tr>\n",
       "      <th>98</th>\n",
       "      <td>1242</td>\n",
       "      <td>94</td>\n",
       "      <td>1266</td>\n",
       "      <td>61</td>\n",
       "      <td>N</td>\n",
       "      <td>0</td>\n",
       "      <td>Z02</td>\n",
       "      <td>Y03</td>\n",
       "      <td>2</td>\n",
       "      <td>3</td>\n",
       "      <td>...</td>\n",
       "      <td>116.5789</td>\n",
       "      <td>99.1207</td>\n",
       "      <td>97.0902</td>\n",
       "      <td>2003-1266-1242</td>\n",
       "      <td>0.937882</td>\n",
       "      <td>0.891259</td>\n",
       "      <td>0.351848</td>\n",
       "      <td>1</td>\n",
       "      <td>5.2617</td>\n",
       "      <td>0</td>\n",
       "    </tr>\n",
       "    <tr>\n",
       "      <th>99</th>\n",
       "      <td>1197</td>\n",
       "      <td>72</td>\n",
       "      <td>1250</td>\n",
       "      <td>57</td>\n",
       "      <td>N</td>\n",
       "      <td>0</td>\n",
       "      <td>Z16a</td>\n",
       "      <td>Z16b</td>\n",
       "      <td>16</td>\n",
       "      <td>16</td>\n",
       "      <td>...</td>\n",
       "      <td>96.9986</td>\n",
       "      <td>95.4093</td>\n",
       "      <td>101.5829</td>\n",
       "      <td>2004-1250-1197</td>\n",
       "      <td>0.243544</td>\n",
       "      <td>0.370271</td>\n",
       "      <td>0.646181</td>\n",
       "      <td>0</td>\n",
       "      <td>0.2261</td>\n",
       "      <td>0</td>\n",
       "    </tr>\n",
       "  </tbody>\n",
       "</table>\n",
       "<p>99 rows × 110 columns</p>\n",
       "</div>"
      ],
      "text/plain": [
       "    team2_id  team2_score  team1_id  team1_score WLoc  num_ot team2_position  \\\n",
       "1       1125           81      1396           70    N       0           W11a   \n",
       "2       1113           74      1385           65    N       0           X11a   \n",
       "3       1278           86      1257           76    N       0            W10   \n",
       "4       1261           79      1463           74    N       0            W03   \n",
       "5       1120           78      1308           77    N       0            Y05   \n",
       "..       ...          ...       ...          ...  ...     ...            ...   \n",
       "95      1393           79      1120           78    N       0            W03   \n",
       "96      1400           82      1163           78    N       0            X01   \n",
       "97      1393           63      1328           47    N       0            W03   \n",
       "98      1242           94      1266           61    N       0            Z02   \n",
       "99      1197           72      1250           57    N       0           Z16a   \n",
       "\n",
       "   team1_position  team2_seed  team1_seed  ...  team1_adjoe  team1_de  \\\n",
       "1            W11b          11          11  ...     108.9910  100.1860   \n",
       "2            X11b          11          11  ...     109.7820  102.5140   \n",
       "3             W07          10           7  ...     113.5030   97.6744   \n",
       "4             W14           3          14  ...     110.5520   99.2049   \n",
       "5             Y12           5          12  ...     112.7330   95.2348   \n",
       "..            ...         ...         ...  ...          ...       ...   \n",
       "95            W10           3          10  ...     104.4508   96.6885   \n",
       "96            X05           1           5  ...     110.5880   97.1758   \n",
       "97            W01           3           1  ...     110.1590   92.3056   \n",
       "98            Y03           2           3  ...     116.5789   99.1207   \n",
       "99           Z16b          16          16  ...      96.9986   95.4093   \n",
       "\n",
       "   team1_adjde         game_id  exp_win2  exp_win1 team1_log5  seed_diff  \\\n",
       "1      99.5630  2019-1396-1125  0.800207  0.738939   0.414078          0   \n",
       "2     101.0440  2019-1385-1113  0.774944  0.721882   0.429810          0   \n",
       "3      92.4983  2019-1257-1278  0.833312  0.913200   0.677884         -3   \n",
       "4     102.2790  2019-1463-1261  0.903836  0.709816   0.206507         11   \n",
       "5      99.1319  2019-1308-1120  0.913556  0.814356   0.293326          7   \n",
       "..         ...             ...       ...       ...        ...        ...   \n",
       "95     93.7798  2003-1120-1393  0.882229  0.775445   0.315531          7   \n",
       "96     93.6982  2003-1163-1400  0.916251  0.870561   0.380710          4   \n",
       "97     89.4483  2003-1328-1393  0.882229  0.916448   0.594194         -2   \n",
       "98     97.0902  2003-1266-1242  0.937882  0.891259   0.351848          1   \n",
       "99    101.5829  2004-1250-1197  0.243544  0.370271   0.646181          0   \n",
       "\n",
       "   team1_net_eff  team1_win  \n",
       "1       -11.0870          0  \n",
       "2        -0.4380          0  \n",
       "3         3.9450          0  \n",
       "4        -3.5190          0  \n",
       "5         0.3070          0  \n",
       "..           ...        ...  \n",
       "95       -7.7439          0  \n",
       "96       -2.7748          0  \n",
       "97       -1.6453          0  \n",
       "98        5.2617          0  \n",
       "99        0.2261          0  \n",
       "\n",
       "[99 rows x 110 columns]"
      ]
     },
     "execution_count": 18,
     "metadata": {},
     "output_type": "execute_result"
    }
   ],
   "source": [
    "mm_train_all[1:100]"
   ]
  },
  {
   "cell_type": "code",
   "execution_count": 19,
   "metadata": {
    "id": "1rvLp6yg3ZJf"
   },
   "outputs": [],
   "source": [
    "mm_train_all.to_csv('New_training_data.csv', index = False)\n"
   ]
  },
  {
   "cell_type": "code",
   "execution_count": 20,
   "metadata": {
    "id": "m9x5cT4p11bv"
   },
   "outputs": [],
   "source": [
    "# Modified\n",
    "train, test = train_test_split(mm_train_all, train_size=.7)"
   ]
  },
  {
   "cell_type": "code",
   "execution_count": 21,
   "metadata": {
    "id": "hh8yKRaGH1od"
   },
   "outputs": [],
   "source": [
    "train = train.reset_index(drop=True)\n",
    "test = test.reset_index(drop=True)"
   ]
  },
  {
   "cell_type": "code",
   "execution_count": 22,
   "metadata": {
    "colab": {
     "base_uri": "https://localhost:8080/",
     "height": 835
    },
    "id": "JoSeR-OiH1rM",
    "outputId": "9ef9f28a-531f-4c97-f1e4-19dcc09a4760"
   },
   "outputs": [
    {
     "data": {
      "text/html": [
       "<div>\n",
       "<style scoped>\n",
       "    .dataframe tbody tr th:only-of-type {\n",
       "        vertical-align: middle;\n",
       "    }\n",
       "\n",
       "    .dataframe tbody tr th {\n",
       "        vertical-align: top;\n",
       "    }\n",
       "\n",
       "    .dataframe thead th {\n",
       "        text-align: right;\n",
       "    }\n",
       "</style>\n",
       "<table border=\"1\" class=\"dataframe\">\n",
       "  <thead>\n",
       "    <tr style=\"text-align: right;\">\n",
       "      <th></th>\n",
       "      <th>team2_id</th>\n",
       "      <th>team2_score</th>\n",
       "      <th>team1_id</th>\n",
       "      <th>team1_score</th>\n",
       "      <th>WLoc</th>\n",
       "      <th>num_ot</th>\n",
       "      <th>team2_position</th>\n",
       "      <th>team1_position</th>\n",
       "      <th>team2_seed</th>\n",
       "      <th>team1_seed</th>\n",
       "      <th>...</th>\n",
       "      <th>team1_adjoe</th>\n",
       "      <th>team1_de</th>\n",
       "      <th>team1_adjde</th>\n",
       "      <th>game_id</th>\n",
       "      <th>exp_win2</th>\n",
       "      <th>exp_win1</th>\n",
       "      <th>team1_log5</th>\n",
       "      <th>seed_diff</th>\n",
       "      <th>team1_net_eff</th>\n",
       "      <th>team1_win</th>\n",
       "    </tr>\n",
       "  </thead>\n",
       "  <tbody>\n",
       "    <tr>\n",
       "      <th>0</th>\n",
       "      <td>1429</td>\n",
       "      <td>53</td>\n",
       "      <td>1112</td>\n",
       "      <td>66</td>\n",
       "      <td>N</td>\n",
       "      <td>0</td>\n",
       "      <td>X14</td>\n",
       "      <td>X03</td>\n",
       "      <td>14</td>\n",
       "      <td>3</td>\n",
       "      <td>...</td>\n",
       "      <td>114.0151</td>\n",
       "      <td>97.7107</td>\n",
       "      <td>95.3458</td>\n",
       "      <td>2005-1112-1429</td>\n",
       "      <td>0.885899</td>\n",
       "      <td>0.886596</td>\n",
       "      <td>0.501729</td>\n",
       "      <td>-11</td>\n",
       "      <td>-5.3253</td>\n",
       "      <td>1</td>\n",
       "    </tr>\n",
       "    <tr>\n",
       "      <th>1</th>\n",
       "      <td>1163</td>\n",
       "      <td>77</td>\n",
       "      <td>1437</td>\n",
       "      <td>65</td>\n",
       "      <td>N</td>\n",
       "      <td>0</td>\n",
       "      <td>W07</td>\n",
       "      <td>W02</td>\n",
       "      <td>7</td>\n",
       "      <td>2</td>\n",
       "      <td>...</td>\n",
       "      <td>115.8448</td>\n",
       "      <td>96.7318</td>\n",
       "      <td>93.7249</td>\n",
       "      <td>2014-1437-1163</td>\n",
       "      <td>0.868820</td>\n",
       "      <td>0.919584</td>\n",
       "      <td>0.633239</td>\n",
       "      <td>-5</td>\n",
       "      <td>5.9136</td>\n",
       "      <td>0</td>\n",
       "    </tr>\n",
       "    <tr>\n",
       "      <th>2</th>\n",
       "      <td>1277</td>\n",
       "      <td>76</td>\n",
       "      <td>1400</td>\n",
       "      <td>85</td>\n",
       "      <td>N</td>\n",
       "      <td>0</td>\n",
       "      <td>X07</td>\n",
       "      <td>X01</td>\n",
       "      <td>7</td>\n",
       "      <td>1</td>\n",
       "      <td>...</td>\n",
       "      <td>118.7559</td>\n",
       "      <td>96.9119</td>\n",
       "      <td>96.4505</td>\n",
       "      <td>2003-1400-1277</td>\n",
       "      <td>0.861114</td>\n",
       "      <td>0.916251</td>\n",
       "      <td>0.638276</td>\n",
       "      <td>-6</td>\n",
       "      <td>8.3537</td>\n",
       "      <td>1</td>\n",
       "    </tr>\n",
       "    <tr>\n",
       "      <th>3</th>\n",
       "      <td>1257</td>\n",
       "      <td>69</td>\n",
       "      <td>1401</td>\n",
       "      <td>72</td>\n",
       "      <td>N</td>\n",
       "      <td>0</td>\n",
       "      <td>X06</td>\n",
       "      <td>X03</td>\n",
       "      <td>6</td>\n",
       "      <td>3</td>\n",
       "      <td>...</td>\n",
       "      <td>116.8243</td>\n",
       "      <td>89.4533</td>\n",
       "      <td>92.5218</td>\n",
       "      <td>2007-1401-1257</td>\n",
       "      <td>0.888784</td>\n",
       "      <td>0.935963</td>\n",
       "      <td>0.646509</td>\n",
       "      <td>-3</td>\n",
       "      <td>7.7127</td>\n",
       "      <td>1</td>\n",
       "    </tr>\n",
       "    <tr>\n",
       "      <th>4</th>\n",
       "      <td>1285</td>\n",
       "      <td>55</td>\n",
       "      <td>1276</td>\n",
       "      <td>74</td>\n",
       "      <td>N</td>\n",
       "      <td>0</td>\n",
       "      <td>X15</td>\n",
       "      <td>X02</td>\n",
       "      <td>15</td>\n",
       "      <td>2</td>\n",
       "      <td>...</td>\n",
       "      <td>115.7160</td>\n",
       "      <td>89.2552</td>\n",
       "      <td>86.0482</td>\n",
       "      <td>2019-1276-1285</td>\n",
       "      <td>0.595094</td>\n",
       "      <td>0.967912</td>\n",
       "      <td>0.953540</td>\n",
       "      <td>-13</td>\n",
       "      <td>-3.2660</td>\n",
       "      <td>1</td>\n",
       "    </tr>\n",
       "    <tr>\n",
       "      <th>...</th>\n",
       "      <td>...</td>\n",
       "      <td>...</td>\n",
       "      <td>...</td>\n",
       "      <td>...</td>\n",
       "      <td>...</td>\n",
       "      <td>...</td>\n",
       "      <td>...</td>\n",
       "      <td>...</td>\n",
       "      <td>...</td>\n",
       "      <td>...</td>\n",
       "      <td>...</td>\n",
       "      <td>...</td>\n",
       "      <td>...</td>\n",
       "      <td>...</td>\n",
       "      <td>...</td>\n",
       "      <td>...</td>\n",
       "      <td>...</td>\n",
       "      <td>...</td>\n",
       "      <td>...</td>\n",
       "      <td>...</td>\n",
       "      <td>...</td>\n",
       "    </tr>\n",
       "    <tr>\n",
       "      <th>820</th>\n",
       "      <td>1323</td>\n",
       "      <td>71</td>\n",
       "      <td>1112</td>\n",
       "      <td>88</td>\n",
       "      <td>N</td>\n",
       "      <td>0</td>\n",
       "      <td>Z05</td>\n",
       "      <td>Z01</td>\n",
       "      <td>5</td>\n",
       "      <td>1</td>\n",
       "      <td>...</td>\n",
       "      <td>114.4555</td>\n",
       "      <td>91.6550</td>\n",
       "      <td>90.2006</td>\n",
       "      <td>2003-1112-1323</td>\n",
       "      <td>0.861791</td>\n",
       "      <td>0.939273</td>\n",
       "      <td>0.712689</td>\n",
       "      <td>-4</td>\n",
       "      <td>0.6996</td>\n",
       "      <td>1</td>\n",
       "    </tr>\n",
       "    <tr>\n",
       "      <th>821</th>\n",
       "      <td>1300</td>\n",
       "      <td>74</td>\n",
       "      <td>1295</td>\n",
       "      <td>78</td>\n",
       "      <td>N</td>\n",
       "      <td>0</td>\n",
       "      <td>W16b</td>\n",
       "      <td>W16a</td>\n",
       "      <td>16</td>\n",
       "      <td>16</td>\n",
       "      <td>...</td>\n",
       "      <td>106.6750</td>\n",
       "      <td>110.0540</td>\n",
       "      <td>109.8730</td>\n",
       "      <td>2019-1295-1300</td>\n",
       "      <td>0.208404</td>\n",
       "      <td>0.415885</td>\n",
       "      <td>0.730051</td>\n",
       "      <td>0</td>\n",
       "      <td>7.6960</td>\n",
       "      <td>1</td>\n",
       "    </tr>\n",
       "    <tr>\n",
       "      <th>822</th>\n",
       "      <td>1173</td>\n",
       "      <td>51</td>\n",
       "      <td>1393</td>\n",
       "      <td>70</td>\n",
       "      <td>N</td>\n",
       "      <td>0</td>\n",
       "      <td>X07</td>\n",
       "      <td>X10</td>\n",
       "      <td>7</td>\n",
       "      <td>10</td>\n",
       "      <td>...</td>\n",
       "      <td>110.4020</td>\n",
       "      <td>99.7255</td>\n",
       "      <td>94.5622</td>\n",
       "      <td>2016-1393-1173</td>\n",
       "      <td>0.824083</td>\n",
       "      <td>0.855822</td>\n",
       "      <td>0.558913</td>\n",
       "      <td>3</td>\n",
       "      <td>1.3610</td>\n",
       "      <td>1</td>\n",
       "    </tr>\n",
       "    <tr>\n",
       "      <th>823</th>\n",
       "      <td>1199</td>\n",
       "      <td>67</td>\n",
       "      <td>1281</td>\n",
       "      <td>54</td>\n",
       "      <td>N</td>\n",
       "      <td>0</td>\n",
       "      <td>Z09</td>\n",
       "      <td>Z08</td>\n",
       "      <td>9</td>\n",
       "      <td>8</td>\n",
       "      <td>...</td>\n",
       "      <td>108.1000</td>\n",
       "      <td>97.8000</td>\n",
       "      <td>100.8000</td>\n",
       "      <td>2018-1281-1199</td>\n",
       "      <td>0.734879</td>\n",
       "      <td>0.690843</td>\n",
       "      <td>0.446343</td>\n",
       "      <td>-1</td>\n",
       "      <td>-2.5000</td>\n",
       "      <td>0</td>\n",
       "    </tr>\n",
       "    <tr>\n",
       "      <th>824</th>\n",
       "      <td>1400</td>\n",
       "      <td>69</td>\n",
       "      <td>1112</td>\n",
       "      <td>70</td>\n",
       "      <td>N</td>\n",
       "      <td>0</td>\n",
       "      <td>X04</td>\n",
       "      <td>X05</td>\n",
       "      <td>4</td>\n",
       "      <td>5</td>\n",
       "      <td>...</td>\n",
       "      <td>114.0809</td>\n",
       "      <td>98.8971</td>\n",
       "      <td>98.0954</td>\n",
       "      <td>2011-1112-1400</td>\n",
       "      <td>0.940078</td>\n",
       "      <td>0.850194</td>\n",
       "      <td>0.265653</td>\n",
       "      <td>1</td>\n",
       "      <td>3.2699</td>\n",
       "      <td>1</td>\n",
       "    </tr>\n",
       "  </tbody>\n",
       "</table>\n",
       "<p>825 rows × 110 columns</p>\n",
       "</div>"
      ],
      "text/plain": [
       "     team2_id  team2_score  team1_id  team1_score WLoc  num_ot team2_position  \\\n",
       "0        1429           53      1112           66    N       0            X14   \n",
       "1        1163           77      1437           65    N       0            W07   \n",
       "2        1277           76      1400           85    N       0            X07   \n",
       "3        1257           69      1401           72    N       0            X06   \n",
       "4        1285           55      1276           74    N       0            X15   \n",
       "..        ...          ...       ...          ...  ...     ...            ...   \n",
       "820      1323           71      1112           88    N       0            Z05   \n",
       "821      1300           74      1295           78    N       0           W16b   \n",
       "822      1173           51      1393           70    N       0            X07   \n",
       "823      1199           67      1281           54    N       0            Z09   \n",
       "824      1400           69      1112           70    N       0            X04   \n",
       "\n",
       "    team1_position  team2_seed  team1_seed  ...  team1_adjoe  team1_de  \\\n",
       "0              X03          14           3  ...     114.0151   97.7107   \n",
       "1              W02           7           2  ...     115.8448   96.7318   \n",
       "2              X01           7           1  ...     118.7559   96.9119   \n",
       "3              X03           6           3  ...     116.8243   89.4533   \n",
       "4              X02          15           2  ...     115.7160   89.2552   \n",
       "..             ...         ...         ...  ...          ...       ...   \n",
       "820            Z01           5           1  ...     114.4555   91.6550   \n",
       "821           W16a          16          16  ...     106.6750  110.0540   \n",
       "822            X10           7          10  ...     110.4020   99.7255   \n",
       "823            Z08           9           8  ...     108.1000   97.8000   \n",
       "824            X05           4           5  ...     114.0809   98.8971   \n",
       "\n",
       "    team1_adjde         game_id  exp_win2  exp_win1 team1_log5  seed_diff  \\\n",
       "0       95.3458  2005-1112-1429  0.885899  0.886596   0.501729        -11   \n",
       "1       93.7249  2014-1437-1163  0.868820  0.919584   0.633239         -5   \n",
       "2       96.4505  2003-1400-1277  0.861114  0.916251   0.638276         -6   \n",
       "3       92.5218  2007-1401-1257  0.888784  0.935963   0.646509         -3   \n",
       "4       86.0482  2019-1276-1285  0.595094  0.967912   0.953540        -13   \n",
       "..          ...             ...       ...       ...        ...        ...   \n",
       "820     90.2006  2003-1112-1323  0.861791  0.939273   0.712689         -4   \n",
       "821    109.8730  2019-1295-1300  0.208404  0.415885   0.730051          0   \n",
       "822     94.5622  2016-1393-1173  0.824083  0.855822   0.558913          3   \n",
       "823    100.8000  2018-1281-1199  0.734879  0.690843   0.446343         -1   \n",
       "824     98.0954  2011-1112-1400  0.940078  0.850194   0.265653          1   \n",
       "\n",
       "    team1_net_eff  team1_win  \n",
       "0         -5.3253          1  \n",
       "1          5.9136          0  \n",
       "2          8.3537          1  \n",
       "3          7.7127          1  \n",
       "4         -3.2660          1  \n",
       "..            ...        ...  \n",
       "820        0.6996          1  \n",
       "821        7.6960          1  \n",
       "822        1.3610          1  \n",
       "823       -2.5000          0  \n",
       "824        3.2699          1  \n",
       "\n",
       "[825 rows x 110 columns]"
      ]
     },
     "execution_count": 22,
     "metadata": {},
     "output_type": "execute_result"
    }
   ],
   "source": [
    "train"
   ]
  },
  {
   "cell_type": "markdown",
   "metadata": {
    "id": "aRu684VSIV3p"
   },
   "source": [
    "# Initial Check = EDA \n",
    "自变量分析：多重共线性"
   ]
  },
  {
   "cell_type": "code",
   "execution_count": 23,
   "metadata": {
    "colab": {
     "base_uri": "https://localhost:8080/",
     "height": 487
    },
    "id": "7inMFnLRaXYs",
    "outputId": "9abd874f-29a1-4d5a-fc81-9522d8fa111e"
   },
   "outputs": [
    {
     "data": {
      "text/html": [
       "<div>\n",
       "<style scoped>\n",
       "    .dataframe tbody tr th:only-of-type {\n",
       "        vertical-align: middle;\n",
       "    }\n",
       "\n",
       "    .dataframe tbody tr th {\n",
       "        vertical-align: top;\n",
       "    }\n",
       "\n",
       "    .dataframe thead th {\n",
       "        text-align: right;\n",
       "    }\n",
       "</style>\n",
       "<table border=\"1\" class=\"dataframe\">\n",
       "  <thead>\n",
       "    <tr style=\"text-align: right;\">\n",
       "      <th></th>\n",
       "      <th>team2_id</th>\n",
       "      <th>team2_score</th>\n",
       "      <th>team1_id</th>\n",
       "      <th>team1_score</th>\n",
       "      <th>num_ot</th>\n",
       "      <th>team2_seed</th>\n",
       "      <th>team1_seed</th>\n",
       "      <th>strongseed</th>\n",
       "      <th>weakseed</th>\n",
       "      <th>season</th>\n",
       "      <th>...</th>\n",
       "      <th>team1_oe</th>\n",
       "      <th>team1_adjoe</th>\n",
       "      <th>team1_de</th>\n",
       "      <th>team1_adjde</th>\n",
       "      <th>exp_win2</th>\n",
       "      <th>exp_win1</th>\n",
       "      <th>team1_log5</th>\n",
       "      <th>seed_diff</th>\n",
       "      <th>team1_net_eff</th>\n",
       "      <th>team1_win</th>\n",
       "    </tr>\n",
       "  </thead>\n",
       "  <tbody>\n",
       "    <tr>\n",
       "      <th>team2_id</th>\n",
       "      <td>1.000000</td>\n",
       "      <td>-0.012376</td>\n",
       "      <td>-0.062595</td>\n",
       "      <td>-0.030488</td>\n",
       "      <td>0.054502</td>\n",
       "      <td>0.031616</td>\n",
       "      <td>0.016020</td>\n",
       "      <td>0.065966</td>\n",
       "      <td>0.005824</td>\n",
       "      <td>0.027280</td>\n",
       "      <td>...</td>\n",
       "      <td>-0.005849</td>\n",
       "      <td>0.009463</td>\n",
       "      <td>0.054458</td>\n",
       "      <td>0.032609</td>\n",
       "      <td>0.012092</td>\n",
       "      <td>-0.009343</td>\n",
       "      <td>0.008228</td>\n",
       "      <td>-0.009962</td>\n",
       "      <td>0.029412</td>\n",
       "      <td>0.007648</td>\n",
       "    </tr>\n",
       "    <tr>\n",
       "      <th>team2_score</th>\n",
       "      <td>-0.012376</td>\n",
       "      <td>1.000000</td>\n",
       "      <td>-0.044459</td>\n",
       "      <td>0.264187</td>\n",
       "      <td>0.179641</td>\n",
       "      <td>-0.367707</td>\n",
       "      <td>0.237774</td>\n",
       "      <td>-0.045827</td>\n",
       "      <td>-0.122326</td>\n",
       "      <td>-0.016237</td>\n",
       "      <td>...</td>\n",
       "      <td>-0.072298</td>\n",
       "      <td>-0.118090</td>\n",
       "      <td>0.197939</td>\n",
       "      <td>0.262809</td>\n",
       "      <td>0.316024</td>\n",
       "      <td>-0.249360</td>\n",
       "      <td>-0.383134</td>\n",
       "      <td>0.379211</td>\n",
       "      <td>-0.262934</td>\n",
       "      <td>-0.459037</td>\n",
       "    </tr>\n",
       "    <tr>\n",
       "      <th>team1_id</th>\n",
       "      <td>-0.062595</td>\n",
       "      <td>-0.044459</td>\n",
       "      <td>1.000000</td>\n",
       "      <td>-0.043903</td>\n",
       "      <td>-0.012225</td>\n",
       "      <td>-0.005408</td>\n",
       "      <td>0.009335</td>\n",
       "      <td>0.027010</td>\n",
       "      <td>-0.016030</td>\n",
       "      <td>-0.016780</td>\n",
       "      <td>...</td>\n",
       "      <td>-0.057689</td>\n",
       "      <td>-0.040177</td>\n",
       "      <td>-0.046538</td>\n",
       "      <td>-0.047111</td>\n",
       "      <td>0.000826</td>\n",
       "      <td>0.020223</td>\n",
       "      <td>-0.005661</td>\n",
       "      <td>0.009202</td>\n",
       "      <td>-0.045379</td>\n",
       "      <td>0.006210</td>\n",
       "    </tr>\n",
       "    <tr>\n",
       "      <th>team1_score</th>\n",
       "      <td>-0.030488</td>\n",
       "      <td>0.264187</td>\n",
       "      <td>-0.043903</td>\n",
       "      <td>1.000000</td>\n",
       "      <td>0.220754</td>\n",
       "      <td>0.229862</td>\n",
       "      <td>-0.315927</td>\n",
       "      <td>-0.063202</td>\n",
       "      <td>-0.048314</td>\n",
       "      <td>-0.029496</td>\n",
       "      <td>...</td>\n",
       "      <td>0.249887</td>\n",
       "      <td>0.316353</td>\n",
       "      <td>-0.102802</td>\n",
       "      <td>-0.153897</td>\n",
       "      <td>-0.226263</td>\n",
       "      <td>0.277680</td>\n",
       "      <td>0.370081</td>\n",
       "      <td>-0.340935</td>\n",
       "      <td>0.233465</td>\n",
       "      <td>0.509271</td>\n",
       "    </tr>\n",
       "    <tr>\n",
       "      <th>num_ot</th>\n",
       "      <td>0.054502</td>\n",
       "      <td>0.179641</td>\n",
       "      <td>-0.012225</td>\n",
       "      <td>0.220754</td>\n",
       "      <td>1.000000</td>\n",
       "      <td>0.024719</td>\n",
       "      <td>-0.050079</td>\n",
       "      <td>0.043090</td>\n",
       "      <td>-0.061798</td>\n",
       "      <td>-0.029751</td>\n",
       "      <td>...</td>\n",
       "      <td>0.007023</td>\n",
       "      <td>0.030758</td>\n",
       "      <td>0.009755</td>\n",
       "      <td>-0.005549</td>\n",
       "      <td>-0.015446</td>\n",
       "      <td>0.033599</td>\n",
       "      <td>0.044163</td>\n",
       "      <td>-0.046664</td>\n",
       "      <td>0.019167</td>\n",
       "      <td>0.070530</td>\n",
       "    </tr>\n",
       "    <tr>\n",
       "      <th>...</th>\n",
       "      <td>...</td>\n",
       "      <td>...</td>\n",
       "      <td>...</td>\n",
       "      <td>...</td>\n",
       "      <td>...</td>\n",
       "      <td>...</td>\n",
       "      <td>...</td>\n",
       "      <td>...</td>\n",
       "      <td>...</td>\n",
       "      <td>...</td>\n",
       "      <td>...</td>\n",
       "      <td>...</td>\n",
       "      <td>...</td>\n",
       "      <td>...</td>\n",
       "      <td>...</td>\n",
       "      <td>...</td>\n",
       "      <td>...</td>\n",
       "      <td>...</td>\n",
       "      <td>...</td>\n",
       "      <td>...</td>\n",
       "      <td>...</td>\n",
       "    </tr>\n",
       "    <tr>\n",
       "      <th>exp_win1</th>\n",
       "      <td>-0.009343</td>\n",
       "      <td>-0.249360</td>\n",
       "      <td>0.020223</td>\n",
       "      <td>0.277680</td>\n",
       "      <td>0.033599</td>\n",
       "      <td>0.162698</td>\n",
       "      <td>-0.810570</td>\n",
       "      <td>-0.351010</td>\n",
       "      <td>-0.484154</td>\n",
       "      <td>0.024260</td>\n",
       "      <td>...</td>\n",
       "      <td>0.505343</td>\n",
       "      <td>0.715965</td>\n",
       "      <td>-0.469380</td>\n",
       "      <td>-0.725360</td>\n",
       "      <td>0.004435</td>\n",
       "      <td>1.000000</td>\n",
       "      <td>0.631318</td>\n",
       "      <td>-0.605799</td>\n",
       "      <td>0.423148</td>\n",
       "      <td>0.344623</td>\n",
       "    </tr>\n",
       "    <tr>\n",
       "      <th>team1_log5</th>\n",
       "      <td>0.008228</td>\n",
       "      <td>-0.383134</td>\n",
       "      <td>-0.005661</td>\n",
       "      <td>0.370081</td>\n",
       "      <td>0.044163</td>\n",
       "      <td>0.741303</td>\n",
       "      <td>-0.710161</td>\n",
       "      <td>-0.004490</td>\n",
       "      <td>0.051789</td>\n",
       "      <td>0.013117</td>\n",
       "      <td>...</td>\n",
       "      <td>0.369914</td>\n",
       "      <td>0.524538</td>\n",
       "      <td>-0.393566</td>\n",
       "      <td>-0.541080</td>\n",
       "      <td>-0.671430</td>\n",
       "      <td>0.631318</td>\n",
       "      <td>1.000000</td>\n",
       "      <td>-0.907819</td>\n",
       "      <td>0.618895</td>\n",
       "      <td>0.539508</td>\n",
       "    </tr>\n",
       "    <tr>\n",
       "      <th>seed_diff</th>\n",
       "      <td>-0.009962</td>\n",
       "      <td>0.379211</td>\n",
       "      <td>0.009202</td>\n",
       "      <td>-0.340935</td>\n",
       "      <td>-0.046664</td>\n",
       "      <td>-0.802685</td>\n",
       "      <td>0.796359</td>\n",
       "      <td>0.017635</td>\n",
       "      <td>-0.033921</td>\n",
       "      <td>-0.024741</td>\n",
       "      <td>...</td>\n",
       "      <td>-0.346680</td>\n",
       "      <td>-0.505186</td>\n",
       "      <td>0.345792</td>\n",
       "      <td>0.490656</td>\n",
       "      <td>0.630306</td>\n",
       "      <td>-0.605799</td>\n",
       "      <td>-0.907819</td>\n",
       "      <td>1.000000</td>\n",
       "      <td>-0.563405</td>\n",
       "      <td>-0.505244</td>\n",
       "    </tr>\n",
       "    <tr>\n",
       "      <th>team1_net_eff</th>\n",
       "      <td>0.029412</td>\n",
       "      <td>-0.262934</td>\n",
       "      <td>-0.045379</td>\n",
       "      <td>0.233465</td>\n",
       "      <td>0.019167</td>\n",
       "      <td>0.452181</td>\n",
       "      <td>-0.448729</td>\n",
       "      <td>-0.028646</td>\n",
       "      <td>0.033187</td>\n",
       "      <td>-0.007507</td>\n",
       "      <td>...</td>\n",
       "      <td>0.682909</td>\n",
       "      <td>0.657040</td>\n",
       "      <td>-0.001161</td>\n",
       "      <td>-0.045190</td>\n",
       "      <td>-0.440101</td>\n",
       "      <td>0.423148</td>\n",
       "      <td>0.618895</td>\n",
       "      <td>-0.563405</td>\n",
       "      <td>1.000000</td>\n",
       "      <td>0.344412</td>\n",
       "    </tr>\n",
       "    <tr>\n",
       "      <th>team1_win</th>\n",
       "      <td>0.007648</td>\n",
       "      <td>-0.459037</td>\n",
       "      <td>0.006210</td>\n",
       "      <td>0.509271</td>\n",
       "      <td>0.070530</td>\n",
       "      <td>0.410656</td>\n",
       "      <td>-0.397180</td>\n",
       "      <td>-0.022698</td>\n",
       "      <td>0.039645</td>\n",
       "      <td>0.014022</td>\n",
       "      <td>...</td>\n",
       "      <td>0.212777</td>\n",
       "      <td>0.287777</td>\n",
       "      <td>-0.206427</td>\n",
       "      <td>-0.291785</td>\n",
       "      <td>-0.353409</td>\n",
       "      <td>0.344623</td>\n",
       "      <td>0.539508</td>\n",
       "      <td>-0.505244</td>\n",
       "      <td>0.344412</td>\n",
       "      <td>1.000000</td>\n",
       "    </tr>\n",
       "  </tbody>\n",
       "</table>\n",
       "<p>98 rows × 98 columns</p>\n",
       "</div>"
      ],
      "text/plain": [
       "               team2_id  team2_score  team1_id  team1_score    num_ot  \\\n",
       "team2_id       1.000000    -0.012376 -0.062595    -0.030488  0.054502   \n",
       "team2_score   -0.012376     1.000000 -0.044459     0.264187  0.179641   \n",
       "team1_id      -0.062595    -0.044459  1.000000    -0.043903 -0.012225   \n",
       "team1_score   -0.030488     0.264187 -0.043903     1.000000  0.220754   \n",
       "num_ot         0.054502     0.179641 -0.012225     0.220754  1.000000   \n",
       "...                 ...          ...       ...          ...       ...   \n",
       "exp_win1      -0.009343    -0.249360  0.020223     0.277680  0.033599   \n",
       "team1_log5     0.008228    -0.383134 -0.005661     0.370081  0.044163   \n",
       "seed_diff     -0.009962     0.379211  0.009202    -0.340935 -0.046664   \n",
       "team1_net_eff  0.029412    -0.262934 -0.045379     0.233465  0.019167   \n",
       "team1_win      0.007648    -0.459037  0.006210     0.509271  0.070530   \n",
       "\n",
       "               team2_seed  team1_seed  strongseed  weakseed    season  ...  \\\n",
       "team2_id         0.031616    0.016020    0.065966  0.005824  0.027280  ...   \n",
       "team2_score     -0.367707    0.237774   -0.045827 -0.122326 -0.016237  ...   \n",
       "team1_id        -0.005408    0.009335    0.027010 -0.016030 -0.016780  ...   \n",
       "team1_score      0.229862   -0.315927   -0.063202 -0.048314 -0.029496  ...   \n",
       "num_ot           0.024719   -0.050079    0.043090 -0.061798 -0.029751  ...   \n",
       "...                   ...         ...         ...       ...       ...  ...   \n",
       "exp_win1         0.162698   -0.810570   -0.351010 -0.484154  0.024260  ...   \n",
       "team1_log5       0.741303   -0.710161   -0.004490  0.051789  0.013117  ...   \n",
       "seed_diff       -0.802685    0.796359    0.017635 -0.033921 -0.024741  ...   \n",
       "team1_net_eff    0.452181   -0.448729   -0.028646  0.033187 -0.007507  ...   \n",
       "team1_win        0.410656   -0.397180   -0.022698  0.039645  0.014022  ...   \n",
       "\n",
       "               team1_oe  team1_adjoe  team1_de  team1_adjde  exp_win2  \\\n",
       "team2_id      -0.005849     0.009463  0.054458     0.032609  0.012092   \n",
       "team2_score   -0.072298    -0.118090  0.197939     0.262809  0.316024   \n",
       "team1_id      -0.057689    -0.040177 -0.046538    -0.047111  0.000826   \n",
       "team1_score    0.249887     0.316353 -0.102802    -0.153897 -0.226263   \n",
       "num_ot         0.007023     0.030758  0.009755    -0.005549 -0.015446   \n",
       "...                 ...          ...       ...          ...       ...   \n",
       "exp_win1       0.505343     0.715965 -0.469380    -0.725360  0.004435   \n",
       "team1_log5     0.369914     0.524538 -0.393566    -0.541080 -0.671430   \n",
       "seed_diff     -0.346680    -0.505186  0.345792     0.490656  0.630306   \n",
       "team1_net_eff  0.682909     0.657040 -0.001161    -0.045190 -0.440101   \n",
       "team1_win      0.212777     0.287777 -0.206427    -0.291785 -0.353409   \n",
       "\n",
       "               exp_win1  team1_log5  seed_diff  team1_net_eff  team1_win  \n",
       "team2_id      -0.009343    0.008228  -0.009962       0.029412   0.007648  \n",
       "team2_score   -0.249360   -0.383134   0.379211      -0.262934  -0.459037  \n",
       "team1_id       0.020223   -0.005661   0.009202      -0.045379   0.006210  \n",
       "team1_score    0.277680    0.370081  -0.340935       0.233465   0.509271  \n",
       "num_ot         0.033599    0.044163  -0.046664       0.019167   0.070530  \n",
       "...                 ...         ...        ...            ...        ...  \n",
       "exp_win1       1.000000    0.631318  -0.605799       0.423148   0.344623  \n",
       "team1_log5     0.631318    1.000000  -0.907819       0.618895   0.539508  \n",
       "seed_diff     -0.605799   -0.907819   1.000000      -0.563405  -0.505244  \n",
       "team1_net_eff  0.423148    0.618895  -0.563405       1.000000   0.344412  \n",
       "team1_win      0.344623    0.539508  -0.505244       0.344412   1.000000  \n",
       "\n",
       "[98 rows x 98 columns]"
      ]
     },
     "execution_count": 23,
     "metadata": {},
     "output_type": "execute_result"
    }
   ],
   "source": [
    "train.corr()"
   ]
  },
  {
   "cell_type": "code",
   "execution_count": 24,
   "metadata": {
    "id": "EA0b9a1Lbmr_"
   },
   "outputs": [],
   "source": [
    "#test\n",
    "def get_var_no_colinear(cutoff, df):\n",
    "    corr_high = df.corr().applymap(lambda x: np.nan if x>cutoff else x).isnull()\n",
    "    col_all = corr_high.columns.tolist()\n",
    "    del_col = []\n",
    "    i = 0\n",
    "    while i < len(col_all)-1:\n",
    "        ex_index = corr_high.iloc[:,i][i+1:].index[np.where(corr_high.iloc[:,i][i+1:])].tolist()\n",
    "        for var in ex_index:\n",
    "            col_all.remove(var)\n",
    "        corr_high = corr_high.loc[col_all, col_all]\n",
    "        i += 1\n",
    "    return col_all\n"
   ]
  },
  {
   "cell_type": "code",
   "execution_count": 25,
   "metadata": {
    "id": "MO58lbwqb1NO"
   },
   "outputs": [],
   "source": [
    "x = get_var_no_colinear(0.2,train)\n"
   ]
  },
  {
   "cell_type": "code",
   "execution_count": 26,
   "metadata": {
    "colab": {
     "base_uri": "https://localhost:8080/"
    },
    "id": "1OJ_z59tb_4s",
    "outputId": "2c5dc54e-936a-4146-9985-ce351f58de37"
   },
   "outputs": [
    {
     "data": {
      "text/plain": [
       "['team2_id',\n",
       " 'team2_score',\n",
       " 'team1_id',\n",
       " 'num_ot',\n",
       " 'team2_seed',\n",
       " 'season',\n",
       " 'host_lat',\n",
       " 'host_long',\n",
       " 'team2_lat',\n",
       " 'team1_lat',\n",
       " 'team2_pt_school_ncaa',\n",
       " 'team2_pt_team_season_wins',\n",
       " 'team1_pt_school_ncaa',\n",
       " 'team1_pt_team_season_wins',\n",
       " 'team1_pt_coach_season_losses',\n",
       " 'team2_fg3pct',\n",
       " 'team2_oppfg3pct',\n",
       " 'team2_oppblockpct',\n",
       " 'team2_opparate',\n",
       " 'team1_fg3pct',\n",
       " 'team1_arate',\n",
       " 'team1_stlrate',\n",
       " 'team1_oppstlrate']"
      ]
     },
     "execution_count": 26,
     "metadata": {},
     "output_type": "execute_result"
    }
   ],
   "source": [
    "x"
   ]
  },
  {
   "cell_type": "code",
   "execution_count": 27,
   "metadata": {
    "colab": {
     "base_uri": "https://localhost:8080/",
     "height": 428
    },
    "id": "b1RzvY-VPKqw",
    "outputId": "d2ce2604-9a3c-42b6-c58f-298670b2da3b"
   },
   "outputs": [
    {
     "data": {
      "text/plain": [
       "<AxesSubplot:>"
      ]
     },
     "execution_count": 27,
     "metadata": {},
     "output_type": "execute_result"
    },
    {
     "data": {
      "image/png": "[encoded data removed]",
      "text/plain": [
       "<Figure size 432x288 with 2 Axes>"
      ]
     },
     "metadata": {},
     "output_type": "display_data"
    }
   ],
   "source": [
    "import seaborn as sns\n",
    "corr = train.corr()\n",
    "sns.heatmap(corr, cmap=\"YlGnBu\")"
   ]
  },
  {
   "cell_type": "code",
   "execution_count": 28,
   "metadata": {
    "colab": {
     "base_uri": "https://localhost:8080/",
     "height": 820
    },
    "id": "GwJWkhqkLVZJ",
    "outputId": "84098729-ff4b-49c9-83e2-67ee86a0a375"
   },
   "outputs": [
    {
     "data": {
      "text/plain": [
       "[Text(0.5, 0, 'team2_id'),\n",
       " Text(4.5, 0, 'num_ot'),\n",
       " Text(8.5, 0, 'weakseed'),\n",
       " Text(12.5, 0, 'team2_lat'),\n",
       " Text(16.5, 0, 'team2_pt_school_ncaa'),\n",
       " Text(20.5, 0, 'team2_pt_school_ff'),\n",
       " Text(24.5, 0, 'team2_pt_career_overall_wins'),\n",
       " Text(28.5, 0, 'team2_pt_coach_season_wins'),\n",
       " Text(32.5, 0, 'team1_pt_school_s16'),\n",
       " Text(36.5, 0, 'team1_pt_career_school_wins'),\n",
       " Text(40.5, 0, 'team1_pt_team_season_wins'),\n",
       " Text(44.5, 0, 'team2_ap_final'),\n",
       " Text(48.5, 0, 'team1_ap_final'),\n",
       " Text(52.5, 0, 'team2_fg2pct'),\n",
       " Text(56.5, 0, 'team2_oppfg2pct'),\n",
       " Text(60.5, 0, 'team2_f3grate'),\n",
       " Text(64.5, 0, 'team2_stlrate'),\n",
       " Text(68.5, 0, 'team1_ftpct'),\n",
       " Text(72.5, 0, 'team1_oppftpct'),\n",
       " Text(76.5, 0, 'team1_arate'),\n",
       " Text(80.5, 0, 'team2_tempo'),\n",
       " Text(84.5, 0, 'team2_de'),\n",
       " Text(88.5, 0, 'team1_oe'),\n",
       " Text(92.5, 0, 'exp_win2'),\n",
       " Text(96.5, 0, 'team1_net_eff')]"
      ]
     },
     "execution_count": 28,
     "metadata": {},
     "output_type": "execute_result"
    },
    {
     "data": {
      "image/png": "[encoded data removed]",
      "text/plain": [
       "<Figure size 432x288 with 2 Axes>"
      ]
     },
     "metadata": {},
     "output_type": "display_data"
    }
   ],
   "source": [
    "ax = sns.heatmap(\n",
    "    corr, \n",
    "    vmin=-1, vmax=1, center=0,\n",
    "    cmap=sns.diverging_palette(20, 220, n=200),\n",
    "    square=True\n",
    ")\n",
    "ax.set_xticklabels(\n",
    "    ax.get_xticklabels(),\n",
    "    rotation=45,\n",
    "    horizontalalignment='right')"
   ]
  },
  {
   "cell_type": "code",
   "execution_count": 29,
   "metadata": {
    "colab": {
     "base_uri": "https://localhost:8080/"
    },
    "id": "tl9nnS7ERAc8",
    "outputId": "9f4530d0-24b8-4dbe-8b09-2227ff8265f8"
   },
   "outputs": [
    {
     "data": {
      "text/plain": [
       "array([8.49343754e-06, 7.39738278e-05, 9.09519423e-05, 1.06955622e-04,\n",
       "       1.81392327e-04, 1.98110474e-04, 1.99178038e-04, 2.29185742e-04,\n",
       "       2.52106569e-04, 2.63497431e-04])"
      ]
     },
     "execution_count": 29,
     "metadata": {},
     "output_type": "execute_result"
    }
   ],
   "source": [
    "flat = corr.to_numpy().flatten()\n",
    "flat = np.unique(flat)\n",
    "abs_flat = abs(flat)\n",
    "abs_flat.sort()\n",
    "abs_flat = abs_flat[:10]\n",
    "abs_flat"
   ]
  },
  {
   "cell_type": "code",
   "execution_count": 30,
   "metadata": {
    "colab": {
     "base_uri": "https://localhost:8080/"
    },
    "id": "Ug2JFv1IUZNf",
    "outputId": "fe00549f-fae4-492e-a7a6-fd32c926555d"
   },
   "outputs": [
    {
     "name": "stderr",
     "output_type": "stream",
     "text": [
      "C:\\Users\\70727\\AppData\\Local\\Temp/ipykernel_23576/2450190860.py:1: DeprecationWarning: elementwise comparison failed; this will raise an error in the future.\n",
      "  result = np.where(abs(corr).to_numpy() == abs_flat)\n"
     ]
    },
    {
     "data": {
      "text/plain": [
       "(array([], dtype=int64),)"
      ]
     },
     "execution_count": 30,
     "metadata": {},
     "output_type": "execute_result"
    }
   ],
   "source": [
    "result = np.where(abs(corr).to_numpy() == abs_flat)\n",
    "# indices = np.array(result)\n",
    "# print(indices)\n",
    "result"
   ]
  },
  {
   "cell_type": "code",
   "execution_count": 31,
   "metadata": {
    "colab": {
     "base_uri": "https://localhost:8080/",
     "height": 352
    },
    "id": "WwUj6EsMUwD7",
    "outputId": "428fb932-66d1-42a8-b4fd-741d1dcbe717"
   },
   "outputs": [],
   "source": [
    "\n",
    "\n",
    "#team2_score team1_win\n",
    "#team1_win  team1_score\n",
    "#team1_log5 team1_score \n",
    "\n"
   ]
  },
  {
   "cell_type": "code",
   "execution_count": 32,
   "metadata": {
    "colab": {
     "base_uri": "https://localhost:8080/"
    },
    "id": "4ZvlGyI-H1uE",
    "outputId": "55d642a9-0cca-4783-8f1e-0e4267cd8b28"
   },
   "outputs": [
    {
     "data": {
      "text/plain": [
       "team1_win\n",
       "0    0.377558\n",
       "1    0.634047\n",
       "Name: team1_log5, dtype: float64"
      ]
     },
     "execution_count": 32,
     "metadata": {},
     "output_type": "execute_result"
    }
   ],
   "source": [
    "train.groupby('team1_win')['team1_log5'].mean()"
   ]
  },
  {
   "cell_type": "code",
   "execution_count": 33,
   "metadata": {
    "colab": {
     "base_uri": "https://localhost:8080/"
    },
    "id": "POwGsxKzH1w7",
    "outputId": "c91d1292-fa64-4c42-d00f-0f6e3ae45ba7"
   },
   "outputs": [
    {
     "data": {
      "text/plain": [
       "team1_win\n",
       "0    3.534279\n",
       "1   -3.995025\n",
       "Name: seed_diff, dtype: float64"
      ]
     },
     "execution_count": 33,
     "metadata": {},
     "output_type": "execute_result"
    }
   ],
   "source": [
    "train.groupby('team1_win')['seed_diff'].mean()"
   ]
  },
  {
   "cell_type": "code",
   "execution_count": 34,
   "metadata": {
    "colab": {
     "base_uri": "https://localhost:8080/"
    },
    "id": "MNk-ZgyJjAse",
    "outputId": "0de0f419-6b2e-4fd7-88b1-c49b5ae3cc0a"
   },
   "outputs": [
    {
     "data": {
      "text/plain": [
       "team1_win\n",
       "0   -2.443449\n",
       "1    2.425526\n",
       "Name: team1_net_eff, dtype: float64"
      ]
     },
     "execution_count": 34,
     "metadata": {},
     "output_type": "execute_result"
    }
   ],
   "source": [
    "train.groupby('team1_win')['team1_net_eff'].mean()"
   ]
  },
  {
   "cell_type": "code",
   "execution_count": 35,
   "metadata": {
    "id": "3SWTBPvqH1zs"
   },
   "outputs": [],
   "source": [
    "#train.groupby('team1_win')['diff_dist'].mean()"
   ]
  },
  {
   "cell_type": "markdown",
   "metadata": {
    "id": "Eewr9bQCIeMt"
   },
   "source": [
    "# Train Log5"
   ]
  },
  {
   "cell_type": "code",
   "execution_count": 36,
   "metadata": {
    "colab": {
     "base_uri": "https://localhost:8080/"
    },
    "id": "IWHnD6yNH12b",
    "outputId": "3408d419-519d-4d17-fc14-2d37cdd15170"
   },
   "outputs": [
    {
     "data": {
      "text/plain": [
       "LogisticRegression()"
      ]
     },
     "execution_count": 36,
     "metadata": {},
     "output_type": "execute_result"
    }
   ],
   "source": [
    "logit = LogisticRegression()\n",
    "logit.fit(X=train[['team1_log5']], y=train['team1_win'])"
   ]
  },
  {
   "cell_type": "code",
   "execution_count": 37,
   "metadata": {
    "colab": {
     "base_uri": "https://localhost:8080/",
     "height": 305
    },
    "id": "y2wEmYtmH15Z",
    "outputId": "119b19f8-ecd4-44fa-b2f5-46780c9df717"
   },
   "outputs": [
    {
     "name": "stdout",
     "output_type": "stream",
     "text": [
      "Optimization terminated successfully.\n",
      "         Current function value: 0.527059\n",
      "         Iterations 6\n"
     ]
    },
    {
     "data": {
      "text/html": [
       "<table class=\"simpletable\">\n",
       "<caption>Logit Regression Results</caption>\n",
       "<tr>\n",
       "  <th>Dep. Variable:</th>       <td>team1_win</td>    <th>  No. Observations:  </th>  <td>   825</td>  \n",
       "</tr>\n",
       "<tr>\n",
       "  <th>Model:</th>                 <td>Logit</td>      <th>  Df Residuals:      </th>  <td>   823</td>  \n",
       "</tr>\n",
       "<tr>\n",
       "  <th>Method:</th>                 <td>MLE</td>       <th>  Df Model:          </th>  <td>     1</td>  \n",
       "</tr>\n",
       "<tr>\n",
       "  <th>Date:</th>            <td>Wed, 23 Mar 2022</td> <th>  Pseudo R-squ.:     </th>  <td>0.2393</td>  \n",
       "</tr>\n",
       "<tr>\n",
       "  <th>Time:</th>                <td>22:40:18</td>     <th>  Log-Likelihood:    </th> <td> -434.82</td> \n",
       "</tr>\n",
       "<tr>\n",
       "  <th>converged:</th>             <td>True</td>       <th>  LL-Null:           </th> <td> -571.58</td> \n",
       "</tr>\n",
       "<tr>\n",
       "  <th>Covariance Type:</th>     <td>nonrobust</td>    <th>  LLR p-value:       </th> <td>1.949e-61</td>\n",
       "</tr>\n",
       "</table>\n",
       "<table class=\"simpletable\">\n",
       "<tr>\n",
       "       <td></td>         <th>coef</th>     <th>std err</th>      <th>z</th>      <th>P>|z|</th>  <th>[0.025</th>    <th>0.975]</th>  \n",
       "</tr>\n",
       "<tr>\n",
       "  <th>Intercept</th>  <td>   -3.0811</td> <td>    0.239</td> <td>  -12.867</td> <td> 0.000</td> <td>   -3.550</td> <td>   -2.612</td>\n",
       "</tr>\n",
       "<tr>\n",
       "  <th>team1_log5</th> <td>    6.0056</td> <td>    0.445</td> <td>   13.495</td> <td> 0.000</td> <td>    5.133</td> <td>    6.878</td>\n",
       "</tr>\n",
       "</table>"
      ],
      "text/plain": [
       "<class 'statsmodels.iolib.summary.Summary'>\n",
       "\"\"\"\n",
       "                           Logit Regression Results                           \n",
       "==============================================================================\n",
       "Dep. Variable:              team1_win   No. Observations:                  825\n",
       "Model:                          Logit   Df Residuals:                      823\n",
       "Method:                           MLE   Df Model:                            1\n",
       "Date:                Wed, 23 Mar 2022   Pseudo R-squ.:                  0.2393\n",
       "Time:                        22:40:18   Log-Likelihood:                -434.82\n",
       "converged:                       True   LL-Null:                       -571.58\n",
       "Covariance Type:            nonrobust   LLR p-value:                 1.949e-61\n",
       "==============================================================================\n",
       "                 coef    std err          z      P>|z|      [0.025      0.975]\n",
       "------------------------------------------------------------------------------\n",
       "Intercept     -3.0811      0.239    -12.867      0.000      -3.550      -2.612\n",
       "team1_log5     6.0056      0.445     13.495      0.000       5.133       6.878\n",
       "==============================================================================\n",
       "\"\"\""
      ]
     },
     "execution_count": 37,
     "metadata": {},
     "output_type": "execute_result"
    }
   ],
   "source": [
    "seed_smlogit = smf.logit(\"team1_win ~ team1_log5\", train).fit()\n",
    "seed_smlogit.summary()"
   ]
  },
  {
   "cell_type": "code",
   "execution_count": 38,
   "metadata": {
    "id": "YFONT-3BH18B"
   },
   "outputs": [],
   "source": [
    "test['prob'] = logit.predict_proba(test[['team1_log5']])[:,1]\n",
    "test['prediction'] = logit.predict(test[['team1_log5']])"
   ]
  },
  {
   "cell_type": "code",
   "execution_count": 39,
   "metadata": {
    "colab": {
     "base_uri": "https://localhost:8080/",
     "height": 206
    },
    "id": "SvaOZZoPH1-m",
    "outputId": "4b52a5ac-0055-4c94-a823-11f46a32b0f1"
   },
   "outputs": [
    {
     "data": {
      "text/html": [
       "<div>\n",
       "<style scoped>\n",
       "    .dataframe tbody tr th:only-of-type {\n",
       "        vertical-align: middle;\n",
       "    }\n",
       "\n",
       "    .dataframe tbody tr th {\n",
       "        vertical-align: top;\n",
       "    }\n",
       "\n",
       "    .dataframe thead th {\n",
       "        text-align: right;\n",
       "    }\n",
       "</style>\n",
       "<table border=\"1\" class=\"dataframe\">\n",
       "  <thead>\n",
       "    <tr style=\"text-align: right;\">\n",
       "      <th></th>\n",
       "      <th>game_id</th>\n",
       "      <th>team1_log5</th>\n",
       "      <th>team1_win</th>\n",
       "      <th>prob</th>\n",
       "      <th>prediction</th>\n",
       "    </tr>\n",
       "  </thead>\n",
       "  <tbody>\n",
       "    <tr>\n",
       "      <th>0</th>\n",
       "      <td>2006-1214-1284</td>\n",
       "      <td>0.296584</td>\n",
       "      <td>0</td>\n",
       "      <td>0.247969</td>\n",
       "      <td>0</td>\n",
       "    </tr>\n",
       "    <tr>\n",
       "      <th>1</th>\n",
       "      <td>2010-1165-1458</td>\n",
       "      <td>0.231415</td>\n",
       "      <td>1</td>\n",
       "      <td>0.191352</td>\n",
       "      <td>0</td>\n",
       "    </tr>\n",
       "    <tr>\n",
       "      <th>2</th>\n",
       "      <td>2013-1276-1257</td>\n",
       "      <td>0.262321</td>\n",
       "      <td>0</td>\n",
       "      <td>0.216886</td>\n",
       "      <td>0</td>\n",
       "    </tr>\n",
       "    <tr>\n",
       "      <th>3</th>\n",
       "      <td>2012-1233-1140</td>\n",
       "      <td>0.505581</td>\n",
       "      <td>0</td>\n",
       "      <td>0.488635</td>\n",
       "      <td>0</td>\n",
       "    </tr>\n",
       "    <tr>\n",
       "      <th>4</th>\n",
       "      <td>2013-1196-1195</td>\n",
       "      <td>0.941652</td>\n",
       "      <td>1</td>\n",
       "      <td>0.897942</td>\n",
       "      <td>1</td>\n",
       "    </tr>\n",
       "  </tbody>\n",
       "</table>\n",
       "</div>"
      ],
      "text/plain": [
       "          game_id  team1_log5  team1_win      prob  prediction\n",
       "0  2006-1214-1284    0.296584          0  0.247969           0\n",
       "1  2010-1165-1458    0.231415          1  0.191352           0\n",
       "2  2013-1276-1257    0.262321          0  0.216886           0\n",
       "3  2012-1233-1140    0.505581          0  0.488635           0\n",
       "4  2013-1196-1195    0.941652          1  0.897942           1"
      ]
     },
     "execution_count": 39,
     "metadata": {},
     "output_type": "execute_result"
    }
   ],
   "source": [
    "test[['game_id','team1_log5','team1_win','prob','prediction']].head()"
   ]
  },
  {
   "cell_type": "code",
   "execution_count": 40,
   "metadata": {
    "colab": {
     "base_uri": "https://localhost:8080/"
    },
    "id": "yf-u2JxaH2BO",
    "outputId": "3c2571f6-e401-4a56-b4b7-ce4765a6c589"
   },
   "outputs": [
    {
     "data": {
      "text/plain": [
       "team1_win\n",
       "0    0.374087\n",
       "1    0.596920\n",
       "Name: prob, dtype: float64"
      ]
     },
     "execution_count": 40,
     "metadata": {},
     "output_type": "execute_result"
    }
   ],
   "source": [
    "test.groupby('team1_win')['prob'].mean()"
   ]
  },
  {
   "cell_type": "code",
   "execution_count": 41,
   "metadata": {
    "colab": {
     "base_uri": "https://localhost:8080/",
     "height": 300
    },
    "id": "WelW5ioNI7qR",
    "outputId": "12e7671e-1431-4a5c-9c19-a02fe197429c"
   },
   "outputs": [
    {
     "data": {
      "text/plain": [
       "<AxesSubplot:xlabel='prob', ylabel='team1_log5'>"
      ]
     },
     "execution_count": 41,
     "metadata": {},
     "output_type": "execute_result"
    },
    {
     "data": {
      "image/png": "[encoded data removed]",
      "text/plain": [
       "<Figure size 432x288 with 1 Axes>"
      ]
     },
     "metadata": {},
     "output_type": "display_data"
    }
   ],
   "source": [
    "test.plot(kind='scatter', x='prob',y='team1_log5')"
   ]
  },
  {
   "cell_type": "code",
   "execution_count": 42,
   "metadata": {
    "colab": {
     "base_uri": "https://localhost:8080/"
    },
    "id": "BeO6Y0ChI7sq",
    "outputId": "9a725b1f-8b77-455d-a477-6e72ba20a0a3"
   },
   "outputs": [
    {
     "data": {
      "text/plain": [
       "array([[120,  46],\n",
       "       [ 66, 122]], dtype=int64)"
      ]
     },
     "execution_count": 42,
     "metadata": {},
     "output_type": "execute_result"
    }
   ],
   "source": [
    "confusion_matrix(test['team1_win'], test['prediction'])"
   ]
  },
  {
   "cell_type": "code",
   "execution_count": 43,
   "metadata": {
    "colab": {
     "base_uri": "https://localhost:8080/"
    },
    "id": "RmiYmfgwI7vc",
    "outputId": "3652de19-a2bf-4736-fe36-d72853b26e4d"
   },
   "outputs": [
    {
     "data": {
      "text/plain": [
       "0.6836158192090396"
      ]
     },
     "execution_count": 43,
     "metadata": {},
     "output_type": "execute_result"
    }
   ],
   "source": [
    "accuracy_score(test['team1_win'], test['prediction'],)"
   ]
  },
  {
   "cell_type": "code",
   "execution_count": 44,
   "metadata": {
    "colab": {
     "base_uri": "https://localhost:8080/"
    },
    "id": "oTcDU3jvI7xm",
    "outputId": "e7cdb450-71bf-4466-ec42-ea5d511e8c0f"
   },
   "outputs": [
    {
     "data": {
      "text/plain": [
       "0.7261904761904762"
      ]
     },
     "execution_count": 44,
     "metadata": {},
     "output_type": "execute_result"
    }
   ],
   "source": [
    "precision_score(test['team1_win'], test['prediction'])"
   ]
  },
  {
   "cell_type": "code",
   "execution_count": 45,
   "metadata": {
    "colab": {
     "base_uri": "https://localhost:8080/"
    },
    "id": "6VW5NER2I70A",
    "outputId": "e135dace-81f7-438e-a825-d0089bc508aa"
   },
   "outputs": [
    {
     "data": {
      "text/plain": [
       "0.648936170212766"
      ]
     },
     "execution_count": 45,
     "metadata": {},
     "output_type": "execute_result"
    }
   ],
   "source": [
    "recall_score(test['team1_win'], test['prediction'])"
   ]
  },
  {
   "cell_type": "code",
   "execution_count": 46,
   "metadata": {
    "colab": {
     "base_uri": "https://localhost:8080/"
    },
    "id": "6MqBX2XHI72l",
    "outputId": "2ab8af68-a549-4282-9a03-ba5c0496168c"
   },
   "outputs": [
    {
     "data": {
      "text/plain": [
       "0.6853932584269663"
      ]
     },
     "execution_count": 46,
     "metadata": {},
     "output_type": "execute_result"
    }
   ],
   "source": [
    "f1_score(test['team1_win'], test['prediction'])"
   ]
  },
  {
   "cell_type": "code",
   "execution_count": 47,
   "metadata": {
    "colab": {
     "base_uri": "https://localhost:8080/"
    },
    "id": "NGz7KCBlI745",
    "outputId": "71f875e2-f71f-4abd-d7b5-463c1603bb6f"
   },
   "outputs": [
    {
     "data": {
      "text/plain": [
       "0.5794851418548678"
      ]
     },
     "execution_count": 47,
     "metadata": {},
     "output_type": "execute_result"
    }
   ],
   "source": [
    "log_loss(test['team1_win'].values, test['prob'].values, labels=[0,1])"
   ]
  },
  {
   "cell_type": "code",
   "execution_count": 48,
   "metadata": {
    "id": "Sh0QxiX-I77f"
   },
   "outputs": [],
   "source": [
    "def plot_roc(fpr, tpr, roc_auc):\n",
    "    \"\"\"Plots the ROC curve for the win probability model along with\n",
    "    the AUC.\n",
    "    \"\"\"\n",
    "    fig, ax = plt.subplots()\n",
    "    ax.set(xlim=[0, 1], ylim=[0, 1], xlabel='False Positive Rate',\n",
    "           ylabel='True Positive Rate')\n",
    "    ax.plot(fpr, tpr, 'b', label='AUC = %0.2f' % roc_auc)\n",
    "    ax.plot([0, 1], [0, 1], 'k--')\n",
    "    ax.legend(loc='lower right')"
   ]
  },
  {
   "cell_type": "code",
   "execution_count": 49,
   "metadata": {
    "colab": {
     "base_uri": "https://localhost:8080/",
     "height": 299
    },
    "id": "AgXxTAysI7-G",
    "outputId": "7b2fd155-1f88-493c-a29c-6c2983592d78"
   },
   "outputs": [
    {
     "data": {
      "image/png": "[encoded data removed]",
      "text/plain": [
       "<Figure size 432x288 with 1 Axes>"
      ]
     },
     "metadata": {},
     "output_type": "display_data"
    }
   ],
   "source": [
    "fpr, tpr, thresholds = roc_curve(test['team1_win'].values, test['prob'].values)\n",
    "roc_auc = auc(fpr, tpr)\n",
    "plot_roc(fpr, tpr, roc_auc)"
   ]
  },
  {
   "cell_type": "code",
   "execution_count": 50,
   "metadata": {
    "colab": {
     "base_uri": "https://localhost:8080/"
    },
    "id": "983IZQH1I8Al",
    "outputId": "070e7bed-fe6b-46ea-acd4-8b7afa5992f2"
   },
   "outputs": [
    {
     "data": {
      "text/plain": [
       "0.7633619584721867"
      ]
     },
     "execution_count": 50,
     "metadata": {},
     "output_type": "execute_result"
    }
   ],
   "source": [
    "roc_auc_score(test['team1_win'].values, test['prob'].values)"
   ]
  },
  {
   "cell_type": "markdown",
   "metadata": {
    "id": "3l50rzyxJLcz"
   },
   "source": [
    "# Add log5 & net_eff"
   ]
  },
  {
   "cell_type": "code",
   "execution_count": 51,
   "metadata": {
    "colab": {
     "base_uri": "https://localhost:8080/",
     "height": 473
    },
    "id": "a9L4_eMIObMf",
    "outputId": "83676d52-e9f8-4083-cdf2-3da3874027da"
   },
   "outputs": [
    {
     "data": {
      "text/html": [
       "<div>\n",
       "<style scoped>\n",
       "    .dataframe tbody tr th:only-of-type {\n",
       "        vertical-align: middle;\n",
       "    }\n",
       "\n",
       "    .dataframe tbody tr th {\n",
       "        vertical-align: top;\n",
       "    }\n",
       "\n",
       "    .dataframe thead th {\n",
       "        text-align: right;\n",
       "    }\n",
       "</style>\n",
       "<table border=\"1\" class=\"dataframe\">\n",
       "  <thead>\n",
       "    <tr style=\"text-align: right;\">\n",
       "      <th></th>\n",
       "      <th>team2_id</th>\n",
       "      <th>team2_score</th>\n",
       "      <th>team1_id</th>\n",
       "      <th>team1_score</th>\n",
       "      <th>WLoc</th>\n",
       "      <th>num_ot</th>\n",
       "      <th>team2_position</th>\n",
       "      <th>team1_position</th>\n",
       "      <th>team2_seed</th>\n",
       "      <th>team1_seed</th>\n",
       "      <th>...</th>\n",
       "      <th>team1_adjoe</th>\n",
       "      <th>team1_de</th>\n",
       "      <th>team1_adjde</th>\n",
       "      <th>game_id</th>\n",
       "      <th>exp_win2</th>\n",
       "      <th>exp_win1</th>\n",
       "      <th>team1_log5</th>\n",
       "      <th>seed_diff</th>\n",
       "      <th>team1_net_eff</th>\n",
       "      <th>team1_win</th>\n",
       "    </tr>\n",
       "  </thead>\n",
       "  <tbody>\n",
       "    <tr>\n",
       "      <th>0</th>\n",
       "      <td>1429</td>\n",
       "      <td>53</td>\n",
       "      <td>1112</td>\n",
       "      <td>66</td>\n",
       "      <td>N</td>\n",
       "      <td>0</td>\n",
       "      <td>X14</td>\n",
       "      <td>X03</td>\n",
       "      <td>14</td>\n",
       "      <td>3</td>\n",
       "      <td>...</td>\n",
       "      <td>114.0151</td>\n",
       "      <td>97.7107</td>\n",
       "      <td>95.3458</td>\n",
       "      <td>2005-1112-1429</td>\n",
       "      <td>0.885899</td>\n",
       "      <td>0.886596</td>\n",
       "      <td>0.501729</td>\n",
       "      <td>-11</td>\n",
       "      <td>-5.3253</td>\n",
       "      <td>1</td>\n",
       "    </tr>\n",
       "    <tr>\n",
       "      <th>1</th>\n",
       "      <td>1163</td>\n",
       "      <td>77</td>\n",
       "      <td>1437</td>\n",
       "      <td>65</td>\n",
       "      <td>N</td>\n",
       "      <td>0</td>\n",
       "      <td>W07</td>\n",
       "      <td>W02</td>\n",
       "      <td>7</td>\n",
       "      <td>2</td>\n",
       "      <td>...</td>\n",
       "      <td>115.8448</td>\n",
       "      <td>96.7318</td>\n",
       "      <td>93.7249</td>\n",
       "      <td>2014-1437-1163</td>\n",
       "      <td>0.868820</td>\n",
       "      <td>0.919584</td>\n",
       "      <td>0.633239</td>\n",
       "      <td>-5</td>\n",
       "      <td>5.9136</td>\n",
       "      <td>0</td>\n",
       "    </tr>\n",
       "    <tr>\n",
       "      <th>2</th>\n",
       "      <td>1277</td>\n",
       "      <td>76</td>\n",
       "      <td>1400</td>\n",
       "      <td>85</td>\n",
       "      <td>N</td>\n",
       "      <td>0</td>\n",
       "      <td>X07</td>\n",
       "      <td>X01</td>\n",
       "      <td>7</td>\n",
       "      <td>1</td>\n",
       "      <td>...</td>\n",
       "      <td>118.7559</td>\n",
       "      <td>96.9119</td>\n",
       "      <td>96.4505</td>\n",
       "      <td>2003-1400-1277</td>\n",
       "      <td>0.861114</td>\n",
       "      <td>0.916251</td>\n",
       "      <td>0.638276</td>\n",
       "      <td>-6</td>\n",
       "      <td>8.3537</td>\n",
       "      <td>1</td>\n",
       "    </tr>\n",
       "    <tr>\n",
       "      <th>3</th>\n",
       "      <td>1257</td>\n",
       "      <td>69</td>\n",
       "      <td>1401</td>\n",
       "      <td>72</td>\n",
       "      <td>N</td>\n",
       "      <td>0</td>\n",
       "      <td>X06</td>\n",
       "      <td>X03</td>\n",
       "      <td>6</td>\n",
       "      <td>3</td>\n",
       "      <td>...</td>\n",
       "      <td>116.8243</td>\n",
       "      <td>89.4533</td>\n",
       "      <td>92.5218</td>\n",
       "      <td>2007-1401-1257</td>\n",
       "      <td>0.888784</td>\n",
       "      <td>0.935963</td>\n",
       "      <td>0.646509</td>\n",
       "      <td>-3</td>\n",
       "      <td>7.7127</td>\n",
       "      <td>1</td>\n",
       "    </tr>\n",
       "    <tr>\n",
       "      <th>4</th>\n",
       "      <td>1285</td>\n",
       "      <td>55</td>\n",
       "      <td>1276</td>\n",
       "      <td>74</td>\n",
       "      <td>N</td>\n",
       "      <td>0</td>\n",
       "      <td>X15</td>\n",
       "      <td>X02</td>\n",
       "      <td>15</td>\n",
       "      <td>2</td>\n",
       "      <td>...</td>\n",
       "      <td>115.7160</td>\n",
       "      <td>89.2552</td>\n",
       "      <td>86.0482</td>\n",
       "      <td>2019-1276-1285</td>\n",
       "      <td>0.595094</td>\n",
       "      <td>0.967912</td>\n",
       "      <td>0.953540</td>\n",
       "      <td>-13</td>\n",
       "      <td>-3.2660</td>\n",
       "      <td>1</td>\n",
       "    </tr>\n",
       "  </tbody>\n",
       "</table>\n",
       "<p>5 rows × 110 columns</p>\n",
       "</div>"
      ],
      "text/plain": [
       "   team2_id  team2_score  team1_id  team1_score WLoc  num_ot team2_position  \\\n",
       "0      1429           53      1112           66    N       0            X14   \n",
       "1      1163           77      1437           65    N       0            W07   \n",
       "2      1277           76      1400           85    N       0            X07   \n",
       "3      1257           69      1401           72    N       0            X06   \n",
       "4      1285           55      1276           74    N       0            X15   \n",
       "\n",
       "  team1_position  team2_seed  team1_seed  ...  team1_adjoe  team1_de  \\\n",
       "0            X03          14           3  ...     114.0151   97.7107   \n",
       "1            W02           7           2  ...     115.8448   96.7318   \n",
       "2            X01           7           1  ...     118.7559   96.9119   \n",
       "3            X03           6           3  ...     116.8243   89.4533   \n",
       "4            X02          15           2  ...     115.7160   89.2552   \n",
       "\n",
       "  team1_adjde         game_id  exp_win2  exp_win1 team1_log5  seed_diff  \\\n",
       "0     95.3458  2005-1112-1429  0.885899  0.886596   0.501729        -11   \n",
       "1     93.7249  2014-1437-1163  0.868820  0.919584   0.633239         -5   \n",
       "2     96.4505  2003-1400-1277  0.861114  0.916251   0.638276         -6   \n",
       "3     92.5218  2007-1401-1257  0.888784  0.935963   0.646509         -3   \n",
       "4     86.0482  2019-1276-1285  0.595094  0.967912   0.953540        -13   \n",
       "\n",
       "  team1_net_eff  team1_win  \n",
       "0       -5.3253          1  \n",
       "1        5.9136          0  \n",
       "2        8.3537          1  \n",
       "3        7.7127          1  \n",
       "4       -3.2660          1  \n",
       "\n",
       "[5 rows x 110 columns]"
      ]
     },
     "execution_count": 51,
     "metadata": {},
     "output_type": "execute_result"
    }
   ],
   "source": [
    "train.head()"
   ]
  },
  {
   "cell_type": "code",
   "execution_count": 52,
   "metadata": {
    "colab": {
     "base_uri": "https://localhost:8080/"
    },
    "id": "fp-9Nid_I8DM",
    "outputId": "4eb0bf2c-ba88-47fe-c48a-10fe05fb6463"
   },
   "outputs": [
    {
     "data": {
      "text/plain": [
       "LogisticRegression()"
      ]
     },
     "execution_count": 52,
     "metadata": {},
     "output_type": "execute_result"
    }
   ],
   "source": [
    "logit = LogisticRegression()\n",
    "logit.fit(train[['team1_log5','seed_diff','team1_net_eff']], train['team1_win'])"
   ]
  },
  {
   "cell_type": "code",
   "execution_count": 53,
   "metadata": {
    "colab": {
     "base_uri": "https://localhost:8080/",
     "height": 348
    },
    "id": "Zs2K45coI8F0",
    "outputId": "3394de44-ac2e-40ac-ab79-55d3704e2371"
   },
   "outputs": [
    {
     "name": "stdout",
     "output_type": "stream",
     "text": [
      "Optimization terminated successfully.\n",
      "         Current function value: 0.525201\n",
      "         Iterations 6\n"
     ]
    },
    {
     "data": {
      "text/html": [
       "<table class=\"simpletable\">\n",
       "<caption>Logit Regression Results</caption>\n",
       "<tr>\n",
       "  <th>Dep. Variable:</th>       <td>team1_win</td>    <th>  No. Observations:  </th>  <td>   825</td>  \n",
       "</tr>\n",
       "<tr>\n",
       "  <th>Model:</th>                 <td>Logit</td>      <th>  Df Residuals:      </th>  <td>   821</td>  \n",
       "</tr>\n",
       "<tr>\n",
       "  <th>Method:</th>                 <td>MLE</td>       <th>  Df Model:          </th>  <td>     3</td>  \n",
       "</tr>\n",
       "<tr>\n",
       "  <th>Date:</th>            <td>Wed, 23 Mar 2022</td> <th>  Pseudo R-squ.:     </th>  <td>0.2419</td>  \n",
       "</tr>\n",
       "<tr>\n",
       "  <th>Time:</th>                <td>22:40:19</td>     <th>  Log-Likelihood:    </th> <td> -433.29</td> \n",
       "</tr>\n",
       "<tr>\n",
       "  <th>converged:</th>             <td>True</td>       <th>  LL-Null:           </th> <td> -571.58</td> \n",
       "</tr>\n",
       "<tr>\n",
       "  <th>Covariance Type:</th>     <td>nonrobust</td>    <th>  LLR p-value:       </th> <td>1.166e-59</td>\n",
       "</tr>\n",
       "</table>\n",
       "<table class=\"simpletable\">\n",
       "<tr>\n",
       "        <td></td>           <th>coef</th>     <th>std err</th>      <th>z</th>      <th>P>|z|</th>  <th>[0.025</th>    <th>0.975]</th>  \n",
       "</tr>\n",
       "<tr>\n",
       "  <th>Intercept</th>     <td>   -2.4449</td> <td>    0.433</td> <td>   -5.641</td> <td> 0.000</td> <td>   -3.294</td> <td>   -1.595</td>\n",
       "</tr>\n",
       "<tr>\n",
       "  <th>team1_log5</th>    <td>    4.7322</td> <td>    0.850</td> <td>    5.566</td> <td> 0.000</td> <td>    3.066</td> <td>    6.399</td>\n",
       "</tr>\n",
       "<tr>\n",
       "  <th>seed_diff</th>     <td>   -0.0391</td> <td>    0.025</td> <td>   -1.554</td> <td> 0.120</td> <td>   -0.088</td> <td>    0.010</td>\n",
       "</tr>\n",
       "<tr>\n",
       "  <th>team1_net_eff</th> <td>    0.0126</td> <td>    0.015</td> <td>    0.821</td> <td> 0.412</td> <td>   -0.017</td> <td>    0.043</td>\n",
       "</tr>\n",
       "</table>"
      ],
      "text/plain": [
       "<class 'statsmodels.iolib.summary.Summary'>\n",
       "\"\"\"\n",
       "                           Logit Regression Results                           \n",
       "==============================================================================\n",
       "Dep. Variable:              team1_win   No. Observations:                  825\n",
       "Model:                          Logit   Df Residuals:                      821\n",
       "Method:                           MLE   Df Model:                            3\n",
       "Date:                Wed, 23 Mar 2022   Pseudo R-squ.:                  0.2419\n",
       "Time:                        22:40:19   Log-Likelihood:                -433.29\n",
       "converged:                       True   LL-Null:                       -571.58\n",
       "Covariance Type:            nonrobust   LLR p-value:                 1.166e-59\n",
       "=================================================================================\n",
       "                    coef    std err          z      P>|z|      [0.025      0.975]\n",
       "---------------------------------------------------------------------------------\n",
       "Intercept        -2.4449      0.433     -5.641      0.000      -3.294      -1.595\n",
       "team1_log5        4.7322      0.850      5.566      0.000       3.066       6.399\n",
       "seed_diff        -0.0391      0.025     -1.554      0.120      -0.088       0.010\n",
       "team1_net_eff     0.0126      0.015      0.821      0.412      -0.017       0.043\n",
       "=================================================================================\n",
       "\"\"\""
      ]
     },
     "execution_count": 53,
     "metadata": {},
     "output_type": "execute_result"
    }
   ],
   "source": [
    "smlogit = smf.logit(\"team1_win ~ team1_log5 + seed_diff + team1_net_eff\", train).fit()\n",
    "smlogit.summary()"
   ]
  },
  {
   "cell_type": "code",
   "execution_count": 54,
   "metadata": {
    "id": "VX9458r8I8IR"
   },
   "outputs": [],
   "source": [
    "test['prob'] = logit.predict_proba(test[['team1_log5', 'seed_diff','team1_net_eff']])[:,1]\n",
    "test['prediction'] = logit.predict(test[['team1_log5','seed_diff','team1_net_eff']])"
   ]
  },
  {
   "cell_type": "code",
   "execution_count": 55,
   "metadata": {
    "colab": {
     "base_uri": "https://localhost:8080/"
    },
    "id": "ANTZnYtkODZL",
    "outputId": "c4d92844-fd0e-42a8-db69-587d0318d5f6"
   },
   "outputs": [
    {
     "data": {
      "text/plain": [
       "array([[120,  46],\n",
       "       [ 59, 129]], dtype=int64)"
      ]
     },
     "execution_count": 55,
     "metadata": {},
     "output_type": "execute_result"
    }
   ],
   "source": [
    "confusion_matrix(test['team1_win'], test['prediction'])"
   ]
  },
  {
   "cell_type": "code",
   "execution_count": 56,
   "metadata": {
    "colab": {
     "base_uri": "https://localhost:8080/"
    },
    "id": "WbuHnUScJTP-",
    "outputId": "4fd3f227-5894-43b5-cda8-5720c83cff57"
   },
   "outputs": [
    {
     "data": {
      "text/plain": [
       "0.7033898305084746"
      ]
     },
     "execution_count": 56,
     "metadata": {},
     "output_type": "execute_result"
    }
   ],
   "source": [
    "accuracy_score(test['team1_win'], test['prediction'],)"
   ]
  },
  {
   "cell_type": "code",
   "execution_count": 57,
   "metadata": {
    "colab": {
     "base_uri": "https://localhost:8080/"
    },
    "id": "iQe3K7oZJTSf",
    "outputId": "38023a1d-27cf-4620-ddfc-5a411882084b"
   },
   "outputs": [
    {
     "data": {
      "text/plain": [
       "0.7371428571428571"
      ]
     },
     "execution_count": 57,
     "metadata": {},
     "output_type": "execute_result"
    }
   ],
   "source": [
    "precision_score(test['team1_win'], test['prediction'])"
   ]
  },
  {
   "cell_type": "code",
   "execution_count": 58,
   "metadata": {
    "colab": {
     "base_uri": "https://localhost:8080/"
    },
    "id": "ss2IOvCNJTU6",
    "outputId": "a8f8d221-bc77-41ec-cee2-2a4a629c6e7d"
   },
   "outputs": [
    {
     "data": {
      "text/plain": [
       "0.6861702127659575"
      ]
     },
     "execution_count": 58,
     "metadata": {},
     "output_type": "execute_result"
    }
   ],
   "source": [
    "recall_score(test['team1_win'], test['prediction'])"
   ]
  },
  {
   "cell_type": "code",
   "execution_count": 59,
   "metadata": {
    "colab": {
     "base_uri": "https://localhost:8080/"
    },
    "id": "ErHPTmoIJTXT",
    "outputId": "188a9392-78e2-4745-fe68-5f6e432cce6d"
   },
   "outputs": [
    {
     "data": {
      "text/plain": [
       "0.7107438016528925"
      ]
     },
     "execution_count": 59,
     "metadata": {},
     "output_type": "execute_result"
    }
   ],
   "source": [
    "f1_score(test['team1_win'], test['prediction'])"
   ]
  },
  {
   "cell_type": "code",
   "execution_count": 60,
   "metadata": {
    "colab": {
     "base_uri": "https://localhost:8080/"
    },
    "id": "OI9bplH9JTZp",
    "outputId": "c25436dd-eaa2-4a53-dbc3-1e9a732a12c9"
   },
   "outputs": [
    {
     "data": {
      "text/plain": [
       "0.5729683670480156"
      ]
     },
     "execution_count": 60,
     "metadata": {},
     "output_type": "execute_result"
    }
   ],
   "source": [
    "log_loss(test['team1_win'].values, test['prob'].values)"
   ]
  },
  {
   "cell_type": "code",
   "execution_count": 61,
   "metadata": {
    "colab": {
     "base_uri": "https://localhost:8080/",
     "height": 299
    },
    "id": "47aSo3ETJTcE",
    "outputId": "7a1b3f83-3725-4198-b5b2-683b0493b94c"
   },
   "outputs": [
    {
     "data": {
      "image/png": "[encoded data removed]",
      "text/plain": [
       "<Figure size 432x288 with 1 Axes>"
      ]
     },
     "metadata": {},
     "output_type": "display_data"
    }
   ],
   "source": [
    "fpr, tpr, thresholds = roc_curve(test['team1_win'].values, test['prob'].values)\n",
    "roc_auc = auc(fpr, tpr)\n",
    "plot_roc(fpr, tpr, roc_auc)"
   ]
  },
  {
   "cell_type": "code",
   "execution_count": 62,
   "metadata": {
    "colab": {
     "base_uri": "https://localhost:8080/"
    },
    "id": "V6Gyd1JoJTeh",
    "outputId": "2a154aba-57c2-417f-9516-07ab5c31f0b0"
   },
   "outputs": [
    {
     "data": {
      "text/plain": [
       "0.7700269161753397"
      ]
     },
     "execution_count": 62,
     "metadata": {},
     "output_type": "execute_result"
    }
   ],
   "source": [
    "roc_auc_score(test['team1_win'].values, test['prob'].values)"
   ]
  },
  {
   "cell_type": "markdown",
   "metadata": {
    "id": "eAq_qUa5vaNU"
   },
   "source": [
    "# 相关组合探索：\n",
    "第十次"
   ]
  },
  {
   "cell_type": "code",
   "execution_count": 63,
   "metadata": {
    "colab": {
     "base_uri": "https://localhost:8080/",
     "height": 487
    },
    "id": "uYodZ4DXvfQG",
    "outputId": "9f0defc5-303a-4636-ba08-06c85b33c781"
   },
   "outputs": [
    {
     "data": {
      "text/html": [
       "<div>\n",
       "<style scoped>\n",
       "    .dataframe tbody tr th:only-of-type {\n",
       "        vertical-align: middle;\n",
       "    }\n",
       "\n",
       "    .dataframe tbody tr th {\n",
       "        vertical-align: top;\n",
       "    }\n",
       "\n",
       "    .dataframe thead th {\n",
       "        text-align: right;\n",
       "    }\n",
       "</style>\n",
       "<table border=\"1\" class=\"dataframe\">\n",
       "  <thead>\n",
       "    <tr style=\"text-align: right;\">\n",
       "      <th></th>\n",
       "      <th>team2_id</th>\n",
       "      <th>team1_id</th>\n",
       "      <th>num_ot</th>\n",
       "      <th>team2_seed</th>\n",
       "      <th>team1_seed</th>\n",
       "      <th>strongseed</th>\n",
       "      <th>weakseed</th>\n",
       "      <th>season</th>\n",
       "      <th>host_lat</th>\n",
       "      <th>host_long</th>\n",
       "      <th>...</th>\n",
       "      <th>team1_oe</th>\n",
       "      <th>team1_adjoe</th>\n",
       "      <th>team1_de</th>\n",
       "      <th>team1_adjde</th>\n",
       "      <th>exp_win2</th>\n",
       "      <th>exp_win1</th>\n",
       "      <th>team1_log5</th>\n",
       "      <th>seed_diff</th>\n",
       "      <th>team1_net_eff</th>\n",
       "      <th>team1_win</th>\n",
       "    </tr>\n",
       "  </thead>\n",
       "  <tbody>\n",
       "    <tr>\n",
       "      <th>0</th>\n",
       "      <td>1429</td>\n",
       "      <td>1112</td>\n",
       "      <td>0</td>\n",
       "      <td>14</td>\n",
       "      <td>3</td>\n",
       "      <td>3</td>\n",
       "      <td>14</td>\n",
       "      <td>2005</td>\n",
       "      <td>43.6167</td>\n",
       "      <td>-116.2000</td>\n",
       "      <td>...</td>\n",
       "      <td>111.7366</td>\n",
       "      <td>114.0151</td>\n",
       "      <td>97.7107</td>\n",
       "      <td>95.3458</td>\n",
       "      <td>0.885899</td>\n",
       "      <td>0.886596</td>\n",
       "      <td>0.501729</td>\n",
       "      <td>-11</td>\n",
       "      <td>-5.3253</td>\n",
       "      <td>1</td>\n",
       "    </tr>\n",
       "    <tr>\n",
       "      <th>1</th>\n",
       "      <td>1163</td>\n",
       "      <td>1437</td>\n",
       "      <td>0</td>\n",
       "      <td>7</td>\n",
       "      <td>2</td>\n",
       "      <td>2</td>\n",
       "      <td>7</td>\n",
       "      <td>2014</td>\n",
       "      <td>42.9047</td>\n",
       "      <td>-78.8494</td>\n",
       "      <td>...</td>\n",
       "      <td>114.1827</td>\n",
       "      <td>115.8448</td>\n",
       "      <td>96.7318</td>\n",
       "      <td>93.7249</td>\n",
       "      <td>0.868820</td>\n",
       "      <td>0.919584</td>\n",
       "      <td>0.633239</td>\n",
       "      <td>-5</td>\n",
       "      <td>5.9136</td>\n",
       "      <td>0</td>\n",
       "    </tr>\n",
       "    <tr>\n",
       "      <th>2</th>\n",
       "      <td>1277</td>\n",
       "      <td>1400</td>\n",
       "      <td>0</td>\n",
       "      <td>7</td>\n",
       "      <td>1</td>\n",
       "      <td>1</td>\n",
       "      <td>7</td>\n",
       "      <td>2003</td>\n",
       "      <td>29.4167</td>\n",
       "      <td>-98.5000</td>\n",
       "      <td>...</td>\n",
       "      <td>111.2154</td>\n",
       "      <td>118.7559</td>\n",
       "      <td>96.9119</td>\n",
       "      <td>96.4505</td>\n",
       "      <td>0.861114</td>\n",
       "      <td>0.916251</td>\n",
       "      <td>0.638276</td>\n",
       "      <td>-6</td>\n",
       "      <td>8.3537</td>\n",
       "      <td>1</td>\n",
       "    </tr>\n",
       "    <tr>\n",
       "      <th>3</th>\n",
       "      <td>1257</td>\n",
       "      <td>1401</td>\n",
       "      <td>0</td>\n",
       "      <td>6</td>\n",
       "      <td>3</td>\n",
       "      <td>3</td>\n",
       "      <td>6</td>\n",
       "      <td>2007</td>\n",
       "      <td>38.0297</td>\n",
       "      <td>-84.4947</td>\n",
       "      <td>...</td>\n",
       "      <td>114.7877</td>\n",
       "      <td>116.8243</td>\n",
       "      <td>89.4533</td>\n",
       "      <td>92.5218</td>\n",
       "      <td>0.888784</td>\n",
       "      <td>0.935963</td>\n",
       "      <td>0.646509</td>\n",
       "      <td>-3</td>\n",
       "      <td>7.7127</td>\n",
       "      <td>1</td>\n",
       "    </tr>\n",
       "    <tr>\n",
       "      <th>4</th>\n",
       "      <td>1285</td>\n",
       "      <td>1276</td>\n",
       "      <td>0</td>\n",
       "      <td>15</td>\n",
       "      <td>2</td>\n",
       "      <td>2</td>\n",
       "      <td>15</td>\n",
       "      <td>2019</td>\n",
       "      <td>41.6000</td>\n",
       "      <td>-93.6100</td>\n",
       "      <td>...</td>\n",
       "      <td>108.2360</td>\n",
       "      <td>115.7160</td>\n",
       "      <td>89.2552</td>\n",
       "      <td>86.0482</td>\n",
       "      <td>0.595094</td>\n",
       "      <td>0.967912</td>\n",
       "      <td>0.953540</td>\n",
       "      <td>-13</td>\n",
       "      <td>-3.2660</td>\n",
       "      <td>1</td>\n",
       "    </tr>\n",
       "    <tr>\n",
       "      <th>...</th>\n",
       "      <td>...</td>\n",
       "      <td>...</td>\n",
       "      <td>...</td>\n",
       "      <td>...</td>\n",
       "      <td>...</td>\n",
       "      <td>...</td>\n",
       "      <td>...</td>\n",
       "      <td>...</td>\n",
       "      <td>...</td>\n",
       "      <td>...</td>\n",
       "      <td>...</td>\n",
       "      <td>...</td>\n",
       "      <td>...</td>\n",
       "      <td>...</td>\n",
       "      <td>...</td>\n",
       "      <td>...</td>\n",
       "      <td>...</td>\n",
       "      <td>...</td>\n",
       "      <td>...</td>\n",
       "      <td>...</td>\n",
       "      <td>...</td>\n",
       "    </tr>\n",
       "    <tr>\n",
       "      <th>820</th>\n",
       "      <td>1323</td>\n",
       "      <td>1112</td>\n",
       "      <td>0</td>\n",
       "      <td>5</td>\n",
       "      <td>1</td>\n",
       "      <td>1</td>\n",
       "      <td>5</td>\n",
       "      <td>2003</td>\n",
       "      <td>33.8361</td>\n",
       "      <td>-117.8897</td>\n",
       "      <td>...</td>\n",
       "      <td>110.9747</td>\n",
       "      <td>114.4555</td>\n",
       "      <td>91.6550</td>\n",
       "      <td>90.2006</td>\n",
       "      <td>0.861791</td>\n",
       "      <td>0.939273</td>\n",
       "      <td>0.712689</td>\n",
       "      <td>-4</td>\n",
       "      <td>0.6996</td>\n",
       "      <td>1</td>\n",
       "    </tr>\n",
       "    <tr>\n",
       "      <th>821</th>\n",
       "      <td>1300</td>\n",
       "      <td>1295</td>\n",
       "      <td>0</td>\n",
       "      <td>16</td>\n",
       "      <td>16</td>\n",
       "      <td>16</td>\n",
       "      <td>16</td>\n",
       "      <td>2019</td>\n",
       "      <td>39.7594</td>\n",
       "      <td>-84.1917</td>\n",
       "      <td>...</td>\n",
       "      <td>108.1980</td>\n",
       "      <td>106.6750</td>\n",
       "      <td>110.0540</td>\n",
       "      <td>109.8730</td>\n",
       "      <td>0.208404</td>\n",
       "      <td>0.415885</td>\n",
       "      <td>0.730051</td>\n",
       "      <td>0</td>\n",
       "      <td>7.6960</td>\n",
       "      <td>1</td>\n",
       "    </tr>\n",
       "    <tr>\n",
       "      <th>822</th>\n",
       "      <td>1173</td>\n",
       "      <td>1393</td>\n",
       "      <td>0</td>\n",
       "      <td>7</td>\n",
       "      <td>10</td>\n",
       "      <td>7</td>\n",
       "      <td>10</td>\n",
       "      <td>2016</td>\n",
       "      <td>38.6272</td>\n",
       "      <td>-90.1978</td>\n",
       "      <td>...</td>\n",
       "      <td>106.8060</td>\n",
       "      <td>110.4020</td>\n",
       "      <td>99.7255</td>\n",
       "      <td>94.5622</td>\n",
       "      <td>0.824083</td>\n",
       "      <td>0.855822</td>\n",
       "      <td>0.558913</td>\n",
       "      <td>3</td>\n",
       "      <td>1.3610</td>\n",
       "      <td>1</td>\n",
       "    </tr>\n",
       "    <tr>\n",
       "      <th>823</th>\n",
       "      <td>1199</td>\n",
       "      <td>1281</td>\n",
       "      <td>0</td>\n",
       "      <td>9</td>\n",
       "      <td>8</td>\n",
       "      <td>8</td>\n",
       "      <td>9</td>\n",
       "      <td>2018</td>\n",
       "      <td>36.1667</td>\n",
       "      <td>-86.7833</td>\n",
       "      <td>...</td>\n",
       "      <td>113.3000</td>\n",
       "      <td>108.1000</td>\n",
       "      <td>97.8000</td>\n",
       "      <td>100.8000</td>\n",
       "      <td>0.734879</td>\n",
       "      <td>0.690843</td>\n",
       "      <td>0.446343</td>\n",
       "      <td>-1</td>\n",
       "      <td>-2.5000</td>\n",
       "      <td>0</td>\n",
       "    </tr>\n",
       "    <tr>\n",
       "      <th>824</th>\n",
       "      <td>1400</td>\n",
       "      <td>1112</td>\n",
       "      <td>0</td>\n",
       "      <td>4</td>\n",
       "      <td>5</td>\n",
       "      <td>4</td>\n",
       "      <td>5</td>\n",
       "      <td>2011</td>\n",
       "      <td>36.1314</td>\n",
       "      <td>-95.9372</td>\n",
       "      <td>...</td>\n",
       "      <td>112.6932</td>\n",
       "      <td>114.0809</td>\n",
       "      <td>98.8971</td>\n",
       "      <td>98.0954</td>\n",
       "      <td>0.940078</td>\n",
       "      <td>0.850194</td>\n",
       "      <td>0.265653</td>\n",
       "      <td>1</td>\n",
       "      <td>3.2699</td>\n",
       "      <td>1</td>\n",
       "    </tr>\n",
       "  </tbody>\n",
       "</table>\n",
       "<p>825 rows × 96 columns</p>\n",
       "</div>"
      ],
      "text/plain": [
       "     team2_id  team1_id  num_ot  team2_seed  team1_seed  strongseed  weakseed  \\\n",
       "0        1429      1112       0          14           3           3        14   \n",
       "1        1163      1437       0           7           2           2         7   \n",
       "2        1277      1400       0           7           1           1         7   \n",
       "3        1257      1401       0           6           3           3         6   \n",
       "4        1285      1276       0          15           2           2        15   \n",
       "..        ...       ...     ...         ...         ...         ...       ...   \n",
       "820      1323      1112       0           5           1           1         5   \n",
       "821      1300      1295       0          16          16          16        16   \n",
       "822      1173      1393       0           7          10           7        10   \n",
       "823      1199      1281       0           9           8           8         9   \n",
       "824      1400      1112       0           4           5           4         5   \n",
       "\n",
       "     season  host_lat  host_long  ...  team1_oe  team1_adjoe  team1_de  \\\n",
       "0      2005   43.6167  -116.2000  ...  111.7366     114.0151   97.7107   \n",
       "1      2014   42.9047   -78.8494  ...  114.1827     115.8448   96.7318   \n",
       "2      2003   29.4167   -98.5000  ...  111.2154     118.7559   96.9119   \n",
       "3      2007   38.0297   -84.4947  ...  114.7877     116.8243   89.4533   \n",
       "4      2019   41.6000   -93.6100  ...  108.2360     115.7160   89.2552   \n",
       "..      ...       ...        ...  ...       ...          ...       ...   \n",
       "820    2003   33.8361  -117.8897  ...  110.9747     114.4555   91.6550   \n",
       "821    2019   39.7594   -84.1917  ...  108.1980     106.6750  110.0540   \n",
       "822    2016   38.6272   -90.1978  ...  106.8060     110.4020   99.7255   \n",
       "823    2018   36.1667   -86.7833  ...  113.3000     108.1000   97.8000   \n",
       "824    2011   36.1314   -95.9372  ...  112.6932     114.0809   98.8971   \n",
       "\n",
       "     team1_adjde  exp_win2  exp_win1  team1_log5  seed_diff  team1_net_eff  \\\n",
       "0        95.3458  0.885899  0.886596    0.501729        -11        -5.3253   \n",
       "1        93.7249  0.868820  0.919584    0.633239         -5         5.9136   \n",
       "2        96.4505  0.861114  0.916251    0.638276         -6         8.3537   \n",
       "3        92.5218  0.888784  0.935963    0.646509         -3         7.7127   \n",
       "4        86.0482  0.595094  0.967912    0.953540        -13        -3.2660   \n",
       "..           ...       ...       ...         ...        ...            ...   \n",
       "820      90.2006  0.861791  0.939273    0.712689         -4         0.6996   \n",
       "821     109.8730  0.208404  0.415885    0.730051          0         7.6960   \n",
       "822      94.5622  0.824083  0.855822    0.558913          3         1.3610   \n",
       "823     100.8000  0.734879  0.690843    0.446343         -1        -2.5000   \n",
       "824      98.0954  0.940078  0.850194    0.265653          1         3.2699   \n",
       "\n",
       "     team1_win  \n",
       "0            1  \n",
       "1            0  \n",
       "2            1  \n",
       "3            1  \n",
       "4            1  \n",
       "..         ...  \n",
       "820          1  \n",
       "821          1  \n",
       "822          1  \n",
       "823          0  \n",
       "824          1  \n",
       "\n",
       "[825 rows x 96 columns]"
      ]
     },
     "execution_count": 63,
     "metadata": {},
     "output_type": "execute_result"
    }
   ],
   "source": [
    "logit = LogisticRegression()\n",
    "RF = RandomForestClassifier()\n",
    "class_SVC = SVC(probability=True)\n",
    "mlp = MLPClassifier(hidden_layer_sizes=(30,30,30))\n",
    "list1 = ['WLoc','game_id','team1_score','team2_score','host','slot','team1_coach_id','team1_position','team1_region','team1_teamname','team2_coach_id','team2_position','team2_region','team2_teamname']\n",
    "train1 = train.drop(list1,axis = 1)\n",
    "train1\n",
    "# logit.fit(train.drop(), train['team1_win'])"
   ]
  },
  {
   "cell_type": "code",
   "execution_count": 64,
   "metadata": {
    "colab": {
     "base_uri": "https://localhost:8080/"
    },
    "id": "72h5l9dW3fE3",
    "outputId": "1ac9b8d9-7992-4acf-ae1b-126793a2f5ba"
   },
   "outputs": [
    {
     "name": "stderr",
     "output_type": "stream",
     "text": [
      "C:\\ProgramData\\Anaconda3\\lib\\site-packages\\sklearn\\linear_model\\_logistic.py:763: ConvergenceWarning: lbfgs failed to converge (status=1):\n",
      "STOP: TOTAL NO. of ITERATIONS REACHED LIMIT.\n",
      "\n",
      "Increase the number of iterations (max_iter) or scale the data as shown in:\n",
      "    https://scikit-learn.org/stable/modules/preprocessing.html\n",
      "Please also refer to the documentation for alternative solver options:\n",
      "    https://scikit-learn.org/stable/modules/linear_model.html#logistic-regression\n",
      "  n_iter_i = _check_optimize_result(\n"
     ]
    },
    {
     "data": {
      "text/plain": [
       "SVC(probability=True)"
      ]
     },
     "execution_count": 64,
     "metadata": {},
     "output_type": "execute_result"
    }
   ],
   "source": [
    "list_independent = ['team2_id', 'team1_id', 'num_ot',\n",
    "       'team2_seed', 'team1_seed', 'strongseed', 'weakseed', 'season',\n",
    "       'host_lat', 'host_long', 'team2_lat', 'team2_long', 'team1_lat',\n",
    "       'team1_long', 'team2_pt_school_ncaa', 'team2_pt_overall_ncaa',\n",
    "       'team2_pt_school_s16', 'team2_pt_overall_s16', 'team2_pt_school_ff',\n",
    "       'team2_pt_overall_ff', 'team2_pt_career_school_wins',\n",
    "       'team2_pt_career_school_losses', 'team2_pt_career_overall_wins',\n",
    "       'team2_pt_career_overall_losses', 'team2_pt_team_season_wins',\n",
    "       'team2_pt_team_season_losses', 'team2_pt_coach_season_wins',\n",
    "       'team2_pt_coach_season_losses', 'team1_pt_school_ncaa',\n",
    "       'team1_pt_overall_ncaa', 'team1_pt_school_s16', 'team1_pt_overall_s16',\n",
    "       'team1_pt_school_ff', 'team1_pt_overall_ff',\n",
    "       'team1_pt_career_school_wins', 'team1_pt_career_school_losses',\n",
    "       'team1_pt_career_overall_wins', 'team1_pt_career_overall_losses',\n",
    "       'team1_pt_team_season_wins', 'team1_pt_team_season_losses',\n",
    "       'team1_pt_coach_season_wins', 'team1_pt_coach_season_losses',\n",
    "       'team2_fg2pct', 'team2_fg3pct', 'team2_ftpct', 'team2_blockpct',\n",
    "       'team2_oppfg2pct', 'team2_oppfg3pct', 'team2_oppftpct',\n",
    "       'team2_oppblockpct', 'team2_f3grate', 'team2_oppf3grate', 'team2_arate',\n",
    "       'team2_opparate', 'team2_stlrate', 'team2_oppstlrate', 'team1_fg2pct',\n",
    "       'team1_fg3pct', 'team1_ftpct', 'team1_blockpct', 'team1_oppfg2pct',\n",
    "       'team1_oppfg3pct', 'team1_oppftpct', 'team1_oppblockpct',\n",
    "       'team1_f3grate', 'team1_oppf3grate', 'team1_arate', 'team1_opparate',\n",
    "       'team1_stlrate', 'team1_oppstlrate', 'team2_tempo', 'team2_adjtempo',\n",
    "       'team2_oe', 'team2_adjoe', 'team2_de', 'team2_adjde', 'team1_tempo',\n",
    "       'team1_adjtempo', 'team1_oe', 'team1_adjoe', 'team1_de', 'team1_adjde',\n",
    "       'exp_win2', 'exp_win1', 'team1_log5', 'seed_diff', 'team1_net_eff']\n",
    "list2 = ['team1_ap_final','team1_ap_preseason','team1_coaches_before_final','team1_coaches_preseason','team2_ap_final','team2_ap_preseason','team2_coaches_before_final','team2_coaches_preseason']\n",
    "train2 = train1.drop(list2,axis = 1)\n",
    "logit.fit(train2[list_independent], train2['team1_win'])\n",
    "RF.fit(train2[list_independent],train2['team1_win'])\n",
    "mlp.fit(train2[list_independent],train2['team1_win'])\n",
    "class_SVC.fit(train2[list_independent],train2['team1_win'])"
   ]
  },
  {
   "cell_type": "code",
   "execution_count": 65,
   "metadata": {
    "id": "7O_CG8kJvfSk"
   },
   "outputs": [],
   "source": [
    "# smlogit = smf.logit(\"team1_win ~ exp_win1 + exp_win2\", train).fit()\n",
    "# smlogit.summary()"
   ]
  },
  {
   "cell_type": "code",
   "execution_count": 66,
   "metadata": {
    "id": "eFr--BegvfU7"
   },
   "outputs": [],
   "source": [
    "list1 = ['WLoc','game_id','team1_score','team2_score','host','slot','team1_coach_id','team1_position','team1_region','team1_teamname','team2_coach_id','team2_position','team2_region','team2_teamname']\n",
    "test1 = test.drop(list1,axis = 1)\n",
    "list2 = ['team1_ap_final','team1_ap_preseason','team1_coaches_before_final','team1_coaches_preseason','team2_ap_final','team2_ap_preseason','team2_coaches_before_final','team2_coaches_preseason']\n",
    "test2 = test1.drop(list2,axis = 1)\n",
    "test2['prob'] = logit.predict_proba(test2[list_independent])[:,1]\n",
    "test2['prediction'] = logit.predict(test2[list_independent])\n",
    "test3 = test1.drop(list2,axis = 1)\n",
    "test3['prob'] = RF.predict_proba(test3[list_independent])[:,1]\n",
    "test3['prediction'] = RF.predict(test3[list_independent])\n",
    "test4 = test1.drop(list2,axis = 1)\n",
    "test4['prob'] = mlp.predict_proba(test4[list_independent])[:,1]\n",
    "test4['prediction'] = mlp.predict(test4[list_independent])\n",
    "test5 = test1.drop(list2,axis = 1)\n",
    "test5['prob'] = class_SVC.predict_proba(test5[list_independent])[:,1]\n",
    "test5['prediction'] = class_SVC.predict(test5[list_independent])\n"
   ]
  },
  {
   "cell_type": "code",
   "execution_count": 67,
   "metadata": {
    "colab": {
     "base_uri": "https://localhost:8080/",
     "height": 299
    },
    "id": "fPq7_3tD7_Lj",
    "outputId": "a9bb7206-23c4-4d7c-fd45-5a2cda91eef2"
   },
   "outputs": [
    {
     "data": {
      "text/html": [
       "<div>\n",
       "<style scoped>\n",
       "    .dataframe tbody tr th:only-of-type {\n",
       "        vertical-align: middle;\n",
       "    }\n",
       "\n",
       "    .dataframe tbody tr th {\n",
       "        vertical-align: top;\n",
       "    }\n",
       "\n",
       "    .dataframe thead th {\n",
       "        text-align: right;\n",
       "    }\n",
       "</style>\n",
       "<table border=\"1\" class=\"dataframe\">\n",
       "  <thead>\n",
       "    <tr style=\"text-align: right;\">\n",
       "      <th></th>\n",
       "      <th>team2_id</th>\n",
       "      <th>team1_id</th>\n",
       "      <th>num_ot</th>\n",
       "      <th>team2_seed</th>\n",
       "      <th>team1_seed</th>\n",
       "      <th>strongseed</th>\n",
       "      <th>weakseed</th>\n",
       "      <th>season</th>\n",
       "      <th>host_lat</th>\n",
       "      <th>host_long</th>\n",
       "      <th>...</th>\n",
       "      <th>team1_de</th>\n",
       "      <th>team1_adjde</th>\n",
       "      <th>exp_win2</th>\n",
       "      <th>exp_win1</th>\n",
       "      <th>team1_log5</th>\n",
       "      <th>seed_diff</th>\n",
       "      <th>team1_net_eff</th>\n",
       "      <th>team1_win</th>\n",
       "      <th>prob</th>\n",
       "      <th>prediction</th>\n",
       "    </tr>\n",
       "  </thead>\n",
       "  <tbody>\n",
       "    <tr>\n",
       "      <th>0</th>\n",
       "      <td>1284</td>\n",
       "      <td>1214</td>\n",
       "      <td>0</td>\n",
       "      <td>16</td>\n",
       "      <td>16</td>\n",
       "      <td>16</td>\n",
       "      <td>16</td>\n",
       "      <td>2006</td>\n",
       "      <td>39.7594</td>\n",
       "      <td>-84.1917</td>\n",
       "      <td>...</td>\n",
       "      <td>91.8503</td>\n",
       "      <td>100.4858</td>\n",
       "      <td>0.454518</td>\n",
       "      <td>0.259984</td>\n",
       "      <td>0.296584</td>\n",
       "      <td>0</td>\n",
       "      <td>-0.0165</td>\n",
       "      <td>0</td>\n",
       "      <td>0.474803</td>\n",
       "      <td>0</td>\n",
       "    </tr>\n",
       "    <tr>\n",
       "      <th>1</th>\n",
       "      <td>1458</td>\n",
       "      <td>1165</td>\n",
       "      <td>0</td>\n",
       "      <td>4</td>\n",
       "      <td>12</td>\n",
       "      <td>4</td>\n",
       "      <td>12</td>\n",
       "      <td>2010</td>\n",
       "      <td>30.3369</td>\n",
       "      <td>-81.6614</td>\n",
       "      <td>...</td>\n",
       "      <td>97.4265</td>\n",
       "      <td>102.0349</td>\n",
       "      <td>0.922786</td>\n",
       "      <td>0.782531</td>\n",
       "      <td>0.231415</td>\n",
       "      <td>8</td>\n",
       "      <td>1.9335</td>\n",
       "      <td>1</td>\n",
       "      <td>0.138894</td>\n",
       "      <td>0</td>\n",
       "    </tr>\n",
       "    <tr>\n",
       "      <th>2</th>\n",
       "      <td>1257</td>\n",
       "      <td>1276</td>\n",
       "      <td>0</td>\n",
       "      <td>1</td>\n",
       "      <td>4</td>\n",
       "      <td>1</td>\n",
       "      <td>4</td>\n",
       "      <td>2013</td>\n",
       "      <td>33.7550</td>\n",
       "      <td>-84.3900</td>\n",
       "      <td>...</td>\n",
       "      <td>97.5973</td>\n",
       "      <td>96.4650</td>\n",
       "      <td>0.966287</td>\n",
       "      <td>0.910654</td>\n",
       "      <td>0.262321</td>\n",
       "      <td>3</td>\n",
       "      <td>6.9802</td>\n",
       "      <td>0</td>\n",
       "      <td>0.229262</td>\n",
       "      <td>0</td>\n",
       "    </tr>\n",
       "    <tr>\n",
       "      <th>3</th>\n",
       "      <td>1140</td>\n",
       "      <td>1233</td>\n",
       "      <td>0</td>\n",
       "      <td>14</td>\n",
       "      <td>14</td>\n",
       "      <td>14</td>\n",
       "      <td>14</td>\n",
       "      <td>2012</td>\n",
       "      <td>39.7594</td>\n",
       "      <td>-84.1917</td>\n",
       "      <td>...</td>\n",
       "      <td>100.6866</td>\n",
       "      <td>103.1821</td>\n",
       "      <td>0.759556</td>\n",
       "      <td>0.763610</td>\n",
       "      <td>0.505581</td>\n",
       "      <td>0</td>\n",
       "      <td>7.6580</td>\n",
       "      <td>0</td>\n",
       "      <td>0.468880</td>\n",
       "      <td>0</td>\n",
       "    </tr>\n",
       "    <tr>\n",
       "      <th>4</th>\n",
       "      <td>1195</td>\n",
       "      <td>1196</td>\n",
       "      <td>0</td>\n",
       "      <td>15</td>\n",
       "      <td>3</td>\n",
       "      <td>3</td>\n",
       "      <td>15</td>\n",
       "      <td>2013</td>\n",
       "      <td>32.7050</td>\n",
       "      <td>-97.1228</td>\n",
       "      <td>...</td>\n",
       "      <td>85.6828</td>\n",
       "      <td>87.1551</td>\n",
       "      <td>0.574504</td>\n",
       "      <td>0.956122</td>\n",
       "      <td>0.941652</td>\n",
       "      <td>-12</td>\n",
       "      <td>10.8646</td>\n",
       "      <td>1</td>\n",
       "      <td>0.925525</td>\n",
       "      <td>1</td>\n",
       "    </tr>\n",
       "  </tbody>\n",
       "</table>\n",
       "<p>5 rows × 90 columns</p>\n",
       "</div>"
      ],
      "text/plain": [
       "   team2_id  team1_id  num_ot  team2_seed  team1_seed  strongseed  weakseed  \\\n",
       "0      1284      1214       0          16          16          16        16   \n",
       "1      1458      1165       0           4          12           4        12   \n",
       "2      1257      1276       0           1           4           1         4   \n",
       "3      1140      1233       0          14          14          14        14   \n",
       "4      1195      1196       0          15           3           3        15   \n",
       "\n",
       "   season  host_lat  host_long  ...  team1_de  team1_adjde  exp_win2  \\\n",
       "0    2006   39.7594   -84.1917  ...   91.8503     100.4858  0.454518   \n",
       "1    2010   30.3369   -81.6614  ...   97.4265     102.0349  0.922786   \n",
       "2    2013   33.7550   -84.3900  ...   97.5973      96.4650  0.966287   \n",
       "3    2012   39.7594   -84.1917  ...  100.6866     103.1821  0.759556   \n",
       "4    2013   32.7050   -97.1228  ...   85.6828      87.1551  0.574504   \n",
       "\n",
       "   exp_win1  team1_log5  seed_diff  team1_net_eff  team1_win      prob  \\\n",
       "0  0.259984    0.296584          0        -0.0165          0  0.474803   \n",
       "1  0.782531    0.231415          8         1.9335          1  0.138894   \n",
       "2  0.910654    0.262321          3         6.9802          0  0.229262   \n",
       "3  0.763610    0.505581          0         7.6580          0  0.468880   \n",
       "4  0.956122    0.941652        -12        10.8646          1  0.925525   \n",
       "\n",
       "   prediction  \n",
       "0           0  \n",
       "1           0  \n",
       "2           0  \n",
       "3           0  \n",
       "4           1  \n",
       "\n",
       "[5 rows x 90 columns]"
      ]
     },
     "execution_count": 67,
     "metadata": {},
     "output_type": "execute_result"
    }
   ],
   "source": [
    "test2.head()"
   ]
  },
  {
   "cell_type": "code",
   "execution_count": 68,
   "metadata": {
    "colab": {
     "base_uri": "https://localhost:8080/"
    },
    "id": "ZrkyYaefvfYL",
    "outputId": "00ad0083-a745-4f99-e1f8-405c214f2345"
   },
   "outputs": [
    {
     "name": "stdout",
     "output_type": "stream",
     "text": [
      "[[123  43]\n",
      " [ 64 124]]\n",
      "0.6977401129943502\n",
      "0.7425149700598802\n",
      "0.6595744680851063\n",
      "0.6985915492957746\n",
      "0.5930739716707814\n",
      "0.7562163547808254\n"
     ]
    }
   ],
   "source": [
    "# Logistic Regression\n",
    "print(confusion_matrix(test2['team1_win'], test2['prediction']))\n",
    "print(accuracy_score(test2['team1_win'], test2['prediction'],))\n",
    "print(precision_score(test2['team1_win'], test2['prediction']))\n",
    "print(recall_score(test2['team1_win'], test2['prediction']))\n",
    "print(f1_score(test2['team1_win'], test2['prediction']))\n",
    "print(log_loss(test2['team1_win'].values, test2['prob'].values))\n",
    "print(roc_auc_score(test2['team1_win'].values, test2['prob'].values))\n"
   ]
  },
  {
   "cell_type": "code",
   "execution_count": 69,
   "metadata": {
    "colab": {
     "base_uri": "https://localhost:8080/"
    },
    "id": "5Q-9tbnbvfaP",
    "outputId": "7d72427e-c077-4d87-d5dd-9351b73109c1"
   },
   "outputs": [
    {
     "name": "stdout",
     "output_type": "stream",
     "text": [
      "[[122  44]\n",
      " [ 60 128]]\n",
      "0.7062146892655368\n",
      "0.7441860465116279\n",
      "0.6808510638297872\n",
      "0.711111111111111\n",
      "0.5859017253230149\n",
      "0.7624166880287105\n"
     ]
    }
   ],
   "source": [
    "# Random FOrest\n",
    "print(confusion_matrix(test3['team1_win'], test3['prediction']))\n",
    "print(accuracy_score(test3['team1_win'], test3['prediction'],))\n",
    "print(precision_score(test3['team1_win'], test3['prediction']))\n",
    "print(recall_score(test3['team1_win'], test3['prediction']))\n",
    "print(f1_score(test3['team1_win'], test3['prediction']))\n",
    "print(log_loss(test3['team1_win'].values, test3['prob'].values))\n",
    "print(roc_auc_score(test3['team1_win'].values, test3['prob'].values))"
   ]
  },
  {
   "cell_type": "code",
   "execution_count": 70,
   "metadata": {
    "colab": {
     "base_uri": "https://localhost:8080/"
    },
    "id": "eOFkqnSnvsQY",
    "outputId": "cbb73638-265f-4b6a-88ef-246e7a47581b"
   },
   "outputs": [
    {
     "name": "stdout",
     "output_type": "stream",
     "text": [
      "[[111  55]\n",
      " [ 77 111]]\n",
      "0.6271186440677966\n",
      "0.6686746987951807\n",
      "0.5904255319148937\n",
      "0.6271186440677967\n",
      "0.7044591324969758\n",
      "0.6947257113560626\n"
     ]
    }
   ],
   "source": [
    "# Neural Network\n",
    "print(confusion_matrix(test4['team1_win'], test4['prediction']))\n",
    "print(accuracy_score(test4['team1_win'], test4['prediction'],))\n",
    "print(precision_score(test4['team1_win'], test4['prediction']))\n",
    "print(recall_score(test4['team1_win'], test4['prediction']))\n",
    "print(f1_score(test4['team1_win'], test4['prediction']))\n",
    "print(log_loss(test4['team1_win'].values, test4['prob'].values))\n",
    "print(roc_auc_score(test4['team1_win'].values, test4['prob'].values))"
   ]
  },
  {
   "cell_type": "code",
   "execution_count": 71,
   "metadata": {
    "colab": {
     "base_uri": "https://localhost:8080/"
    },
    "id": "TvTxuQsevsN5",
    "outputId": "6ad38f5c-4f4c-4d3f-ddaf-09a3ff7d8c11"
   },
   "outputs": [
    {
     "name": "stdout",
     "output_type": "stream",
     "text": [
      "[[128  38]\n",
      " [ 98  90]]\n",
      "0.615819209039548\n",
      "0.703125\n",
      "0.4787234042553192\n",
      "0.5696202531645569\n",
      "0.6435961316879412\n",
      "0.6834785952319917\n"
     ]
    }
   ],
   "source": [
    "# SVM\n",
    "print(confusion_matrix(test5['team1_win'], test5['prediction']))\n",
    "print(accuracy_score(test5['team1_win'], test5['prediction'],))\n",
    "print(precision_score(test5['team1_win'], test5['prediction']))\n",
    "print(recall_score(test5['team1_win'], test5['prediction']))\n",
    "print(f1_score(test5['team1_win'], test5['prediction']))\n",
    "print(log_loss(test5['team1_win'].values, test5['prob'].values))\n",
    "print(roc_auc_score(test5['team1_win'].values, test5['prob'].values))"
   ]
  },
  {
   "cell_type": "code",
   "execution_count": 72,
   "metadata": {
    "colab": {
     "base_uri": "https://localhost:8080/",
     "height": 299
    },
    "id": "psdETGygvsGM",
    "outputId": "96b7e2df-6a99-43a0-8b07-194dd65afa14"
   },
   "outputs": [],
   "source": [
    "# fpr, tpr, thresholds = roc_curve(test2['team1_win'].values, test2['prob'].values)\n",
    "# roc_auc = auc(fpr, tpr)\n",
    "# plot_roc(fpr, tpr, roc_auc)\n",
    "# fpr, tpr, thresholds = roc_curve(test3['team1_win'].values, test3['prob'].values)\n",
    "# roc_auc = auc(fpr, tpr)\n",
    "# plot_roc(fpr, tpr, roc_auc)\n",
    "# fpr, tpr, thresholds = roc_curve(test4['team1_win'].values, test4['prob'].values)\n",
    "# roc_auc = auc(fpr, tpr)\n",
    "# plot_roc(fpr, tpr, roc_auc)\n",
    "# fpr, tpr, thresholds = roc_curve(test5['team1_win'].values, test5['prob'].values)\n",
    "# roc_auc = auc(fpr, tpr)\n",
    "# plot_roc(fpr, tpr, roc_auc)"
   ]
  },
  {
   "cell_type": "code",
   "execution_count": null,
   "metadata": {
    "id": "GkDOfwhSIh_P"
   },
   "outputs": [],
   "source": []
  },
  {
   "cell_type": "markdown",
   "metadata": {
    "id": "H3thi5NGKkfY"
   },
   "source": [
    "全numeric数据（再去除八个coach数据）效果：LR = RF 》 SVM 〉NN"
   ]
  },
  {
   "cell_type": "markdown",
   "metadata": {
    "id": "Y_hQEgnr-vEE"
   },
   "source": [
    "# Feature Importance"
   ]
  },
  {
   "cell_type": "code",
   "execution_count": 73,
   "metadata": {
    "colab": {
     "base_uri": "https://localhost:8080/"
    },
    "id": "Eqnp7fva-z01",
    "outputId": "4d972e70-7124-4750-a126-b09f2987c4ed"
   },
   "outputs": [
    {
     "name": "stdout",
     "output_type": "stream",
     "text": [
      "Feature import ranking by Random Forest Model!\n",
      "team1_log5:0.0581\n",
      "exp_win1:0.0411\n",
      "exp_win2:0.0359\n",
      "seed_diff:0.0303\n",
      "team2_seed:0.0296\n",
      "team1_seed:0.0246\n",
      "team1_net_eff:0.0221\n",
      "team2_adjoe:0.0188\n",
      "team1_adjde:0.0181\n",
      "team2_adjde:0.0156\n",
      "team1_adjoe:0.0156\n",
      "team1_de:0.0152\n",
      "team2_pt_team_season_wins:0.0144\n",
      "team1_oe:0.0135\n",
      "team1_stlrate:0.0133\n",
      "team2_oe:0.0132\n",
      "team2_de:0.0131\n",
      "team1_oppfg3pct:0.0131\n",
      "team1_oppstlrate:0.013\n",
      "team1_pt_career_overall_wins:0.0127\n",
      "team2_pt_career_overall_wins:0.0123\n",
      "team2_oppstlrate:0.0123\n",
      "team1_tempo:0.0117\n",
      "team1_arate:0.0115\n",
      "team2_pt_career_school_losses:0.011\n",
      "team1_lat:0.011\n",
      "team2_pt_career_overall_losses:0.0108\n",
      "team2_oppfg2pct:0.0108\n",
      "team1_blockpct:0.0107\n",
      "team1_oppf3grate:0.0107\n",
      "team1_pt_career_overall_losses:0.0106\n",
      "team1_ftpct:0.0105\n",
      "team1_pt_team_season_wins:0.0104\n",
      "team2_adjtempo:0.0104\n",
      "team1_pt_overall_ncaa:0.0102\n",
      "team1_f3grate:0.0101\n",
      "team1_pt_career_school_losses:0.0099\n",
      "team1_adjtempo:0.0099\n",
      "team2_oppfg3pct:0.0099\n",
      "team2_oppblockpct:0.0099\n",
      "team2_opparate:0.0097\n",
      "team2_long:0.0097\n",
      "team2_pt_coach_season_wins:0.0097\n",
      "team2_ftpct:0.0097\n",
      "team1_opparate:0.0095\n",
      "team1_pt_career_school_wins:0.0094\n",
      "team2_blockpct:0.0094\n",
      "host_long:0.0094\n",
      "team2_oppf3grate:0.0092\n",
      "team2_stlrate:0.0092\n",
      "team2_f3grate:0.0091\n",
      "team1_oppblockpct:0.0091\n",
      "team2_fg2pct:0.009\n",
      "team1_pt_coach_season_losses:0.0088\n",
      "team2_arate:0.0088\n",
      "weakseed:0.0086\n",
      "team2_fg3pct:0.0085\n",
      "team2_tempo:0.0085\n",
      "team1_id:0.0085\n",
      "team1_oppfg2pct:0.0085\n",
      "host_lat:0.0085\n",
      "team2_pt_team_season_losses:0.0084\n",
      "team1_fg2pct:0.0084\n",
      "team2_oppftpct:0.0083\n",
      "team2_pt_coach_season_losses:0.0082\n",
      "team1_fg3pct:0.0081\n",
      "team1_long:0.008\n",
      "team1_pt_overall_s16:0.008\n",
      "team1_oppftpct:0.0079\n",
      "team2_pt_career_school_wins:0.0079\n",
      "team2_pt_overall_ncaa:0.0077\n",
      "team2_lat:0.0076\n",
      "team1_pt_team_season_losses:0.0074\n",
      "team2_id:0.0072\n",
      "team1_pt_coach_season_wins:0.0071\n",
      "strongseed:0.0069\n",
      "team2_pt_school_ncaa:0.0063\n",
      "team2_pt_overall_s16:0.0057\n",
      "team2_pt_school_s16:0.0056\n",
      "team1_pt_school_s16:0.0052\n",
      "team1_pt_school_ncaa:0.005\n",
      "season:0.0047\n",
      "team1_pt_overall_ff:0.004\n",
      "team2_pt_overall_ff:0.0035\n",
      "team2_pt_school_ff:0.0029\n",
      "team1_pt_school_ff:0.0019\n",
      "num_ot:0.0015\n"
     ]
    }
   ],
   "source": [
    "importances = RF.feature_importances_\n",
    "\n",
    "print('Feature import ranking by Random Forest Model!')\n",
    "indices = np.argsort(importances)[::-1]\n",
    "\n",
    "for ind in range(train2[list_independent].shape[1]):\n",
    "  print('{0}:{1}'.format( train2[list_independent].columns[indices[ind]], round(importances[indices[ind],], 4)))\n"
   ]
  },
  {
   "cell_type": "code",
   "execution_count": null,
   "metadata": {
    "id": "vims5DwtFz2D"
   },
   "outputs": [],
   "source": []
  },
  {
   "cell_type": "markdown",
   "metadata": {
    "id": "ulQPy702F2QZ"
   },
   "source": [
    "# 2022 predict"
   ]
  },
  {
   "cell_type": "code",
   "execution_count": 74,
   "metadata": {
    "id": "8T_ljMIsP7JL"
   },
   "outputs": [],
   "source": [
    "mm_data = pd.read_csv('NCAA_Tourney_2002_2021.csv')\n",
    "real_data = pd.read_csv('NCAA_Tourney_2022.csv')"
   ]
  },
  {
   "cell_type": "code",
   "execution_count": 75,
   "metadata": {
    "id": "3ptStKJIF7Ak"
   },
   "outputs": [],
   "source": [
    "pre_2022 = real_data"
   ]
  },
  {
   "cell_type": "code",
   "execution_count": 76,
   "metadata": {
    "id": "i47HN-AZG3Ko"
   },
   "outputs": [],
   "source": [
    "mm_data['exp_win1'] = (mm_data['team1_adjoe']**11.5)/ ((mm_data['team1_adjde']**11.5)+(mm_data['team1_adjoe']**11.5))\n",
    "mm_data['exp_win2'] = (mm_data['team2_adjoe']**11.5)/ ((mm_data['team2_adjde']**11.5)+(mm_data['team2_adjoe']**11.5))\n",
    "mm_data['team1_log5'] = (mm_data['exp_win1'] - (mm_data['exp_win1']*mm_data['exp_win2']))/ (mm_data['exp_win1']+mm_data['exp_win2']-(2*mm_data['exp_win1']*mm_data['exp_win2']))\n",
    "mm_data['seed_diff'] = mm_data['team1_seed'] - mm_data['team2_seed']\n",
    "mm_data['team1_net_eff'] = mm_data['team1_oe'] - mm_data['team2_oe']\n",
    "mm_data.dropna(subset=['team1_log5'], inplace=True)\n",
    "\n",
    "pre_2022['exp_win1'] = (pre_2022['team1_adjoe']**11.5)/ ((pre_2022['team1_adjde']**11.5)+(pre_2022['team1_adjoe']**11.5))\n",
    "pre_2022['exp_win2'] = (pre_2022['team2_adjoe']**11.5)/ ((pre_2022['team2_adjde']**11.5)+(pre_2022['team2_adjoe']**11.5))\n",
    "pre_2022['team1_log5'] = (pre_2022['exp_win1'] - (pre_2022['exp_win1']*pre_2022['exp_win2']))/ (pre_2022['exp_win1']+pre_2022['exp_win2']-(2*pre_2022['exp_win1']*pre_2022['exp_win2']))\n",
    "pre_2022['seed_diff'] = pre_2022['team1_seed'] - pre_2022['team2_seed']\n",
    "pre_2022['team1_net_eff'] = pre_2022['team1_oe'] - pre_2022['team2_oe']\n",
    "pre_2022.dropna(subset=['team1_log5'], inplace=True)"
   ]
  },
  {
   "cell_type": "code",
   "execution_count": 77,
   "metadata": {
    "id": "9ui6-J3eJD2M"
   },
   "outputs": [],
   "source": [
    "mm_data['team1_win'] = (mm_data['team1_score']>mm_data['team2_score']).astype(int)"
   ]
  },
  {
   "cell_type": "code",
   "execution_count": 78,
   "metadata": {
    "colab": {
     "base_uri": "https://localhost:8080/",
     "height": 835
    },
    "id": "9MzKEpUNJ0hT",
    "outputId": "ffc95463-60cc-4440-b89d-96717ca5a539"
   },
   "outputs": [
    {
     "data": {
      "text/html": [
       "<div>\n",
       "<style scoped>\n",
       "    .dataframe tbody tr th:only-of-type {\n",
       "        vertical-align: middle;\n",
       "    }\n",
       "\n",
       "    .dataframe tbody tr th {\n",
       "        vertical-align: top;\n",
       "    }\n",
       "\n",
       "    .dataframe thead th {\n",
       "        text-align: right;\n",
       "    }\n",
       "</style>\n",
       "<table border=\"1\" class=\"dataframe\">\n",
       "  <thead>\n",
       "    <tr style=\"text-align: right;\">\n",
       "      <th></th>\n",
       "      <th>team1_id</th>\n",
       "      <th>team1_score</th>\n",
       "      <th>team2_id</th>\n",
       "      <th>team2_score</th>\n",
       "      <th>WLoc</th>\n",
       "      <th>num_ot</th>\n",
       "      <th>team1_position</th>\n",
       "      <th>team2_position</th>\n",
       "      <th>team1_seed</th>\n",
       "      <th>team2_seed</th>\n",
       "      <th>...</th>\n",
       "      <th>team2_adjoe</th>\n",
       "      <th>team2_de</th>\n",
       "      <th>team2_adjde</th>\n",
       "      <th>game_id</th>\n",
       "      <th>exp_win1</th>\n",
       "      <th>exp_win2</th>\n",
       "      <th>team1_log5</th>\n",
       "      <th>seed_diff</th>\n",
       "      <th>team1_net_eff</th>\n",
       "      <th>team1_win</th>\n",
       "    </tr>\n",
       "  </thead>\n",
       "  <tbody>\n",
       "    <tr>\n",
       "      <th>1</th>\n",
       "      <td>1211</td>\n",
       "      <td>83</td>\n",
       "      <td>1166</td>\n",
       "      <td>65</td>\n",
       "      <td>N</td>\n",
       "      <td>0</td>\n",
       "      <td>X01</td>\n",
       "      <td>X05</td>\n",
       "      <td>1</td>\n",
       "      <td>5</td>\n",
       "      <td>...</td>\n",
       "      <td>115.5670</td>\n",
       "      <td>97.5105</td>\n",
       "      <td>92.8330</td>\n",
       "      <td>2021-1211-1166</td>\n",
       "      <td>0.983748</td>\n",
       "      <td>0.925467</td>\n",
       "      <td>0.829783</td>\n",
       "      <td>-4</td>\n",
       "      <td>12.7520</td>\n",
       "      <td>1</td>\n",
       "    </tr>\n",
       "    <tr>\n",
       "      <th>2</th>\n",
       "      <td>1211</td>\n",
       "      <td>87</td>\n",
       "      <td>1328</td>\n",
       "      <td>71</td>\n",
       "      <td>N</td>\n",
       "      <td>0</td>\n",
       "      <td>X01</td>\n",
       "      <td>X08</td>\n",
       "      <td>1</td>\n",
       "      <td>8</td>\n",
       "      <td>...</td>\n",
       "      <td>112.1240</td>\n",
       "      <td>98.5625</td>\n",
       "      <td>94.0513</td>\n",
       "      <td>2021-1211-1328</td>\n",
       "      <td>0.983748</td>\n",
       "      <td>0.883015</td>\n",
       "      <td>0.889127</td>\n",
       "      <td>-7</td>\n",
       "      <td>16.2860</td>\n",
       "      <td>1</td>\n",
       "    </tr>\n",
       "    <tr>\n",
       "      <th>3</th>\n",
       "      <td>1332</td>\n",
       "      <td>95</td>\n",
       "      <td>1234</td>\n",
       "      <td>80</td>\n",
       "      <td>N</td>\n",
       "      <td>0</td>\n",
       "      <td>X07</td>\n",
       "      <td>X02</td>\n",
       "      <td>7</td>\n",
       "      <td>2</td>\n",
       "      <td>...</td>\n",
       "      <td>124.1920</td>\n",
       "      <td>101.0740</td>\n",
       "      <td>93.8602</td>\n",
       "      <td>2021-1332-1234</td>\n",
       "      <td>0.889608</td>\n",
       "      <td>0.961589</td>\n",
       "      <td>0.243513</td>\n",
       "      <td>5</td>\n",
       "      <td>-7.6410</td>\n",
       "      <td>1</td>\n",
       "    </tr>\n",
       "    <tr>\n",
       "      <th>4</th>\n",
       "      <td>1166</td>\n",
       "      <td>72</td>\n",
       "      <td>1325</td>\n",
       "      <td>58</td>\n",
       "      <td>N</td>\n",
       "      <td>0</td>\n",
       "      <td>X05</td>\n",
       "      <td>X13</td>\n",
       "      <td>5</td>\n",
       "      <td>13</td>\n",
       "      <td>...</td>\n",
       "      <td>113.6980</td>\n",
       "      <td>102.5590</td>\n",
       "      <td>101.1560</td>\n",
       "      <td>2021-1166-1325</td>\n",
       "      <td>0.925467</td>\n",
       "      <td>0.793170</td>\n",
       "      <td>0.764032</td>\n",
       "      <td>-8</td>\n",
       "      <td>-2.5830</td>\n",
       "      <td>1</td>\n",
       "    </tr>\n",
       "    <tr>\n",
       "      <th>5</th>\n",
       "      <td>1211</td>\n",
       "      <td>98</td>\n",
       "      <td>1313</td>\n",
       "      <td>55</td>\n",
       "      <td>N</td>\n",
       "      <td>0</td>\n",
       "      <td>X01</td>\n",
       "      <td>X16b</td>\n",
       "      <td>1</td>\n",
       "      <td>16</td>\n",
       "      <td>...</td>\n",
       "      <td>101.3090</td>\n",
       "      <td>97.4792</td>\n",
       "      <td>103.6230</td>\n",
       "      <td>2021-1211-1313</td>\n",
       "      <td>0.983748</td>\n",
       "      <td>0.435433</td>\n",
       "      <td>0.987418</td>\n",
       "      <td>-15</td>\n",
       "      <td>18.3840</td>\n",
       "      <td>1</td>\n",
       "    </tr>\n",
       "    <tr>\n",
       "      <th>...</th>\n",
       "      <td>...</td>\n",
       "      <td>...</td>\n",
       "      <td>...</td>\n",
       "      <td>...</td>\n",
       "      <td>...</td>\n",
       "      <td>...</td>\n",
       "      <td>...</td>\n",
       "      <td>...</td>\n",
       "      <td>...</td>\n",
       "      <td>...</td>\n",
       "      <td>...</td>\n",
       "      <td>...</td>\n",
       "      <td>...</td>\n",
       "      <td>...</td>\n",
       "      <td>...</td>\n",
       "      <td>...</td>\n",
       "      <td>...</td>\n",
       "      <td>...</td>\n",
       "      <td>...</td>\n",
       "      <td>...</td>\n",
       "      <td>...</td>\n",
       "    </tr>\n",
       "    <tr>\n",
       "      <th>95</th>\n",
       "      <td>1268</td>\n",
       "      <td>87</td>\n",
       "      <td>1458</td>\n",
       "      <td>57</td>\n",
       "      <td>N</td>\n",
       "      <td>0</td>\n",
       "      <td>W01</td>\n",
       "      <td>W08</td>\n",
       "      <td>1</td>\n",
       "      <td>8</td>\n",
       "      <td>...</td>\n",
       "      <td>107.4935</td>\n",
       "      <td>100.3758</td>\n",
       "      <td>95.4425</td>\n",
       "      <td>2002-1268-1458</td>\n",
       "      <td>0.939819</td>\n",
       "      <td>0.796964</td>\n",
       "      <td>0.799135</td>\n",
       "      <td>-7</td>\n",
       "      <td>10.1383</td>\n",
       "      <td>1</td>\n",
       "    </tr>\n",
       "    <tr>\n",
       "      <th>96</th>\n",
       "      <td>1417</td>\n",
       "      <td>105</td>\n",
       "      <td>1153</td>\n",
       "      <td>101</td>\n",
       "      <td>N</td>\n",
       "      <td>2</td>\n",
       "      <td>Z08</td>\n",
       "      <td>Z01</td>\n",
       "      <td>8</td>\n",
       "      <td>1</td>\n",
       "      <td>...</td>\n",
       "      <td>115.7842</td>\n",
       "      <td>86.3924</td>\n",
       "      <td>88.0357</td>\n",
       "      <td>2002-1417-1153</td>\n",
       "      <td>0.824566</td>\n",
       "      <td>0.958942</td>\n",
       "      <td>0.167529</td>\n",
       "      <td>7</td>\n",
       "      <td>-6.0301</td>\n",
       "      <td>1</td>\n",
       "    </tr>\n",
       "    <tr>\n",
       "      <th>97</th>\n",
       "      <td>1231</td>\n",
       "      <td>74</td>\n",
       "      <td>1181</td>\n",
       "      <td>73</td>\n",
       "      <td>N</td>\n",
       "      <td>0</td>\n",
       "      <td>Y05</td>\n",
       "      <td>Y01</td>\n",
       "      <td>5</td>\n",
       "      <td>1</td>\n",
       "      <td>...</td>\n",
       "      <td>118.5999</td>\n",
       "      <td>90.2544</td>\n",
       "      <td>87.7504</td>\n",
       "      <td>2002-1231-1181</td>\n",
       "      <td>0.906968</td>\n",
       "      <td>0.969660</td>\n",
       "      <td>0.233739</td>\n",
       "      <td>4</td>\n",
       "      <td>-10.9752</td>\n",
       "      <td>1</td>\n",
       "    </tr>\n",
       "    <tr>\n",
       "      <th>98</th>\n",
       "      <td>1281</td>\n",
       "      <td>82</td>\n",
       "      <td>1417</td>\n",
       "      <td>73</td>\n",
       "      <td>N</td>\n",
       "      <td>0</td>\n",
       "      <td>Z12</td>\n",
       "      <td>Z08</td>\n",
       "      <td>12</td>\n",
       "      <td>8</td>\n",
       "      <td>...</td>\n",
       "      <td>110.6811</td>\n",
       "      <td>102.9371</td>\n",
       "      <td>96.7451</td>\n",
       "      <td>2002-1281-1417</td>\n",
       "      <td>0.808674</td>\n",
       "      <td>0.824566</td>\n",
       "      <td>0.473481</td>\n",
       "      <td>4</td>\n",
       "      <td>6.4720</td>\n",
       "      <td>1</td>\n",
       "    </tr>\n",
       "    <tr>\n",
       "      <th>99</th>\n",
       "      <td>1163</td>\n",
       "      <td>71</td>\n",
       "      <td>1356</td>\n",
       "      <td>59</td>\n",
       "      <td>N</td>\n",
       "      <td>0</td>\n",
       "      <td>W02</td>\n",
       "      <td>W11</td>\n",
       "      <td>2</td>\n",
       "      <td>11</td>\n",
       "      <td>...</td>\n",
       "      <td>105.4570</td>\n",
       "      <td>94.3099</td>\n",
       "      <td>94.6616</td>\n",
       "      <td>2002-1163-1356</td>\n",
       "      <td>0.871578</td>\n",
       "      <td>0.775902</td>\n",
       "      <td>0.662183</td>\n",
       "      <td>-9</td>\n",
       "      <td>-0.8975</td>\n",
       "      <td>1</td>\n",
       "    </tr>\n",
       "  </tbody>\n",
       "</table>\n",
       "<p>99 rows × 110 columns</p>\n",
       "</div>"
      ],
      "text/plain": [
       "    team1_id  team1_score  team2_id  team2_score WLoc  num_ot team1_position  \\\n",
       "1       1211           83      1166           65    N       0            X01   \n",
       "2       1211           87      1328           71    N       0            X01   \n",
       "3       1332           95      1234           80    N       0            X07   \n",
       "4       1166           72      1325           58    N       0            X05   \n",
       "5       1211           98      1313           55    N       0            X01   \n",
       "..       ...          ...       ...          ...  ...     ...            ...   \n",
       "95      1268           87      1458           57    N       0            W01   \n",
       "96      1417          105      1153          101    N       2            Z08   \n",
       "97      1231           74      1181           73    N       0            Y05   \n",
       "98      1281           82      1417           73    N       0            Z12   \n",
       "99      1163           71      1356           59    N       0            W02   \n",
       "\n",
       "   team2_position  team1_seed  team2_seed  ...  team2_adjoe  team2_de  \\\n",
       "1             X05           1           5  ...     115.5670   97.5105   \n",
       "2             X08           1           8  ...     112.1240   98.5625   \n",
       "3             X02           7           2  ...     124.1920  101.0740   \n",
       "4             X13           5          13  ...     113.6980  102.5590   \n",
       "5            X16b           1          16  ...     101.3090   97.4792   \n",
       "..            ...         ...         ...  ...          ...       ...   \n",
       "95            W08           1           8  ...     107.4935  100.3758   \n",
       "96            Z01           8           1  ...     115.7842   86.3924   \n",
       "97            Y01           5           1  ...     118.5999   90.2544   \n",
       "98            Z08          12           8  ...     110.6811  102.9371   \n",
       "99            W11           2          11  ...     105.4570   94.3099   \n",
       "\n",
       "   team2_adjde         game_id  exp_win1  exp_win2 team1_log5  seed_diff  \\\n",
       "1      92.8330  2021-1211-1166  0.983748  0.925467   0.829783         -4   \n",
       "2      94.0513  2021-1211-1328  0.983748  0.883015   0.889127         -7   \n",
       "3      93.8602  2021-1332-1234  0.889608  0.961589   0.243513          5   \n",
       "4     101.1560  2021-1166-1325  0.925467  0.793170   0.764032         -8   \n",
       "5     103.6230  2021-1211-1313  0.983748  0.435433   0.987418        -15   \n",
       "..         ...             ...       ...       ...        ...        ...   \n",
       "95     95.4425  2002-1268-1458  0.939819  0.796964   0.799135         -7   \n",
       "96     88.0357  2002-1417-1153  0.824566  0.958942   0.167529          7   \n",
       "97     87.7504  2002-1231-1181  0.906968  0.969660   0.233739          4   \n",
       "98     96.7451  2002-1281-1417  0.808674  0.824566   0.473481          4   \n",
       "99     94.6616  2002-1163-1356  0.871578  0.775902   0.662183         -9   \n",
       "\n",
       "   team1_net_eff  team1_win  \n",
       "1        12.7520          1  \n",
       "2        16.2860          1  \n",
       "3        -7.6410          1  \n",
       "4        -2.5830          1  \n",
       "5        18.3840          1  \n",
       "..           ...        ...  \n",
       "95       10.1383          1  \n",
       "96       -6.0301          1  \n",
       "97      -10.9752          1  \n",
       "98        6.4720          1  \n",
       "99       -0.8975          1  \n",
       "\n",
       "[99 rows x 110 columns]"
      ]
     },
     "execution_count": 78,
     "metadata": {},
     "output_type": "execute_result"
    }
   ],
   "source": [
    "# Modified\n",
    "mm_data_1_all = mm_data.sample(frac=.5, random_state=4)\n",
    "mm_data_2_all = mm_data[~mm_data.index.isin(mm_data_1_all.index)].reset_index(drop=True)\n",
    "mm_data_1_all = mm_data_1_all.reset_index(drop=True)\n",
    "mm_data_2_all[1:100]"
   ]
  },
  {
   "cell_type": "code",
   "execution_count": 79,
   "metadata": {
    "id": "euzJmbe6KNUH"
   },
   "outputs": [],
   "source": [
    "# Modified\n",
    "mm_data_2_all['team1_win'] = 0\n",
    "mm_data_2_all['team1_log5'] = 1-mm_data_2_all['team1_log5']\n",
    "mm_data_2_all['game_id'] = (mm_data_2_all['game_id'].str.split('-', expand=True)[0] \n",
    "                           + '-' + mm_data_2_all['game_id'].str.split('-', expand=True)[2] \n",
    "                           + '-' + mm_data_2_all['game_id'].str.split('-', expand=True)[1]\n",
    "                           ) \n",
    "mm_data_2_all['seed_diff'] = mm_data_2_all['seed_diff']*-1\n",
    "mm_data_2_all['team1_net_eff'] = mm_data_2_all['team1_net_eff']*-1\n",
    "mm_data_2_all.columns = ['team2_id', 'team2_score', 'team1_id', 'team1_score', 'WLoc',\n",
    "       'num_ot', 'team2_position', 'team1_position', 'team2_seed',\n",
    "       'team1_seed', 'strongseed', 'weakseed', 'team2_region',\n",
    "       'team1_region', 'slot', 'team2_teamname', 'team1_teamname',\n",
    "       'season', 'host', 'host_lat', 'host_long', 'team2_lat',\n",
    "       'team2_long', 'team1_lat', 'team1_long', 'team2_coach_id',\n",
    "       'team2_pt_school_ncaa', 'team2_pt_overall_ncaa',\n",
    "       'team2_pt_school_s16', 'team2_pt_overall_s16',\n",
    "       'team2_pt_school_ff', 'team2_pt_overall_ff',\n",
    "       'team2_pt_career_school_wins', 'team2_pt_career_school_losses',\n",
    "       'team2_pt_career_overall_wins', 'team2_pt_career_overall_losses',\n",
    "       'team2_pt_team_season_wins', 'team2_pt_team_season_losses',\n",
    "       'team2_pt_coach_season_wins', 'team2_pt_coach_season_losses',\n",
    "       'team1_coach_id', 'team1_pt_school_ncaa', 'team1_pt_overall_ncaa',\n",
    "       'team1_pt_school_s16', 'team1_pt_overall_s16',\n",
    "       'team1_pt_school_ff', 'team1_pt_overall_ff',\n",
    "       'team1_pt_career_school_wins', 'team1_pt_career_school_losses',\n",
    "       'team1_pt_career_overall_wins', 'team1_pt_career_overall_losses',\n",
    "       'team1_pt_team_season_wins', 'team1_pt_team_season_losses',\n",
    "       'team1_pt_coach_season_wins', 'team1_pt_coach_season_losses',\n",
    "       'team2_ap_final', 'team2_ap_preseason',\n",
    "       'team2_coaches_before_final', 'team2_coaches_preseason',\n",
    "       'team1_ap_final', 'team1_ap_preseason',\n",
    "       'team1_coaches_before_final', 'team1_coaches_preseason',\n",
    "       'team2_fg2pct', 'team2_fg3pct', 'team2_ftpct', 'team2_blockpct',\n",
    "       'team2_oppfg2pct', 'team2_oppfg3pct', 'team2_oppftpct',\n",
    "       'team2_oppblockpct', 'team2_f3grate', 'team2_oppf3grate',\n",
    "       'team2_arate', 'team2_opparate', 'team2_stlrate',\n",
    "       'team2_oppstlrate', 'team1_fg2pct', 'team1_fg3pct', 'team1_ftpct',\n",
    "       'team1_blockpct', 'team1_oppfg2pct', 'team1_oppfg3pct',\n",
    "       'team1_oppftpct', 'team1_oppblockpct', 'team1_f3grate',\n",
    "       'team1_oppf3grate', 'team1_arate', 'team1_opparate',\n",
    "       'team1_stlrate', 'team1_oppstlrate', 'team2_tempo',\n",
    "       'team2_adjtempo', 'team2_oe', 'team2_adjoe', 'team2_de',\n",
    "       'team2_adjde', 'team1_tempo', 'team1_adjtempo', 'team1_oe',\n",
    "       'team1_adjoe', 'team1_de', 'team1_adjde', 'game_id', 'exp_win2',\n",
    "       'exp_win1', 'team1_log5', 'seed_diff','team1_net_eff', 'team1_win']"
   ]
  },
  {
   "cell_type": "code",
   "execution_count": 80,
   "metadata": {
    "id": "J8bKdM8IKbQz"
   },
   "outputs": [],
   "source": [
    "mm_train_all = pd.concat([mm_data_2_all, mm_data_1_all]).reset_index(drop=True)"
   ]
  },
  {
   "cell_type": "code",
   "execution_count": 81,
   "metadata": {
    "id": "CjQeoQalKhZa"
   },
   "outputs": [],
   "source": [
    "mm_train_all.to_csv('New_2022_training_data.csv', index = False)"
   ]
  },
  {
   "cell_type": "code",
   "execution_count": 82,
   "metadata": {
    "colab": {
     "base_uri": "https://localhost:8080/"
    },
    "id": "EcF9yyUfLXvZ",
    "outputId": "6e356833-590c-4085-8c65-2af95f7ae919"
   },
   "outputs": [
    {
     "name": "stderr",
     "output_type": "stream",
     "text": [
      "C:\\ProgramData\\Anaconda3\\lib\\site-packages\\sklearn\\linear_model\\_logistic.py:763: ConvergenceWarning: lbfgs failed to converge (status=1):\n",
      "STOP: TOTAL NO. of ITERATIONS REACHED LIMIT.\n",
      "\n",
      "Increase the number of iterations (max_iter) or scale the data as shown in:\n",
      "    https://scikit-learn.org/stable/modules/preprocessing.html\n",
      "Please also refer to the documentation for alternative solver options:\n",
      "    https://scikit-learn.org/stable/modules/linear_model.html#logistic-regression\n",
      "  n_iter_i = _check_optimize_result(\n"
     ]
    },
    {
     "data": {
      "text/plain": [
       "SVC(probability=True)"
      ]
     },
     "execution_count": 82,
     "metadata": {},
     "output_type": "execute_result"
    }
   ],
   "source": [
    "logit = LogisticRegression()\n",
    "RF = RandomForestClassifier()\n",
    "class_SVC = SVC(probability=True)\n",
    "mlp = MLPClassifier(hidden_layer_sizes=(30,30,30))\n",
    "# list1 = ['WLoc','game_id','team1_score','team2_score','host','slot','team1_coach_id','team1_position','team1_region','team1_teamname','team2_coach_id','team2_position','team2_region','team2_teamname']\n",
    "# train1 = train.drop(list1,axis = 1)\n",
    "\n",
    "list_independent = ['team2_id', 'team1_id',\n",
    "       'team2_seed', 'team1_seed', 'strongseed', 'weakseed', 'season',\n",
    "       'host_lat', 'host_long', 'team2_lat', 'team2_long', 'team1_lat',\n",
    "       'team1_long', 'team2_pt_school_ncaa', 'team2_pt_overall_ncaa',\n",
    "       'team2_pt_school_s16', 'team2_pt_overall_s16', 'team2_pt_school_ff',\n",
    "       'team2_pt_overall_ff', 'team2_pt_career_school_wins',\n",
    "       'team2_pt_career_school_losses', 'team2_pt_career_overall_wins',\n",
    "       'team2_pt_career_overall_losses', 'team2_pt_team_season_wins',\n",
    "       'team2_pt_team_season_losses', 'team2_pt_coach_season_wins',\n",
    "       'team2_pt_coach_season_losses', 'team1_pt_school_ncaa',\n",
    "       'team1_pt_overall_ncaa', 'team1_pt_school_s16', 'team1_pt_overall_s16',\n",
    "       'team1_pt_school_ff', 'team1_pt_overall_ff',\n",
    "       'team1_pt_career_school_wins', 'team1_pt_career_school_losses',\n",
    "       'team1_pt_career_overall_wins', 'team1_pt_career_overall_losses',\n",
    "       'team1_pt_team_season_wins', 'team1_pt_team_season_losses',\n",
    "       'team1_pt_coach_season_wins', 'team1_pt_coach_season_losses',\n",
    "       'team2_fg2pct', 'team2_fg3pct', 'team2_ftpct', 'team2_blockpct',\n",
    "       'team2_oppfg2pct', 'team2_oppfg3pct', 'team2_oppftpct',\n",
    "       'team2_oppblockpct', 'team2_f3grate', 'team2_oppf3grate', 'team2_arate',\n",
    "       'team2_opparate', 'team2_stlrate', 'team2_oppstlrate', 'team1_fg2pct',\n",
    "       'team1_fg3pct', 'team1_ftpct', 'team1_blockpct', 'team1_oppfg2pct',\n",
    "       'team1_oppfg3pct', 'team1_oppftpct', 'team1_oppblockpct',\n",
    "       'team1_f3grate', 'team1_oppf3grate', 'team1_arate', 'team1_opparate',\n",
    "       'team1_stlrate', 'team1_oppstlrate', 'team2_tempo', 'team2_adjtempo',\n",
    "       'team2_oe', 'team2_adjoe', 'team2_de', 'team2_adjde', 'team1_tempo',\n",
    "       'team1_adjtempo', 'team1_oe', 'team1_adjoe', 'team1_de', 'team1_adjde',\n",
    "       'exp_win2', 'exp_win1', 'team1_log5', 'seed_diff', 'team1_net_eff']\n",
    "# list2 = ['team1_ap_final','team1_ap_preseason','team1_coaches_before_final','team1_coaches_preseason','team2_ap_final','team2_ap_preseason','team2_coaches_before_final','team2_coaches_preseason']\n",
    "# train2 = train1.drop(list2,axis = 1)\n",
    "logit.fit(mm_train_all[list_independent], mm_train_all['team1_win'])\n",
    "RF.fit(mm_train_all[list_independent],mm_train_all['team1_win'])\n",
    "mlp.fit(mm_train_all[list_independent],mm_train_all['team1_win'])\n",
    "class_SVC.fit(mm_train_all[list_independent],mm_train_all['team1_win'])\n",
    "\n",
    "# list1 = ['WLoc','game_id','team1_score','team2_score','host','slot','team1_coach_id','team1_position','team1_region','team1_teamname','team2_coach_id','team2_position','team2_region','team2_teamname']\n",
    "# test1 = test.drop(list1,axis = 1)\n",
    "# list2 = ['team1_ap_final','team1_ap_preseason','team1_coaches_before_final','team1_coaches_preseason','team2_ap_final','team2_ap_preseason','team2_coaches_before_final','team2_coaches_preseason']\n",
    "# test2 = test1.drop(list2,axis = 1)\n",
    "\n",
    "\n"
   ]
  },
  {
   "cell_type": "code",
   "execution_count": 83,
   "metadata": {
    "id": "mbpnv-vaQOsw"
   },
   "outputs": [],
   "source": [
    "# pre_2022['prob'] = logit.predict_proba(pre_2022[list_independent])[:,1]\n",
    "# pre_2022['prediction'] = logit.predict(pre_2022[list_independent])\n",
    "# pre_2022 = test1.drop(list2,axis = 1)\n",
    "\n",
    "# pre_2022['prob'] = RF.predict_proba(pre_2022[list_independent])[:,1]\n",
    "# pre_2022['prediction'] = RF.predict(pre_2022[list_independent])\n",
    "# # test4 = test1.drop(list2,axis = 1)\n",
    "\n",
    "# pre_2022['prob'] = mlp.predict_proba(pre_2022[list_independent])[:,1]\n",
    "# pre_2022['prediction'] = mlp.predict(pre_2022[list_independent])\n",
    "# # test5 = test1.drop(list2,axis = 1)\n",
    "\n",
    "pre_2022['prob'] = class_SVC.predict_proba(pre_2022[list_independent])[:,1]\n",
    "pre_2022['prediction'] = class_SVC.predict(pre_2022[list_independent])"
   ]
  },
  {
   "cell_type": "code",
   "execution_count": 84,
   "metadata": {
    "colab": {
     "base_uri": "https://localhost:8080/"
    },
    "id": "8pciht5cF7C3",
    "outputId": "812bdc26-8468-44fd-e416-065b85eecf09"
   },
   "outputs": [
    {
     "name": "stdout",
     "output_type": "stream",
     "text": [
      "       prob  prediction\n",
      "0  0.384688           0\n",
      "1  0.533321           1\n",
      "2  0.530219           1\n",
      "3  0.500000           0\n",
      "4  0.608934           1\n"
     ]
    }
   ],
   "source": [
    "print(pre_2022[['prob','prediction']].head())"
   ]
  },
  {
   "cell_type": "code",
   "execution_count": 85,
   "metadata": {
    "colab": {
     "base_uri": "https://localhost:8080/"
    },
    "id": "gGzEdfYSF7FO",
    "outputId": "14bfae47-6eab-4181-eb68-5c4a7a53ea0c"
   },
   "outputs": [
    {
     "data": {
      "text/plain": [
       "{'WLoc',\n",
       " 'num_ot',\n",
       " 'team1_coaches_before_final',\n",
       " 'team1_score',\n",
       " 'team1_win',\n",
       " 'team2_coaches_before_final',\n",
       " 'team2_score'}"
      ]
     },
     "execution_count": 85,
     "metadata": {},
     "output_type": "execute_result"
    }
   ],
   "source": [
    "a = set(mm_data.columns)\n",
    "b = set(pre_2022.columns)\n",
    "a-b"
   ]
  },
  {
   "cell_type": "code",
   "execution_count": 86,
   "metadata": {
    "id": "HBPFWwx-F7H0"
   },
   "outputs": [],
   "source": [
    "pre_2022[['game_id','prob']].to_csv(\"pre_2022.csv\", index=False)"
   ]
  },
  {
   "cell_type": "code",
   "execution_count": null,
   "metadata": {
    "id": "F3LZdAMDF7KL"
   },
   "outputs": [],
   "source": []
  },
  {
   "cell_type": "code",
   "execution_count": null,
   "metadata": {
    "id": "ZF9U53jmF7My"
   },
   "outputs": [],
   "source": []
  },
  {
   "cell_type": "code",
   "execution_count": null,
   "metadata": {
    "id": "0fYtQnC5F7PJ"
   },
   "outputs": [],
   "source": []
  },
  {
   "cell_type": "markdown",
   "metadata": {
    "id": "mkxlKl-uJfli"
   },
   "source": [
    "# Create Example Submission\n",
    "没用"
   ]
  },
  {
   "cell_type": "markdown",
   "metadata": {
    "id": "nyWUm2eaF1TX"
   },
   "source": []
  },
  {
   "cell_type": "code",
   "execution_count": 87,
   "metadata": {
    "id": "xeS6uXbuJTg9"
   },
   "outputs": [],
   "source": [
    "example_submission = pd.read_csv('NCAA_Tourney_2002_2021.csv').query(\"season==2019\").reset_index(drop=True)"
   ]
  },
  {
   "cell_type": "code",
   "execution_count": 88,
   "metadata": {
    "id": "SGW-Np3yJTjg"
   },
   "outputs": [],
   "source": [
    "example_submission['seed_diff'] = example_submission['team1_seed'] - example_submission['team2_seed']"
   ]
  },
  {
   "cell_type": "code",
   "execution_count": 89,
   "metadata": {
    "id": "Z3JDfOJDJTmB"
   },
   "outputs": [
    {
     "ename": "PatsyError",
     "evalue": "predict requires that you use a DataFrame when predicting from a model\nthat was created using the formula api.\n\nThe original error message returned by patsy is:\nError evaluating factor: NameError: name 'team1_log5' is not defined\n    team1_win ~ team1_log5\n                ^^^^^^^^^^",
     "output_type": "error",
     "traceback": [
      "\u001b[1;31m---------------------------------------------------------------------------\u001b[0m",
      "\u001b[1;31mNameError\u001b[0m                                 Traceback (most recent call last)",
      "\u001b[1;32mC:\\ProgramData\\Anaconda3\\lib\\site-packages\\patsy\\compat.py\u001b[0m in \u001b[0;36mcall_and_wrap_exc\u001b[1;34m(msg, origin, f, *args, **kwargs)\u001b[0m\n\u001b[0;32m     35\u001b[0m     \u001b[1;32mtry\u001b[0m\u001b[1;33m:\u001b[0m\u001b[1;33m\u001b[0m\u001b[1;33m\u001b[0m\u001b[0m\n\u001b[1;32m---> 36\u001b[1;33m         \u001b[1;32mreturn\u001b[0m \u001b[0mf\u001b[0m\u001b[1;33m(\u001b[0m\u001b[1;33m*\u001b[0m\u001b[0margs\u001b[0m\u001b[1;33m,\u001b[0m \u001b[1;33m**\u001b[0m\u001b[0mkwargs\u001b[0m\u001b[1;33m)\u001b[0m\u001b[1;33m\u001b[0m\u001b[1;33m\u001b[0m\u001b[0m\n\u001b[0m\u001b[0;32m     37\u001b[0m     \u001b[1;32mexcept\u001b[0m \u001b[0mException\u001b[0m \u001b[1;32mas\u001b[0m \u001b[0me\u001b[0m\u001b[1;33m:\u001b[0m\u001b[1;33m\u001b[0m\u001b[1;33m\u001b[0m\u001b[0m\n",
      "\u001b[1;32mC:\\ProgramData\\Anaconda3\\lib\\site-packages\\patsy\\eval.py\u001b[0m in \u001b[0;36meval\u001b[1;34m(self, expr, source_name, inner_namespace)\u001b[0m\n\u001b[0;32m    164\u001b[0m         \u001b[0mcode\u001b[0m \u001b[1;33m=\u001b[0m \u001b[0mcompile\u001b[0m\u001b[1;33m(\u001b[0m\u001b[0mexpr\u001b[0m\u001b[1;33m,\u001b[0m \u001b[0msource_name\u001b[0m\u001b[1;33m,\u001b[0m \u001b[1;34m\"eval\"\u001b[0m\u001b[1;33m,\u001b[0m \u001b[0mself\u001b[0m\u001b[1;33m.\u001b[0m\u001b[0mflags\u001b[0m\u001b[1;33m,\u001b[0m \u001b[1;32mFalse\u001b[0m\u001b[1;33m)\u001b[0m\u001b[1;33m\u001b[0m\u001b[1;33m\u001b[0m\u001b[0m\n\u001b[1;32m--> 165\u001b[1;33m         return eval(code, {}, VarLookupDict([inner_namespace]\n\u001b[0m\u001b[0;32m    166\u001b[0m                                             + self._namespaces))\n",
      "\u001b[1;32m<string>\u001b[0m in \u001b[0;36m<module>\u001b[1;34m\u001b[0m\n",
      "\u001b[1;31mNameError\u001b[0m: name 'team1_log5' is not defined",
      "\nThe above exception was the direct cause of the following exception:\n",
      "\u001b[1;31mPatsyError\u001b[0m                                Traceback (most recent call last)",
      "\u001b[1;32mC:\\ProgramData\\Anaconda3\\lib\\site-packages\\statsmodels\\base\\model.py\u001b[0m in \u001b[0;36mpredict\u001b[1;34m(self, exog, transform, *args, **kwargs)\u001b[0m\n\u001b[0;32m   1076\u001b[0m             \u001b[1;32mtry\u001b[0m\u001b[1;33m:\u001b[0m\u001b[1;33m\u001b[0m\u001b[1;33m\u001b[0m\u001b[0m\n\u001b[1;32m-> 1077\u001b[1;33m                 \u001b[0mexog\u001b[0m \u001b[1;33m=\u001b[0m \u001b[0mdmatrix\u001b[0m\u001b[1;33m(\u001b[0m\u001b[0mdesign_info\u001b[0m\u001b[1;33m,\u001b[0m \u001b[0mexog\u001b[0m\u001b[1;33m,\u001b[0m \u001b[0mreturn_type\u001b[0m\u001b[1;33m=\u001b[0m\u001b[1;34m\"dataframe\"\u001b[0m\u001b[1;33m)\u001b[0m\u001b[1;33m\u001b[0m\u001b[1;33m\u001b[0m\u001b[0m\n\u001b[0m\u001b[0;32m   1078\u001b[0m             \u001b[1;32mexcept\u001b[0m \u001b[0mException\u001b[0m \u001b[1;32mas\u001b[0m \u001b[0mexc\u001b[0m\u001b[1;33m:\u001b[0m\u001b[1;33m\u001b[0m\u001b[1;33m\u001b[0m\u001b[0m\n",
      "\u001b[1;32mC:\\ProgramData\\Anaconda3\\lib\\site-packages\\patsy\\highlevel.py\u001b[0m in \u001b[0;36mdmatrix\u001b[1;34m(formula_like, data, eval_env, NA_action, return_type)\u001b[0m\n\u001b[0;32m    289\u001b[0m     \u001b[0meval_env\u001b[0m \u001b[1;33m=\u001b[0m \u001b[0mEvalEnvironment\u001b[0m\u001b[1;33m.\u001b[0m\u001b[0mcapture\u001b[0m\u001b[1;33m(\u001b[0m\u001b[0meval_env\u001b[0m\u001b[1;33m,\u001b[0m \u001b[0mreference\u001b[0m\u001b[1;33m=\u001b[0m\u001b[1;36m1\u001b[0m\u001b[1;33m)\u001b[0m\u001b[1;33m\u001b[0m\u001b[1;33m\u001b[0m\u001b[0m\n\u001b[1;32m--> 290\u001b[1;33m     (lhs, rhs) = _do_highlevel_design(formula_like, data, eval_env,\n\u001b[0m\u001b[0;32m    291\u001b[0m                                       NA_action, return_type)\n",
      "\u001b[1;32mC:\\ProgramData\\Anaconda3\\lib\\site-packages\\patsy\\highlevel.py\u001b[0m in \u001b[0;36m_do_highlevel_design\u001b[1;34m(formula_like, data, eval_env, NA_action, return_type)\u001b[0m\n\u001b[0;32m    166\u001b[0m     \u001b[1;32mif\u001b[0m \u001b[0mdesign_infos\u001b[0m \u001b[1;32mis\u001b[0m \u001b[1;32mnot\u001b[0m \u001b[1;32mNone\u001b[0m\u001b[1;33m:\u001b[0m\u001b[1;33m\u001b[0m\u001b[1;33m\u001b[0m\u001b[0m\n\u001b[1;32m--> 167\u001b[1;33m         return build_design_matrices(design_infos, data,\n\u001b[0m\u001b[0;32m    168\u001b[0m                                      \u001b[0mNA_action\u001b[0m\u001b[1;33m=\u001b[0m\u001b[0mNA_action\u001b[0m\u001b[1;33m,\u001b[0m\u001b[1;33m\u001b[0m\u001b[1;33m\u001b[0m\u001b[0m\n",
      "\u001b[1;32mC:\\ProgramData\\Anaconda3\\lib\\site-packages\\patsy\\build.py\u001b[0m in \u001b[0;36mbuild_design_matrices\u001b[1;34m(design_infos, data, NA_action, return_type, dtype)\u001b[0m\n\u001b[0;32m    887\u001b[0m             \u001b[1;32mif\u001b[0m \u001b[0mfactor_info\u001b[0m \u001b[1;32mnot\u001b[0m \u001b[1;32min\u001b[0m \u001b[0mfactor_info_to_values\u001b[0m\u001b[1;33m:\u001b[0m\u001b[1;33m\u001b[0m\u001b[1;33m\u001b[0m\u001b[0m\n\u001b[1;32m--> 888\u001b[1;33m                 \u001b[0mvalue\u001b[0m\u001b[1;33m,\u001b[0m \u001b[0mis_NA\u001b[0m \u001b[1;33m=\u001b[0m \u001b[0m_eval_factor\u001b[0m\u001b[1;33m(\u001b[0m\u001b[0mfactor_info\u001b[0m\u001b[1;33m,\u001b[0m \u001b[0mdata\u001b[0m\u001b[1;33m,\u001b[0m \u001b[0mNA_action\u001b[0m\u001b[1;33m)\u001b[0m\u001b[1;33m\u001b[0m\u001b[1;33m\u001b[0m\u001b[0m\n\u001b[0m\u001b[0;32m    889\u001b[0m                 \u001b[0mfactor_info_to_isNAs\u001b[0m\u001b[1;33m[\u001b[0m\u001b[0mfactor_info\u001b[0m\u001b[1;33m]\u001b[0m \u001b[1;33m=\u001b[0m \u001b[0mis_NA\u001b[0m\u001b[1;33m\u001b[0m\u001b[1;33m\u001b[0m\u001b[0m\n",
      "\u001b[1;32mC:\\ProgramData\\Anaconda3\\lib\\site-packages\\patsy\\build.py\u001b[0m in \u001b[0;36m_eval_factor\u001b[1;34m(factor_info, data, NA_action)\u001b[0m\n\u001b[0;32m     62\u001b[0m     \u001b[0mfactor\u001b[0m \u001b[1;33m=\u001b[0m \u001b[0mfactor_info\u001b[0m\u001b[1;33m.\u001b[0m\u001b[0mfactor\u001b[0m\u001b[1;33m\u001b[0m\u001b[1;33m\u001b[0m\u001b[0m\n\u001b[1;32m---> 63\u001b[1;33m     \u001b[0mresult\u001b[0m \u001b[1;33m=\u001b[0m \u001b[0mfactor\u001b[0m\u001b[1;33m.\u001b[0m\u001b[0meval\u001b[0m\u001b[1;33m(\u001b[0m\u001b[0mfactor_info\u001b[0m\u001b[1;33m.\u001b[0m\u001b[0mstate\u001b[0m\u001b[1;33m,\u001b[0m \u001b[0mdata\u001b[0m\u001b[1;33m)\u001b[0m\u001b[1;33m\u001b[0m\u001b[1;33m\u001b[0m\u001b[0m\n\u001b[0m\u001b[0;32m     64\u001b[0m     \u001b[1;31m# Returns either a 2d ndarray, or a DataFrame, plus is_NA mask\u001b[0m\u001b[1;33m\u001b[0m\u001b[1;33m\u001b[0m\u001b[0m\n",
      "\u001b[1;32mC:\\ProgramData\\Anaconda3\\lib\\site-packages\\patsy\\eval.py\u001b[0m in \u001b[0;36meval\u001b[1;34m(self, memorize_state, data)\u001b[0m\n\u001b[0;32m    563\u001b[0m     \u001b[1;32mdef\u001b[0m \u001b[0meval\u001b[0m\u001b[1;33m(\u001b[0m\u001b[0mself\u001b[0m\u001b[1;33m,\u001b[0m \u001b[0mmemorize_state\u001b[0m\u001b[1;33m,\u001b[0m \u001b[0mdata\u001b[0m\u001b[1;33m)\u001b[0m\u001b[1;33m:\u001b[0m\u001b[1;33m\u001b[0m\u001b[1;33m\u001b[0m\u001b[0m\n\u001b[1;32m--> 564\u001b[1;33m         return self._eval(memorize_state[\"eval_code\"],\n\u001b[0m\u001b[0;32m    565\u001b[0m                           \u001b[0mmemorize_state\u001b[0m\u001b[1;33m,\u001b[0m\u001b[1;33m\u001b[0m\u001b[1;33m\u001b[0m\u001b[0m\n",
      "\u001b[1;32mC:\\ProgramData\\Anaconda3\\lib\\site-packages\\patsy\\eval.py\u001b[0m in \u001b[0;36m_eval\u001b[1;34m(self, code, memorize_state, data)\u001b[0m\n\u001b[0;32m    546\u001b[0m         \u001b[0minner_namespace\u001b[0m \u001b[1;33m=\u001b[0m \u001b[0mVarLookupDict\u001b[0m\u001b[1;33m(\u001b[0m\u001b[1;33m[\u001b[0m\u001b[0mdata\u001b[0m\u001b[1;33m,\u001b[0m \u001b[0mmemorize_state\u001b[0m\u001b[1;33m[\u001b[0m\u001b[1;34m\"transforms\"\u001b[0m\u001b[1;33m]\u001b[0m\u001b[1;33m]\u001b[0m\u001b[1;33m)\u001b[0m\u001b[1;33m\u001b[0m\u001b[1;33m\u001b[0m\u001b[0m\n\u001b[1;32m--> 547\u001b[1;33m         return call_and_wrap_exc(\"Error evaluating factor\",\n\u001b[0m\u001b[0;32m    548\u001b[0m                                  \u001b[0mself\u001b[0m\u001b[1;33m,\u001b[0m\u001b[1;33m\u001b[0m\u001b[1;33m\u001b[0m\u001b[0m\n",
      "\u001b[1;32mC:\\ProgramData\\Anaconda3\\lib\\site-packages\\patsy\\compat.py\u001b[0m in \u001b[0;36mcall_and_wrap_exc\u001b[1;34m(msg, origin, f, *args, **kwargs)\u001b[0m\n\u001b[0;32m     42\u001b[0m             \u001b[1;31m# Use 'exec' to hide this syntax from the Python 2 parser:\u001b[0m\u001b[1;33m\u001b[0m\u001b[1;33m\u001b[0m\u001b[0m\n\u001b[1;32m---> 43\u001b[1;33m             \u001b[0mexec\u001b[0m\u001b[1;33m(\u001b[0m\u001b[1;34m\"raise new_exc from e\"\u001b[0m\u001b[1;33m)\u001b[0m\u001b[1;33m\u001b[0m\u001b[1;33m\u001b[0m\u001b[0m\n\u001b[0m\u001b[0;32m     44\u001b[0m         \u001b[1;32melse\u001b[0m\u001b[1;33m:\u001b[0m\u001b[1;33m\u001b[0m\u001b[1;33m\u001b[0m\u001b[0m\n",
      "\u001b[1;32mC:\\ProgramData\\Anaconda3\\lib\\site-packages\\patsy\\compat.py\u001b[0m in \u001b[0;36m<module>\u001b[1;34m\u001b[0m\n",
      "\u001b[1;31mPatsyError\u001b[0m: Error evaluating factor: NameError: name 'team1_log5' is not defined\n    team1_win ~ team1_log5\n                ^^^^^^^^^^",
      "\nDuring handling of the above exception, another exception occurred:\n",
      "\u001b[1;31mPatsyError\u001b[0m                                Traceback (most recent call last)",
      "\u001b[1;32m~\\AppData\\Local\\Temp/ipykernel_23576/4156062045.py\u001b[0m in \u001b[0;36m<module>\u001b[1;34m\u001b[0m\n\u001b[1;32m----> 1\u001b[1;33m \u001b[0mexample_submission\u001b[0m\u001b[1;33m[\u001b[0m\u001b[1;34m'prob'\u001b[0m\u001b[1;33m]\u001b[0m \u001b[1;33m=\u001b[0m \u001b[0mseed_smlogit\u001b[0m\u001b[1;33m.\u001b[0m\u001b[0mpredict\u001b[0m\u001b[1;33m(\u001b[0m\u001b[0mexample_submission\u001b[0m\u001b[1;33m[\u001b[0m\u001b[1;34m'seed_diff'\u001b[0m\u001b[1;33m]\u001b[0m\u001b[1;33m)\u001b[0m\u001b[1;33m\u001b[0m\u001b[1;33m\u001b[0m\u001b[0m\n\u001b[0m",
      "\u001b[1;32mC:\\ProgramData\\Anaconda3\\lib\\site-packages\\statsmodels\\base\\model.py\u001b[0m in \u001b[0;36mpredict\u001b[1;34m(self, exog, transform, *args, **kwargs)\u001b[0m\n\u001b[0;32m   1082\u001b[0m                        \u001b[1;34m'\\n\\nThe original error message returned by patsy is:\\n'\u001b[0m\u001b[1;33m\u001b[0m\u001b[1;33m\u001b[0m\u001b[0m\n\u001b[0;32m   1083\u001b[0m                        '{0}'.format(str(str(exc))))\n\u001b[1;32m-> 1084\u001b[1;33m                 \u001b[1;32mraise\u001b[0m \u001b[0mexc\u001b[0m\u001b[1;33m.\u001b[0m\u001b[0m__class__\u001b[0m\u001b[1;33m(\u001b[0m\u001b[0mmsg\u001b[0m\u001b[1;33m)\u001b[0m\u001b[1;33m\u001b[0m\u001b[1;33m\u001b[0m\u001b[0m\n\u001b[0m\u001b[0;32m   1085\u001b[0m             \u001b[1;32mif\u001b[0m \u001b[0morig_exog_len\u001b[0m \u001b[1;33m>\u001b[0m \u001b[0mlen\u001b[0m\u001b[1;33m(\u001b[0m\u001b[0mexog\u001b[0m\u001b[1;33m)\u001b[0m \u001b[1;32mand\u001b[0m \u001b[1;32mnot\u001b[0m \u001b[0mis_dict\u001b[0m\u001b[1;33m:\u001b[0m\u001b[1;33m\u001b[0m\u001b[1;33m\u001b[0m\u001b[0m\n\u001b[0;32m   1086\u001b[0m                 \u001b[1;32mif\u001b[0m \u001b[0mexog_index\u001b[0m \u001b[1;32mis\u001b[0m \u001b[1;32mNone\u001b[0m\u001b[1;33m:\u001b[0m\u001b[1;33m\u001b[0m\u001b[1;33m\u001b[0m\u001b[0m\n",
      "\u001b[1;31mPatsyError\u001b[0m: predict requires that you use a DataFrame when predicting from a model\nthat was created using the formula api.\n\nThe original error message returned by patsy is:\nError evaluating factor: NameError: name 'team1_log5' is not defined\n    team1_win ~ team1_log5\n                ^^^^^^^^^^"
     ]
    }
   ],
   "source": [
    "example_submission['prob'] = seed_smlogit.predict(example_submission['seed_diff'])"
   ]
  },
  {
   "cell_type": "code",
   "execution_count": null,
   "metadata": {
    "id": "5A6DKwLTJTor"
   },
   "outputs": [],
   "source": [
    "example_submission[['game_id','prob']].head()"
   ]
  },
  {
   "cell_type": "code",
   "execution_count": null,
   "metadata": {
    "id": "-J7zCyCAJTrK"
   },
   "outputs": [],
   "source": [
    "example_submission[['game_id','prob']].shape"
   ]
  },
  {
   "cell_type": "code",
   "execution_count": null,
   "metadata": {
    "id": "hEXtTvjFJTtp"
   },
   "outputs": [],
   "source": [
    "example_submission[['game_id','prob']].to_csv(\"trp_example_submission.csv\", index=False)"
   ]
  }
 ],
 "metadata": {
  "colab": {
   "collapsed_sections": [],
   "name": "March_Madness_v2.ipynb",
   "provenance": []
  },
  "kernelspec": {
   "display_name": "Python 3 (ipykernel)",
   "language": "python",
   "name": "python3"
  },
  "language_info": {
   "codemirror_mode": {
    "name": "ipython",
    "version": 3
   },
   "file_extension": ".py",
   "mimetype": "text/x-python",
   "name": "python",
   "nbconvert_exporter": "python",
   "pygments_lexer": "ipython3",
   "version": "3.9.12"
  }
 },
 "nbformat": 4,
 "nbformat_minor": 1
}
